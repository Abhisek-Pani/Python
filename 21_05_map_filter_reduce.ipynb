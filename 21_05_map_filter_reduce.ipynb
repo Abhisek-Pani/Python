{
 "cells": [
  {
   "cell_type": "markdown",
   "id": "68acf1bd",
   "metadata": {},
   "source": [
    "## Map Filter and Reduce \n",
    "-used to reduce the time of the user "
   ]
  },
  {
   "cell_type": "code",
   "execution_count": 6,
   "id": "b48d8d0e",
   "metadata": {},
   "outputs": [
    {
     "name": "stdout",
     "output_type": "stream",
     "text": [
      "2 4 6 8 10 "
     ]
    }
   ],
   "source": [
    "#find the even numbers from 1 to 11:\n",
    "\n",
    "for i in range (1,11):\n",
    "    if i %2 == 0:\n",
    "        print(i,end=' ')\n",
    "    "
   ]
  },
  {
   "cell_type": "code",
   "execution_count": 11,
   "id": "777ab62a",
   "metadata": {},
   "outputs": [
    {
     "name": "stdout",
     "output_type": "stream",
     "text": [
      "2 4 6 8 10 "
     ]
    }
   ],
   "source": [
    "#find the even numbers from 1 to 11 using function:\n",
    "\n",
    "def even_odd():\n",
    "    for i in range (1,11):\n",
    "        if i %2 == 0:\n",
    "            print(i,end=' ')\n",
    "even_odd()\n",
    "    "
   ]
  },
  {
   "cell_type": "code",
   "execution_count": null,
   "id": "00985f14",
   "metadata": {},
   "outputs": [],
   "source": []
  },
  {
   "cell_type": "code",
   "execution_count": null,
   "id": "0776cdb6",
   "metadata": {},
   "outputs": [],
   "source": [
    "#map : reduces work as there is no need of loop [everything is taken care by map]\n",
    "# map = syntax (function, arguments)"
   ]
  },
  {
   "cell_type": "code",
   "execution_count": 17,
   "id": "08618fe9",
   "metadata": {},
   "outputs": [
    {
     "name": "stdout",
     "output_type": "stream",
     "text": [
      "['False', 'None', 'True', 'and', 'as', 'assert', 'async', 'await', 'break', 'class', 'continue', 'def', 'del', 'elif', 'else', 'except', 'finally', 'for', 'from', 'global', 'if', 'import', 'in', 'is', 'lambda', 'nonlocal', 'not', 'or', 'pass', 'raise', 'return', 'try', 'while', 'with', 'yield']\n"
     ]
    }
   ],
   "source": [
    "# find the number of keywords in python\n",
    "\n",
    "import keyword\n",
    "print(keyword.kwlist)"
   ]
  },
  {
   "cell_type": "code",
   "execution_count": null,
   "id": "31711bdf",
   "metadata": {},
   "outputs": [],
   "source": [
    "# maps and filter are 2 things working for loops and is saved in memory"
   ]
  },
  {
   "cell_type": "code",
   "execution_count": null,
   "id": "9c031895",
   "metadata": {},
   "outputs": [],
   "source": [
    "# if condition does not satisfies it returns none "
   ]
  },
  {
   "cell_type": "code",
   "execution_count": 32,
   "id": "2541ec3c",
   "metadata": {},
   "outputs": [],
   "source": [
    "def map_fuc(number):\n",
    "    if number % 2 == 0:\n",
    "        return number "
   ]
  },
  {
   "cell_type": "code",
   "execution_count": 33,
   "id": "b1f8f27f",
   "metadata": {},
   "outputs": [
    {
     "name": "stdout",
     "output_type": "stream",
     "text": [
      "[10, 20, None, 14, 22, 46, 88, None, None]\n"
     ]
    }
   ],
   "source": [
    "#map(function_name, values)\n",
    "sol= map(map_fuc,[10,20,17,14,22,46,88,31,23])\n",
    "print(list(sol))   #list will pullout the result values \n"
   ]
  },
  {
   "cell_type": "code",
   "execution_count": 22,
   "id": "de3d6e9b",
   "metadata": {},
   "outputs": [],
   "source": [
    "# <map object at 0x00000192B14C85B0> means memory location"
   ]
  },
  {
   "cell_type": "code",
   "execution_count": 34,
   "id": "d4bc20a8",
   "metadata": {},
   "outputs": [
    {
     "name": "stdout",
     "output_type": "stream",
     "text": [
      "[1, 2, 3, 4, 5, 6, 7, 8, 9, 10, 11, 12, 13, 14, 15, 16, 17, 18, 19, 20]\n"
     ]
    }
   ],
   "source": [
    "# find even and odd :\n",
    "\n",
    "values=[]\n",
    "for i in range (1,21):\n",
    "    values.append(i)\n",
    "print(values)\n"
   ]
  },
  {
   "cell_type": "code",
   "execution_count": 45,
   "id": "75ac11ef",
   "metadata": {},
   "outputs": [],
   "source": [
    "def map_fun(number):\n",
    "    if number%2 == 0 :\n",
    "        return 'even',number\n",
    "    else :\n",
    "        return 'odd',number \n",
    "\n"
   ]
  },
  {
   "cell_type": "code",
   "execution_count": 46,
   "id": "21eab757",
   "metadata": {},
   "outputs": [
    {
     "name": "stdout",
     "output_type": "stream",
     "text": [
      "[('odd', 1), ('even', 2), ('odd', 3), ('even', 4), ('odd', 5), ('even', 6), ('odd', 7), ('even', 8), ('odd', 9), ('even', 10), ('odd', 11), ('even', 12), ('odd', 13), ('even', 14), ('odd', 15), ('even', 16), ('odd', 17), ('even', 18), ('odd', 19), ('even', 20)]\n"
     ]
    }
   ],
   "source": [
    "sol = map (map_fun , values)\n",
    "print(list(sol))"
   ]
  },
  {
   "cell_type": "code",
   "execution_count": 47,
   "id": "2dbd8b8a",
   "metadata": {},
   "outputs": [
    {
     "name": "stdout",
     "output_type": "stream",
     "text": [
      "[20, 30, 40, 50]\n"
     ]
    }
   ],
   "source": [
    "#lambda with map :\n",
    "\n",
    "a=[10,20,30,40]\n",
    "sol = list(map (lambda x : x + 10, a)) \n",
    "print(sol)\n"
   ]
  },
  {
   "cell_type": "code",
   "execution_count": 48,
   "id": "b78ef9be",
   "metadata": {},
   "outputs": [
    {
     "name": "stdout",
     "output_type": "stream",
     "text": [
      "[False, True, True, True]\n"
     ]
    }
   ],
   "source": [
    "#condition: \n",
    "a=[10,20,30,40]\n",
    "sol = list(map (lambda x : x > 10, a)) \n",
    "print(sol)\n"
   ]
  },
  {
   "cell_type": "code",
   "execution_count": null,
   "id": "e9d7f338",
   "metadata": {},
   "outputs": [],
   "source": [
    "# Filter function:\n",
    "# for map and filter , small difference : map gives none if doesnt satify the condition but filter does not take into consideration \n"
   ]
  },
  {
   "cell_type": "code",
   "execution_count": null,
   "id": "4af7056a",
   "metadata": {},
   "outputs": [],
   "source": [
    "def map_fuc(number):\n",
    "    if number % 2 == 0:\n",
    "        return number "
   ]
  },
  {
   "cell_type": "code",
   "execution_count": 49,
   "id": "35bb38f3",
   "metadata": {},
   "outputs": [
    {
     "name": "stdout",
     "output_type": "stream",
     "text": [
      "[10, 20, 14, 22, 46, 88]\n"
     ]
    }
   ],
   "source": [
    "#filter(function_name, values)\n",
    "sol= filter(map_fuc,[10,20,17,14,22,46,88,31,23])\n",
    "print(list(sol))   #list will pullout the result values \n"
   ]
  },
  {
   "cell_type": "code",
   "execution_count": 59,
   "id": "33c6f37e",
   "metadata": {},
   "outputs": [
    {
     "name": "stdout",
     "output_type": "stream",
     "text": [
      "[10, 20, 30, 40]\n"
     ]
    }
   ],
   "source": [
    "#lambda with filter :\n",
    "# filter will only takes the condition not the math operation \n",
    "a=[10,20,30,40]\n",
    "sol = (filter (lambda x : x + 10, a)) \n",
    "print(list(sol))"
   ]
  },
  {
   "cell_type": "code",
   "execution_count": 56,
   "id": "15882046",
   "metadata": {},
   "outputs": [
    {
     "name": "stdout",
     "output_type": "stream",
     "text": [
      "[20, 30, 40]\n"
     ]
    }
   ],
   "source": [
    "a=[10,20,30,40]\n",
    "sol = list(filter (lambda x : x > 10, a)) \n",
    "print(sol)\n"
   ]
  },
  {
   "cell_type": "code",
   "execution_count": null,
   "id": "36289f7c",
   "metadata": {},
   "outputs": [],
   "source": [
    "# in real time these functions are really time consuming process:\n"
   ]
  },
  {
   "cell_type": "code",
   "execution_count": 60,
   "id": "ee522a86",
   "metadata": {},
   "outputs": [],
   "source": [
    "#Reduce function \n",
    "\n",
    "from functools import reduce"
   ]
  },
  {
   "cell_type": "code",
   "execution_count": 61,
   "id": "61fd8200",
   "metadata": {},
   "outputs": [
    {
     "name": "stdout",
     "output_type": "stream",
     "text": [
      "150\n"
     ]
    }
   ],
   "source": [
    "sol= reduce(lambda x,y : x+y , [10,20,30,40,50])\n",
    "print(sol)"
   ]
  },
  {
   "cell_type": "code",
   "execution_count": 66,
   "id": "03d6a8c8",
   "metadata": {},
   "outputs": [
    {
     "name": "stdout",
     "output_type": "stream",
     "text": [
      "[30, 40, 50, 60, 70]\n"
     ]
    }
   ],
   "source": [
    "#filter with map :\n",
    "\n",
    "a=[10,20,30,40,50,60]\n",
    "sol = map(lambda x : x + 10 , filter (lambda x : x > 10 , a))\n",
    "print(list(sol))"
   ]
  },
  {
   "cell_type": "code",
   "execution_count": 68,
   "id": "f41f42d5",
   "metadata": {},
   "outputs": [
    {
     "name": "stdout",
     "output_type": "stream",
     "text": [
      "[20, 22, 24]\n"
     ]
    }
   ],
   "source": [
    "# map with filter :\n",
    "\n",
    "a=[10,11,12,13,14]\n",
    "sol= filter(lambda x : x%2 == 0 , map(lambda x : x+10 ,a ))\n",
    "print(list(sol))\n",
    "\n"
   ]
  },
  {
   "cell_type": "code",
   "execution_count": 75,
   "id": "9284672d",
   "metadata": {},
   "outputs": [
    {
     "name": "stdout",
     "output_type": "stream",
     "text": [
      "55\n"
     ]
    }
   ],
   "source": [
    "# reduce with map and filter :\n",
    "\n",
    "a=[10,15,20]\n",
    "\n",
    "sol= reduce(lambda x, y : x+y , filter(lambda x : x >20 , map(lambda x : x + 10, a )))\n",
    "print(sol)"
   ]
  },
  {
   "cell_type": "code",
   "execution_count": 2,
   "id": "1a766fbf",
   "metadata": {},
   "outputs": [
    {
     "ename": "ModuleNotFoundError",
     "evalue": "No module named 'function_power'",
     "output_type": "error",
     "traceback": [
      "\u001b[1;31m---------------------------------------------------------------------------\u001b[0m",
      "\u001b[1;31mModuleNotFoundError\u001b[0m                       Traceback (most recent call last)",
      "Cell \u001b[1;32mIn[2], line 1\u001b[0m\n\u001b[1;32m----> 1\u001b[0m \u001b[38;5;28;01mfrom\u001b[39;00m \u001b[38;5;21;01mfunction_power\u001b[39;00m \u001b[38;5;28;01mimport\u001b[39;00m math_operation\n",
      "\u001b[1;31mModuleNotFoundError\u001b[0m: No module named 'function_power'"
     ]
    }
   ],
   "source": []
  },
  {
   "cell_type": "code",
   "execution_count": null,
   "id": "c914da08",
   "metadata": {},
   "outputs": [],
   "source": []
  },
  {
   "cell_type": "code",
   "execution_count": null,
   "id": "898c4867",
   "metadata": {},
   "outputs": [],
   "source": []
  },
  {
   "cell_type": "code",
   "execution_count": null,
   "id": "217e8193",
   "metadata": {},
   "outputs": [],
   "source": []
  },
  {
   "cell_type": "code",
   "execution_count": null,
   "id": "ff85af69",
   "metadata": {},
   "outputs": [],
   "source": []
  },
  {
   "cell_type": "code",
   "execution_count": null,
   "id": "b0fa8525",
   "metadata": {},
   "outputs": [],
   "source": []
  },
  {
   "cell_type": "code",
   "execution_count": null,
   "id": "69f98ed3",
   "metadata": {},
   "outputs": [],
   "source": []
  },
  {
   "cell_type": "code",
   "execution_count": null,
   "id": "5d6f0a5a",
   "metadata": {},
   "outputs": [],
   "source": []
  },
  {
   "cell_type": "code",
   "execution_count": null,
   "id": "c2fb3aca",
   "metadata": {},
   "outputs": [],
   "source": []
  },
  {
   "cell_type": "code",
   "execution_count": null,
   "id": "566d9c39",
   "metadata": {},
   "outputs": [],
   "source": []
  },
  {
   "cell_type": "code",
   "execution_count": null,
   "id": "20ea85d7",
   "metadata": {},
   "outputs": [],
   "source": []
  },
  {
   "cell_type": "code",
   "execution_count": null,
   "id": "bea64483",
   "metadata": {},
   "outputs": [],
   "source": []
  },
  {
   "cell_type": "code",
   "execution_count": null,
   "id": "7a43a1ee",
   "metadata": {},
   "outputs": [],
   "source": []
  },
  {
   "cell_type": "code",
   "execution_count": null,
   "id": "108dd1c0",
   "metadata": {},
   "outputs": [],
   "source": []
  },
  {
   "cell_type": "code",
   "execution_count": null,
   "id": "aef5fd20",
   "metadata": {},
   "outputs": [],
   "source": []
  },
  {
   "cell_type": "code",
   "execution_count": null,
   "id": "58d0509b",
   "metadata": {},
   "outputs": [],
   "source": []
  }
 ],
 "metadata": {
  "kernelspec": {
   "display_name": "Python 3 (ipykernel)",
   "language": "python",
   "name": "python3"
  },
  "language_info": {
   "codemirror_mode": {
    "name": "ipython",
    "version": 3
   },
   "file_extension": ".py",
   "mimetype": "text/x-python",
   "name": "python",
   "nbconvert_exporter": "python",
   "pygments_lexer": "ipython3",
   "version": "3.10.9"
  }
 },
 "nbformat": 4,
 "nbformat_minor": 5
}
