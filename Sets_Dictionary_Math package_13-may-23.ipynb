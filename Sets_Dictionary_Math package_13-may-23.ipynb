{
 "cells": [
  {
   "cell_type": "markdown",
   "id": "0c804501",
   "metadata": {},
   "source": [
    "## Sets in Python\n"
   ]
  },
  {
   "cell_type": "code",
   "execution_count": null,
   "id": "bb6ddeb5",
   "metadata": {},
   "outputs": [],
   "source": [
    "#Strings ''\n",
    "#Lists []\n",
    "#tuple ()\n",
    "#sets {}\n",
    "#dictionary {} with key value"
   ]
  },
  {
   "cell_type": "code",
   "execution_count": null,
   "id": "7a50300e",
   "metadata": {},
   "outputs": [],
   "source": [
    "#sets are mutable .\n",
    "#sets can be represented as {} = flower bracket\n",
    "#sets can accept any data type.\n"
   ]
  },
  {
   "cell_type": "code",
   "execution_count": 2,
   "id": "5cbca582",
   "metadata": {},
   "outputs": [
    {
     "name": "stdout",
     "output_type": "stream",
     "text": [
      "{10, 20, 'python'}\n"
     ]
    }
   ],
   "source": [
    "a={10,20,\"python\"}\n",
    "print(a)"
   ]
  },
  {
   "cell_type": "code",
   "execution_count": 11,
   "id": "e0725231",
   "metadata": {},
   "outputs": [
    {
     "name": "stdout",
     "output_type": "stream",
     "text": [
      "<class 'list'>\n"
     ]
    }
   ],
   "source": [
    "print(type(a))"
   ]
  },
  {
   "cell_type": "code",
   "execution_count": 12,
   "id": "83e73c0d",
   "metadata": {},
   "outputs": [],
   "source": [
    "# if data is mutabe; then prove\n",
    "#add data , \n",
    "#insert data at any position\n",
    "#delete data space"
   ]
  },
  {
   "cell_type": "code",
   "execution_count": 15,
   "id": "a128706d",
   "metadata": {},
   "outputs": [
    {
     "name": "stdout",
     "output_type": "stream",
     "text": [
      "{10, 20, 'python'}\n"
     ]
    }
   ],
   "source": [
    "#Adding data / memory space using add method\n",
    "\n",
    "a={10,20,'python'}\n",
    "print(a)"
   ]
  },
  {
   "cell_type": "code",
   "execution_count": 17,
   "id": "81caf74c",
   "metadata": {},
   "outputs": [
    {
     "name": "stdout",
     "output_type": "stream",
     "text": [
      "{100, 10, 20, 'python'}\n"
     ]
    }
   ],
   "source": [
    "a.add(100)\n",
    "print(a)"
   ]
  },
  {
   "cell_type": "code",
   "execution_count": 25,
   "id": "b7700429",
   "metadata": {},
   "outputs": [
    {
     "name": "stdout",
     "output_type": "stream",
     "text": [
      "{100, 'data science', 10, 20, 'python', 'data'}\n"
     ]
    }
   ],
   "source": [
    "#add method can add value randomly \n",
    "\n",
    "a.add('data')\n",
    "print(a)"
   ]
  },
  {
   "cell_type": "code",
   "execution_count": 26,
   "id": "50a890f2",
   "metadata": {},
   "outputs": [
    {
     "name": "stdout",
     "output_type": "stream",
     "text": [
      "{100, 'data science', 200, 10, 20, 'python', 'data'}\n"
     ]
    }
   ],
   "source": [
    "a.add(200)\n",
    "print(a)"
   ]
  },
  {
   "cell_type": "code",
   "execution_count": 28,
   "id": "d36cb6ab",
   "metadata": {},
   "outputs": [],
   "source": [
    "#IMPORTANT ; sets are unorderd pairs : once we are specifying the values we cant say how they are arrranged.\n",
    "#it might add anywhere but memory space is increasing"
   ]
  },
  {
   "cell_type": "code",
   "execution_count": 29,
   "id": "125942b4",
   "metadata": {},
   "outputs": [
    {
     "name": "stdout",
     "output_type": "stream",
     "text": [
      "{'data', 100, 20.6}\n"
     ]
    }
   ],
   "source": [
    "#Access the value using index; possible or not?\n",
    "\n",
    "a={100,20.6,'data'}\n",
    "print(a)"
   ]
  },
  {
   "cell_type": "code",
   "execution_count": 30,
   "id": "89dd059c",
   "metadata": {},
   "outputs": [
    {
     "ename": "TypeError",
     "evalue": "'set' object is not subscriptable",
     "output_type": "error",
     "traceback": [
      "\u001b[1;31m---------------------------------------------------------------------------\u001b[0m",
      "\u001b[1;31mTypeError\u001b[0m                                 Traceback (most recent call last)",
      "Cell \u001b[1;32mIn[30], line 2\u001b[0m\n\u001b[0;32m      1\u001b[0m \u001b[38;5;66;03m#since memory is allocated randomly , let's see can we access the value using index or not?\u001b[39;00m\n\u001b[1;32m----> 2\u001b[0m \u001b[38;5;28mprint\u001b[39m(\u001b[43ma\u001b[49m\u001b[43m[\u001b[49m\u001b[38;5;241;43m2\u001b[39;49m\u001b[43m]\u001b[49m)\n",
      "\u001b[1;31mTypeError\u001b[0m: 'set' object is not subscriptable"
     ]
    }
   ],
   "source": [
    "#since memory is allocated randomly , let's see can we access the value using index or not?\n",
    "print(a[2])\n",
    "\n",
    "#from here we can say sets are random in memory space , so we can't access them using index."
   ]
  },
  {
   "cell_type": "code",
   "execution_count": 31,
   "id": "0c5e3d4a",
   "metadata": {},
   "outputs": [
    {
     "name": "stdout",
     "output_type": "stream",
     "text": [
      "{'data', 100, 20.6}\n"
     ]
    }
   ],
   "source": [
    "#can we add the data wherever we want;\n",
    "\n",
    "a={100,20.6,'data'}\n",
    "print(a)"
   ]
  },
  {
   "cell_type": "markdown",
   "id": "33ca918c",
   "metadata": {},
   "source": [
    "a.update #it is coming under union intersection and maths stuff\n"
   ]
  },
  {
   "cell_type": "code",
   "execution_count": 34,
   "id": "9a12d660",
   "metadata": {},
   "outputs": [],
   "source": [
    "#deleting the data / memory space : using pop , remove and discard method \n"
   ]
  },
  {
   "cell_type": "code",
   "execution_count": 33,
   "id": "1611e33a",
   "metadata": {},
   "outputs": [],
   "source": [
    "#pop : randomly removes the value from memory space \n",
    "#discard : removes the value if present orelse returns the same value \n",
    "#remove : removes the value if present orelse raise error (opposite to discard)"
   ]
  },
  {
   "cell_type": "code",
   "execution_count": 45,
   "id": "e5eb4aa0",
   "metadata": {},
   "outputs": [
    {
     "name": "stdout",
     "output_type": "stream",
     "text": [
      "{'data', 100, 20.6}\n"
     ]
    },
    {
     "data": {
      "text/plain": [
       "'data'"
      ]
     },
     "execution_count": 45,
     "metadata": {},
     "output_type": "execute_result"
    }
   ],
   "source": [
    "# pop method:\n",
    "a={100, 20.6, 'data'}\n",
    "print(a)\n",
    "a.pop()"
   ]
  },
  {
   "cell_type": "code",
   "execution_count": 43,
   "id": "254536bb",
   "metadata": {},
   "outputs": [
    {
     "name": "stdout",
     "output_type": "stream",
     "text": [
      "set()\n"
     ]
    }
   ],
   "source": [
    "#what if the set is empty: \n",
    "\n",
    "a= {10,20,'dgfg'}\n",
    "a.clear()\n",
    "print(a)       #set() says set is empty, if pop is used in empty set , we are going to have a error."
   ]
  },
  {
   "cell_type": "code",
   "execution_count": 48,
   "id": "2a876cd7",
   "metadata": {},
   "outputs": [
    {
     "ename": "KeyError",
     "evalue": "'pop from an empty set'",
     "output_type": "error",
     "traceback": [
      "\u001b[1;31m---------------------------------------------------------------------------\u001b[0m",
      "\u001b[1;31mKeyError\u001b[0m                                  Traceback (most recent call last)",
      "Cell \u001b[1;32mIn[48], line 1\u001b[0m\n\u001b[1;32m----> 1\u001b[0m \u001b[43ma\u001b[49m\u001b[38;5;241;43m.\u001b[39;49m\u001b[43mpop\u001b[49m\u001b[43m(\u001b[49m\u001b[43m)\u001b[49m\n",
      "\u001b[1;31mKeyError\u001b[0m: 'pop from an empty set'"
     ]
    }
   ],
   "source": [
    "a.pop()  #since a is empty , we get a error "
   ]
  },
  {
   "cell_type": "code",
   "execution_count": 49,
   "id": "8e6bb607",
   "metadata": {},
   "outputs": [
    {
     "name": "stdout",
     "output_type": "stream",
     "text": [
      "{10, 'analyst', 20}\n"
     ]
    }
   ],
   "source": [
    "#discard :  removes the value if present orelse returns the same value\n",
    "\n",
    "a={10,20,'analyst'}\n",
    "print(a)"
   ]
  },
  {
   "cell_type": "code",
   "execution_count": 51,
   "id": "68472da2",
   "metadata": {},
   "outputs": [
    {
     "name": "stdout",
     "output_type": "stream",
     "text": [
      "{10, 'analyst'}\n"
     ]
    }
   ],
   "source": [
    "a.discard(20)\n",
    "print(a)"
   ]
  },
  {
   "cell_type": "code",
   "execution_count": 63,
   "id": "2d8a8d21",
   "metadata": {},
   "outputs": [
    {
     "name": "stdout",
     "output_type": "stream",
     "text": [
      "{10, 'analyst', 20}\n",
      "{10, 'analyst'}\n"
     ]
    }
   ],
   "source": [
    "#remove : removes the value if present orelse raise error (opposite to discard)\n",
    " \n",
    "a={10,20,'analyst'}\n",
    "print(a)\n",
    "a.remove(20)\n",
    "print(a)"
   ]
  },
  {
   "cell_type": "code",
   "execution_count": 64,
   "id": "0e1f6b6a",
   "metadata": {},
   "outputs": [
    {
     "ename": "KeyError",
     "evalue": "100",
     "output_type": "error",
     "traceback": [
      "\u001b[1;31m---------------------------------------------------------------------------\u001b[0m",
      "\u001b[1;31mKeyError\u001b[0m                                  Traceback (most recent call last)",
      "Cell \u001b[1;32mIn[64], line 1\u001b[0m\n\u001b[1;32m----> 1\u001b[0m \u001b[43ma\u001b[49m\u001b[38;5;241;43m.\u001b[39;49m\u001b[43mremove\u001b[49m\u001b[43m(\u001b[49m\u001b[38;5;241;43m100\u001b[39;49m\u001b[43m)\u001b[49m\n\u001b[0;32m      2\u001b[0m \u001b[38;5;28mprint\u001b[39m(a)\n",
      "\u001b[1;31mKeyError\u001b[0m: 100"
     ]
    }
   ],
   "source": [
    "a.remove(100)\n",
    "print(a)"
   ]
  },
  {
   "cell_type": "code",
   "execution_count": 65,
   "id": "c6cab1d7",
   "metadata": {},
   "outputs": [
    {
     "name": "stdout",
     "output_type": "stream",
     "text": [
      "{10}\n"
     ]
    }
   ],
   "source": [
    "a.remove('analyst')\n",
    "print(a)"
   ]
  },
  {
   "cell_type": "markdown",
   "id": "f998f996",
   "metadata": {},
   "source": [
    "### sets removes duplicates (IMPORTANT)"
   ]
  },
  {
   "cell_type": "code",
   "execution_count": 66,
   "id": "bf21a3be",
   "metadata": {},
   "outputs": [
    {
     "name": "stdout",
     "output_type": "stream",
     "text": [
      "{34, 50, 20, 10, 45, 30}\n"
     ]
    }
   ],
   "source": [
    "a={10,20,30,20,34,20,45,50,20}\n",
    "print(a)"
   ]
  },
  {
   "cell_type": "code",
   "execution_count": null,
   "id": "fea52784",
   "metadata": {},
   "outputs": [],
   "source": [
    "#20 is repeated 3 times , but in output its duplicates are removed."
   ]
  },
  {
   "cell_type": "code",
   "execution_count": 67,
   "id": "64b36dae",
   "metadata": {},
   "outputs": [
    {
     "name": "stdout",
     "output_type": "stream",
     "text": [
      "{10, 20.67, (30, 45, 55, 89), 'data structure'}\n"
     ]
    }
   ],
   "source": [
    "# sets are mutable but not going to accept mutable data structure , it will only accept immutable data structure.\n",
    "\n",
    "a= {10,20.67,(30,45,55,89),'data structure'}\n",
    "print(a)         #since, a variable contains no mutable data structure, so no error"
   ]
  },
  {
   "cell_type": "code",
   "execution_count": 68,
   "id": "2da9829a",
   "metadata": {},
   "outputs": [
    {
     "ename": "TypeError",
     "evalue": "unhashable type: 'list'",
     "output_type": "error",
     "traceback": [
      "\u001b[1;31m---------------------------------------------------------------------------\u001b[0m",
      "\u001b[1;31mTypeError\u001b[0m                                 Traceback (most recent call last)",
      "Cell \u001b[1;32mIn[68], line 1\u001b[0m\n\u001b[1;32m----> 1\u001b[0m a\u001b[38;5;241m=\u001b[39m{\u001b[38;5;241m10\u001b[39m,\u001b[38;5;241m20\u001b[39m, [\u001b[38;5;241m29\u001b[39m,\u001b[38;5;241m78\u001b[39m],(\u001b[38;5;241m10\u001b[39m,\u001b[38;5;241m23\u001b[39m),\u001b[38;5;124m'\u001b[39m\u001b[38;5;124mpython\u001b[39m\u001b[38;5;124m'\u001b[39m}\n\u001b[0;32m      2\u001b[0m \u001b[38;5;28mprint\u001b[39m(a)\n",
      "\u001b[1;31mTypeError\u001b[0m: unhashable type: 'list'"
     ]
    }
   ],
   "source": [
    "a={10,20, [29,78],(10,23),'python'}\n",
    "print(a)         #error, as variable a contains mutable data i.e. lists"
   ]
  },
  {
   "cell_type": "code",
   "execution_count": 69,
   "id": "a536de3c",
   "metadata": {},
   "outputs": [
    {
     "name": "stdout",
     "output_type": "stream",
     "text": [
      "{'Data', 10, 20}\n"
     ]
    }
   ],
   "source": [
    "#some methods in set :\n",
    "\n",
    "#copy; is used to copy to some other variables \n",
    "a={10,20,'Data'}\n",
    "print(a)"
   ]
  },
  {
   "cell_type": "code",
   "execution_count": 71,
   "id": "2676e0a6",
   "metadata": {},
   "outputs": [
    {
     "name": "stdout",
     "output_type": "stream",
     "text": [
      "{'Data', 10, 20}\n",
      "{'Data', 10, 20}\n"
     ]
    }
   ],
   "source": [
    "b=a.copy()\n",
    "print(a)\n",
    "print(b)"
   ]
  },
  {
   "cell_type": "code",
   "execution_count": 72,
   "id": "dd230004",
   "metadata": {},
   "outputs": [
    {
     "name": "stdout",
     "output_type": "stream",
     "text": [
      "{'Data', 20, 40, 'data science', 10, 30}\n"
     ]
    }
   ],
   "source": [
    "#union and itersection;\n",
    "\n",
    "a={10,20,'Data'}\n",
    "b={20,30,40,'data science'}\n",
    "\n",
    "print(a.union(b))            #duplicates/common are printed once as in output"
   ]
  },
  {
   "cell_type": "code",
   "execution_count": 73,
   "id": "79a1b775",
   "metadata": {},
   "outputs": [
    {
     "name": "stdout",
     "output_type": "stream",
     "text": [
      "{20}\n"
     ]
    }
   ],
   "source": [
    "print(a.intersection(b))     # common in both - intersection "
   ]
  },
  {
   "cell_type": "markdown",
   "id": "5bc683ad",
   "metadata": {},
   "source": [
    "# Dictionary"
   ]
  },
  {
   "cell_type": "code",
   "execution_count": null,
   "id": "2a73bc0c",
   "metadata": {},
   "outputs": [],
   "source": [
    "# its a mutable data type \n",
    "# used to store data as human does.\n",
    "# will be represnted with {} >- uing key value pair.\n",
    "# this data type is used in most of the data cases."
   ]
  },
  {
   "cell_type": "code",
   "execution_count": 1,
   "id": "38fee06b",
   "metadata": {},
   "outputs": [
    {
     "name": "stdout",
     "output_type": "stream",
     "text": [
      "{'abhisek': 'Scientist', 'ashutosh': 'Marketing head'}\n"
     ]
    }
   ],
   "source": [
    "a= {'abhisek':'Scientist','ashutosh':'Marketing head'}\n",
    "print(a)\n"
   ]
  },
  {
   "cell_type": "code",
   "execution_count": 3,
   "id": "baf4e92a",
   "metadata": {},
   "outputs": [
    {
     "name": "stdout",
     "output_type": "stream",
     "text": [
      "{'Abhisek store house': ['ac', 'fridge', 'cooler']}\n"
     ]
    }
   ],
   "source": [
    "a= {'Abhisek store house':['ac','fridge','cooler']}\n",
    "print(a)"
   ]
  },
  {
   "cell_type": "code",
   "execution_count": null,
   "id": "fcf7b5ad",
   "metadata": {},
   "outputs": [],
   "source": [
    "#keys can be anything.\n",
    "#keys should not be duplicate.\n",
    "#if you want to access values , use its keys."
   ]
  },
  {
   "cell_type": "code",
   "execution_count": 4,
   "id": "966f79d3",
   "metadata": {},
   "outputs": [
    {
     "name": "stdout",
     "output_type": "stream",
     "text": [
      "{'apple': 100, 'banana': 200, 'mango': 400}\n"
     ]
    }
   ],
   "source": [
    "a= {'apple':100,'banana':200,'mango':400}\n",
    "print(a)"
   ]
  },
  {
   "cell_type": "code",
   "execution_count": 6,
   "id": "2aab9046",
   "metadata": {},
   "outputs": [
    {
     "name": "stdout",
     "output_type": "stream",
     "text": [
      "{1: 'apple', 2: 'banana', 3: 'mango'}\n"
     ]
    }
   ],
   "source": [
    "a= {1:'apple',2:'banana',3:'mango'}\n",
    "print(a)"
   ]
  },
  {
   "cell_type": "code",
   "execution_count": 7,
   "id": "433cc49f",
   "metadata": {},
   "outputs": [
    {
     "name": "stdout",
     "output_type": "stream",
     "text": [
      "{'apple': 1000, 'banana': 200, 'mango': 400}\n"
     ]
    }
   ],
   "source": [
    "#keys should not be duplicate \n",
    "a= {'apple':100,'banana':200,'mango':400,'apple':1000}\n",
    "print(a)\n"
   ]
  },
  {
   "cell_type": "code",
   "execution_count": 11,
   "id": "2bf0236b",
   "metadata": {},
   "outputs": [
    {
     "name": "stdout",
     "output_type": "stream",
     "text": [
      "{'apple': 1000, 'banana': 200, 'mango': 400}\n"
     ]
    }
   ],
   "source": [
    "#indepth:   #if you want to access values , use its keys.\n",
    "\n",
    "a= {'apple':100,'banana':200,'mango':400,'apple':1000}\n",
    "print(a)\n",
    "\n"
   ]
  },
  {
   "cell_type": "code",
   "execution_count": 8,
   "id": "23f10d84",
   "metadata": {},
   "outputs": [
    {
     "data": {
      "text/plain": [
       "dict_keys(['apple', 'banana', 'mango'])"
      ]
     },
     "execution_count": 8,
     "metadata": {},
     "output_type": "execute_result"
    }
   ],
   "source": [
    "a.keys()"
   ]
  },
  {
   "cell_type": "code",
   "execution_count": 9,
   "id": "3105dc0f",
   "metadata": {},
   "outputs": [
    {
     "data": {
      "text/plain": [
       "dict_values([1000, 200, 400])"
      ]
     },
     "execution_count": 9,
     "metadata": {},
     "output_type": "execute_result"
    }
   ],
   "source": [
    "a.values()"
   ]
  },
  {
   "cell_type": "code",
   "execution_count": 10,
   "id": "2d749dea",
   "metadata": {},
   "outputs": [
    {
     "data": {
      "text/plain": [
       "400"
      ]
     },
     "execution_count": 10,
     "metadata": {},
     "output_type": "execute_result"
    }
   ],
   "source": [
    "a= {'apple':100,'banana':200,'mango':400,'apple':1000}\n",
    "\n",
    "a['mango']   #if you want to access values , use its keys."
   ]
  },
  {
   "cell_type": "code",
   "execution_count": 12,
   "id": "bbbe4f88",
   "metadata": {},
   "outputs": [
    {
     "name": "stdout",
     "output_type": "stream",
     "text": [
      "{'Ravi': 2000, 'Simran': 3500, 'Animesh': 4000}\n"
     ]
    }
   ],
   "source": [
    "employees = {'Ravi':2000,'Simran':3500,'Animesh':4000}\n",
    "print(employees)"
   ]
  },
  {
   "cell_type": "code",
   "execution_count": 16,
   "id": "c664db67",
   "metadata": {},
   "outputs": [
    {
     "data": {
      "text/plain": [
       "2000"
      ]
     },
     "execution_count": 16,
     "metadata": {},
     "output_type": "execute_result"
    }
   ],
   "source": [
    "#get method used to get the data \n",
    "\n",
    "employees.get('Ravi')"
   ]
  },
  {
   "cell_type": "code",
   "execution_count": 18,
   "id": "b52fbb89",
   "metadata": {},
   "outputs": [
    {
     "data": {
      "text/plain": [
       "3500"
      ]
     },
     "execution_count": 18,
     "metadata": {},
     "output_type": "execute_result"
    }
   ],
   "source": [
    "employees['Simran']"
   ]
  },
  {
   "cell_type": "code",
   "execution_count": 23,
   "id": "4773bd7b",
   "metadata": {},
   "outputs": [],
   "source": [
    "#clear : used to clear entire data frame and makes it empty.\n",
    "employees = {'Ravi':2000,'Simran':3500,'Animesh':4000}\n",
    "employees.clear()"
   ]
  },
  {
   "cell_type": "code",
   "execution_count": 24,
   "id": "b7125ff5",
   "metadata": {},
   "outputs": [
    {
     "data": {
      "text/plain": [
       "{}"
      ]
     },
     "execution_count": 24,
     "metadata": {},
     "output_type": "execute_result"
    }
   ],
   "source": [
    "employees               #empty data set "
   ]
  },
  {
   "cell_type": "code",
   "execution_count": 26,
   "id": "374a5a9b",
   "metadata": {},
   "outputs": [
    {
     "name": "stdout",
     "output_type": "stream",
     "text": [
      "{'Ravi': 2000, 'Simran': 3500, 'Animesh': 4000}\n",
      "{'Ravi': 2000, 'Simran': 3500, 'Animesh': 4000}\n"
     ]
    }
   ],
   "source": [
    "#copy : copy from one var to another var\n",
    "employees = {'Ravi':2000,'Simran':3500,'Animesh':4000}\n",
    "a=employees.copy()\n",
    "\n",
    "print(a)\n",
    "print(employees)"
   ]
  },
  {
   "cell_type": "code",
   "execution_count": 27,
   "id": "2963bc84",
   "metadata": {},
   "outputs": [
    {
     "data": {
      "text/plain": [
       "dict_items([('Ravi', 2000), ('Simran', 3500), ('Animesh', 4000)])"
      ]
     },
     "execution_count": 27,
     "metadata": {},
     "output_type": "execute_result"
    }
   ],
   "source": [
    "#items : items will give combination of both keys and values\n",
    "\n",
    "employees.items()"
   ]
  },
  {
   "cell_type": "code",
   "execution_count": null,
   "id": "fe11acf8",
   "metadata": {},
   "outputs": [],
   "source": [
    "#lets see whether dictionary is mutable or not \n",
    "\n",
    "#add , delete and update data "
   ]
  },
  {
   "cell_type": "code",
   "execution_count": 28,
   "id": "e6e5d1a4",
   "metadata": {},
   "outputs": [
    {
     "name": "stdout",
     "output_type": "stream",
     "text": [
      "{'Ravi': 2000, 'Simran': 3500, 'Animesh': 4000, 'Akash': 1500}\n"
     ]
    }
   ],
   "source": [
    "#add data space /memory\n",
    "\n",
    "employees = {'Ravi':2000,'Simran':3500,'Animesh':4000}\n",
    "\n",
    "employees['Akash']= 1500\n",
    "\n",
    "print(employees)  ## since we are playing with the keys , there is no specific location to add data ; \n",
    "#it can get added anywhere where i can access."
   ]
  },
  {
   "cell_type": "code",
   "execution_count": 31,
   "id": "6c9bfa58",
   "metadata": {},
   "outputs": [
    {
     "data": {
      "text/plain": [
       "1500"
      ]
     },
     "execution_count": 31,
     "metadata": {},
     "output_type": "execute_result"
    }
   ],
   "source": [
    "employees['Akash']"
   ]
  },
  {
   "cell_type": "code",
   "execution_count": 32,
   "id": "2e6fa988",
   "metadata": {},
   "outputs": [],
   "source": [
    "#i want to update the salary of Ravi from 2000 to 5000\n",
    "employees['Ravi'] = 5000\n"
   ]
  },
  {
   "cell_type": "code",
   "execution_count": 33,
   "id": "6419c261",
   "metadata": {},
   "outputs": [
    {
     "name": "stdout",
     "output_type": "stream",
     "text": [
      "{'Ravi': 5000, 'Simran': 3500, 'Animesh': 4000, 'Akash': 1500}\n"
     ]
    }
   ],
   "source": [
    "print(employees)"
   ]
  },
  {
   "cell_type": "code",
   "execution_count": 34,
   "id": "a55b7d0b",
   "metadata": {},
   "outputs": [],
   "source": [
    "#using update method lets make ravis salary from 2000 to 5000.\n",
    "\n",
    "employees.update({'Ravi':5000})"
   ]
  },
  {
   "cell_type": "code",
   "execution_count": 35,
   "id": "290a8d0c",
   "metadata": {},
   "outputs": [
    {
     "name": "stdout",
     "output_type": "stream",
     "text": [
      "{'Ravi': 5000, 'Simran': 3500, 'Animesh': 4000, 'Akash': 1500}\n"
     ]
    }
   ],
   "source": [
    "print(employees)"
   ]
  },
  {
   "cell_type": "code",
   "execution_count": null,
   "id": "3670b793",
   "metadata": {},
   "outputs": [],
   "source": [
    "#methods to delete data space/ memory \n",
    "\n",
    "#pop: removes key what we have given \n",
    "#popitem : will remove last key and value\n",
    "#del : normal python method\n",
    "\n"
   ]
  },
  {
   "cell_type": "code",
   "execution_count": 41,
   "id": "c8e7f7cf",
   "metadata": {},
   "outputs": [
    {
     "ename": "KeyError",
     "evalue": "'Simran'",
     "output_type": "error",
     "traceback": [
      "\u001b[1;31m---------------------------------------------------------------------------\u001b[0m",
      "\u001b[1;31mKeyError\u001b[0m                                  Traceback (most recent call last)",
      "Cell \u001b[1;32mIn[41], line 3\u001b[0m\n\u001b[0;32m      1\u001b[0m \u001b[38;5;66;03m#pop method\u001b[39;00m\n\u001b[1;32m----> 3\u001b[0m \u001b[43memployees\u001b[49m\u001b[38;5;241;43m.\u001b[39;49m\u001b[43mpop\u001b[49m\u001b[43m(\u001b[49m\u001b[38;5;124;43m'\u001b[39;49m\u001b[38;5;124;43mSimran\u001b[39;49m\u001b[38;5;124;43m'\u001b[39;49m\u001b[43m)\u001b[49m\n",
      "\u001b[1;31mKeyError\u001b[0m: 'Simran'"
     ]
    }
   ],
   "source": [
    "#pop method\n",
    "\n",
    "employees.pop('Simran')"
   ]
  },
  {
   "cell_type": "code",
   "execution_count": 37,
   "id": "2edf4873",
   "metadata": {},
   "outputs": [
    {
     "name": "stdout",
     "output_type": "stream",
     "text": [
      "{'Ravi': 5000, 'Animesh': 4000, 'Akash': 1500}\n"
     ]
    }
   ],
   "source": [
    "print(employees)"
   ]
  },
  {
   "cell_type": "code",
   "execution_count": 42,
   "id": "d496536c",
   "metadata": {},
   "outputs": [
    {
     "data": {
      "text/plain": [
       "5000"
      ]
     },
     "execution_count": 42,
     "metadata": {},
     "output_type": "execute_result"
    }
   ],
   "source": [
    "employees.pop('Ravi')"
   ]
  },
  {
   "cell_type": "code",
   "execution_count": 44,
   "id": "a2528292",
   "metadata": {},
   "outputs": [
    {
     "name": "stdout",
     "output_type": "stream",
     "text": [
      "{'Animesh': 4000, 'Akash': 1500}\n"
     ]
    }
   ],
   "source": [
    "print(employees)"
   ]
  },
  {
   "cell_type": "code",
   "execution_count": 47,
   "id": "ff60672d",
   "metadata": {},
   "outputs": [
    {
     "data": {
      "text/plain": [
       "('Akash', 1500)"
      ]
     },
     "execution_count": 47,
     "metadata": {},
     "output_type": "execute_result"
    }
   ],
   "source": [
    "employees = {'Ravi': 5000, 'Simran': 3500, 'Animesh': 4000, 'Akash': 1500}\n",
    "employees.popitem()      # it will remove the last one "
   ]
  },
  {
   "cell_type": "code",
   "execution_count": 48,
   "id": "ec65da36",
   "metadata": {},
   "outputs": [
    {
     "name": "stdout",
     "output_type": "stream",
     "text": [
      "{'Ravi': 5000, 'Simran': 3500, 'Animesh': 4000}\n"
     ]
    }
   ],
   "source": [
    "print(employees)"
   ]
  },
  {
   "cell_type": "code",
   "execution_count": 51,
   "id": "504ea4f2",
   "metadata": {},
   "outputs": [
    {
     "ename": "KeyError",
     "evalue": "'Simran'",
     "output_type": "error",
     "traceback": [
      "\u001b[1;31m---------------------------------------------------------------------------\u001b[0m",
      "\u001b[1;31mKeyError\u001b[0m                                  Traceback (most recent call last)",
      "Cell \u001b[1;32mIn[51], line 3\u001b[0m\n\u001b[0;32m      1\u001b[0m \u001b[38;5;66;03m# using del method\u001b[39;00m\n\u001b[1;32m----> 3\u001b[0m \u001b[38;5;28;01mdel\u001b[39;00m employees [\u001b[38;5;124m'\u001b[39m\u001b[38;5;124mSimran\u001b[39m\u001b[38;5;124m'\u001b[39m]\n",
      "\u001b[1;31mKeyError\u001b[0m: 'Simran'"
     ]
    }
   ],
   "source": [
    "# using del method\n",
    "\n",
    "del employees ['Simran']\n"
   ]
  },
  {
   "cell_type": "code",
   "execution_count": 52,
   "id": "c3d53eff",
   "metadata": {},
   "outputs": [
    {
     "name": "stdout",
     "output_type": "stream",
     "text": [
      "{'Ravi': 5000, 'Animesh': 4000}\n"
     ]
    }
   ],
   "source": [
    "print(employees)\n"
   ]
  },
  {
   "cell_type": "code",
   "execution_count": null,
   "id": "8c0ba516",
   "metadata": {},
   "outputs": [],
   "source": [
    "#from above all these, we can say dictionary is mutable."
   ]
  },
  {
   "cell_type": "code",
   "execution_count": 53,
   "id": "bf8e58ae",
   "metadata": {},
   "outputs": [],
   "source": [
    "##completed data types: strings , lists , tupple, sets and dictionary"
   ]
  },
  {
   "cell_type": "markdown",
   "id": "8eec04fd",
   "metadata": {},
   "source": [
    "### Math module"
   ]
  },
  {
   "cell_type": "code",
   "execution_count": 54,
   "id": "ff0dda14",
   "metadata": {},
   "outputs": [],
   "source": [
    "import math"
   ]
  },
  {
   "cell_type": "code",
   "execution_count": 55,
   "id": "c07264e6",
   "metadata": {},
   "outputs": [
    {
     "data": {
      "text/plain": [
       "13.45362404707371"
      ]
     },
     "execution_count": 55,
     "metadata": {},
     "output_type": "execute_result"
    }
   ],
   "source": [
    "math.sqrt(181)"
   ]
  },
  {
   "cell_type": "code",
   "execution_count": 57,
   "id": "e5984c66",
   "metadata": {},
   "outputs": [
    {
     "data": {
      "text/plain": [
       "1.6197751905438615"
      ]
     },
     "execution_count": 57,
     "metadata": {},
     "output_type": "execute_result"
    }
   ],
   "source": [
    "math.tan(45)"
   ]
  },
  {
   "cell_type": "code",
   "execution_count": 58,
   "id": "52014a2f",
   "metadata": {},
   "outputs": [
    {
     "ename": "ModuleNotFoundError",
     "evalue": "No module named 'pypdf2'",
     "output_type": "error",
     "traceback": [
      "\u001b[1;31m---------------------------------------------------------------------------\u001b[0m",
      "\u001b[1;31mModuleNotFoundError\u001b[0m                       Traceback (most recent call last)",
      "Cell \u001b[1;32mIn[58], line 1\u001b[0m\n\u001b[1;32m----> 1\u001b[0m \u001b[38;5;28;01mimport\u001b[39;00m \u001b[38;5;21;01mpypdf2\u001b[39;00m\n",
      "\u001b[1;31mModuleNotFoundError\u001b[0m: No module named 'pypdf2'"
     ]
    }
   ],
   "source": [
    "import pypdf2"
   ]
  },
  {
   "cell_type": "code",
   "execution_count": 59,
   "id": "480cf132",
   "metadata": {},
   "outputs": [
    {
     "name": "stdout",
     "output_type": "stream",
     "text": [
      "Collecting pypdf2\n",
      "  Downloading pypdf2-3.0.1-py3-none-any.whl (232 kB)\n",
      "     ------------------------------------ 232.6/232.6 kB 677.8 kB/s eta 0:00:00\n",
      "Installing collected packages: pypdf2\n",
      "Successfully installed pypdf2-3.0.1\n"
     ]
    }
   ],
   "source": [
    "!pip install pypdf2"
   ]
  },
  {
   "cell_type": "code",
   "execution_count": 60,
   "id": "f8ee82da",
   "metadata": {},
   "outputs": [
    {
     "ename": "ModuleNotFoundError",
     "evalue": "No module named 'pypdf2'",
     "output_type": "error",
     "traceback": [
      "\u001b[1;31m---------------------------------------------------------------------------\u001b[0m",
      "\u001b[1;31mModuleNotFoundError\u001b[0m                       Traceback (most recent call last)",
      "Cell \u001b[1;32mIn[60], line 1\u001b[0m\n\u001b[1;32m----> 1\u001b[0m \u001b[38;5;28;01mimport\u001b[39;00m \u001b[38;5;21;01mpypdf2\u001b[39;00m\n",
      "\u001b[1;31mModuleNotFoundError\u001b[0m: No module named 'pypdf2'"
     ]
    }
   ],
   "source": [
    "import pypdf2"
   ]
  },
  {
   "cell_type": "code",
   "execution_count": 62,
   "id": "04551181",
   "metadata": {},
   "outputs": [
    {
     "name": "stdout",
     "output_type": "stream",
     "text": [
      "Requirement already satisfied: PyPDF2 in c:\\users\\user\\anaconda3\\lib\\site-packages (3.0.1)\n"
     ]
    }
   ],
   "source": [
    "!pip install PyPDF2"
   ]
  },
  {
   "cell_type": "code",
   "execution_count": 63,
   "id": "395e42ff",
   "metadata": {},
   "outputs": [],
   "source": [
    "import PyPDF2"
   ]
  },
  {
   "cell_type": "code",
   "execution_count": 64,
   "id": "4dcf221e",
   "metadata": {},
   "outputs": [],
   "source": [
    "# os package : is used to work with system , path\n",
    "\n"
   ]
  },
  {
   "cell_type": "code",
   "execution_count": 66,
   "id": "b1bd87a9",
   "metadata": {},
   "outputs": [],
   "source": [
    "import os"
   ]
  },
  {
   "cell_type": "code",
   "execution_count": 67,
   "id": "bb60415f",
   "metadata": {},
   "outputs": [
    {
     "data": {
      "text/plain": [
       "['.ipynb_checkpoints',\n",
       " '07-05-23_Tupple.ipynb',\n",
       " '07-May-23_concepts left behind of strings_list.ipynb',\n",
       " '30_april_strings_lists.ipynb',\n",
       " 'python_basics_29_april.ipynb',\n",
       " 'python_basic_29_april.ipynb',\n",
       " 'Sets and Dictionary.ipynb',\n",
       " 'Sun 23-04-23 Class-1.ipynb',\n",
       " 'Tuple.ipynb',\n",
       " 'Untitled Folder',\n",
       " 'Untitled.ipynb',\n",
       " 'Untitled1.ipynb',\n",
       " 'Untitled2.ipynb',\n",
       " 'Untitled3.ipynb']"
      ]
     },
     "execution_count": 67,
     "metadata": {},
     "output_type": "execute_result"
    }
   ],
   "source": [
    "os.listdir()   ## current directory"
   ]
  },
  {
   "cell_type": "code",
   "execution_count": 68,
   "id": "c57d2ef2",
   "metadata": {},
   "outputs": [
    {
     "data": {
      "text/plain": [
       "['.ipynb_checkpoints',\n",
       " '07-05-23_Tupple.ipynb',\n",
       " '07-May-23_concepts left behind of strings_list.ipynb',\n",
       " '30_april_strings_lists.ipynb',\n",
       " 'python_basics_29_april.ipynb',\n",
       " 'python_basic_29_april.ipynb',\n",
       " 'Sets and Dictionary.ipynb',\n",
       " 'Sun 23-04-23 Class-1.ipynb',\n",
       " 'Tuple.ipynb',\n",
       " 'Untitled Folder',\n",
       " 'Untitled.ipynb',\n",
       " 'Untitled1.ipynb',\n",
       " 'Untitled2.ipynb',\n",
       " 'Untitled3.ipynb']"
      ]
     },
     "execution_count": 68,
     "metadata": {},
     "output_type": "execute_result"
    }
   ],
   "source": [
    "os.listdir('./')  ##current dire"
   ]
  },
  {
   "cell_type": "code",
   "execution_count": 70,
   "id": "b85c42d9",
   "metadata": {},
   "outputs": [
    {
     "data": {
      "text/plain": [
       "['.ipynb_checkpoints', 'Python']"
      ]
     },
     "execution_count": 70,
     "metadata": {},
     "output_type": "execute_result"
    }
   ],
   "source": [
    "os.listdir('./../')   #parent dir"
   ]
  },
  {
   "cell_type": "code",
   "execution_count": 71,
   "id": "1c383835",
   "metadata": {},
   "outputs": [
    {
     "data": {
      "text/plain": [
       "['$RECYCLE.BIN', 'System Volume Information', 'Topmentor', 'trip 2018']"
      ]
     },
     "execution_count": 71,
     "metadata": {},
     "output_type": "execute_result"
    }
   ],
   "source": [
    "os.listdir('./../../')  ## sun root folder "
   ]
  },
  {
   "cell_type": "code",
   "execution_count": 72,
   "id": "083baba5",
   "metadata": {},
   "outputs": [
    {
     "data": {
      "text/plain": [
       "['$RECYCLE.BIN', 'System Volume Information', 'Topmentor', 'trip 2018']"
      ]
     },
     "execution_count": 72,
     "metadata": {},
     "output_type": "execute_result"
    }
   ],
   "source": [
    "os.listdir('./../../../')  ##main root folders"
   ]
  },
  {
   "cell_type": "code",
   "execution_count": 74,
   "id": "06eed003",
   "metadata": {},
   "outputs": [
    {
     "name": "stdout",
     "output_type": "stream",
     "text": [
      "F:/Topmentor\\python\n"
     ]
    }
   ],
   "source": [
    "path = 'python'\n",
    "chec = 'F:/Topmentor'  # since  windows for paths use \\\\ or /  \n",
    "\n",
    "sol= os.path.join(chec,path)\n",
    "print(sol)"
   ]
  },
  {
   "cell_type": "code",
   "execution_count": 76,
   "id": "f71c9a1d",
   "metadata": {},
   "outputs": [
    {
     "data": {
      "text/plain": [
       "['.ipynb_checkpoints',\n",
       " '07-05-23_Tupple.ipynb',\n",
       " '07-May-23_concepts left behind of strings_list.ipynb',\n",
       " '30_april_strings_lists.ipynb',\n",
       " 'python_basics_29_april.ipynb',\n",
       " 'python_basic_29_april.ipynb',\n",
       " 'Sets and Dictionary.ipynb',\n",
       " 'Sun 23-04-23 Class-1.ipynb',\n",
       " 'Tuple.ipynb',\n",
       " 'Untitled Folder',\n",
       " 'Untitled.ipynb',\n",
       " 'Untitled1.ipynb',\n",
       " 'Untitled2.ipynb',\n",
       " 'Untitled3.ipynb']"
      ]
     },
     "execution_count": 76,
     "metadata": {},
     "output_type": "execute_result"
    }
   ],
   "source": [
    "os.listdir(sol)"
   ]
  },
  {
   "cell_type": "code",
   "execution_count": null,
   "id": "908e7b68",
   "metadata": {},
   "outputs": [],
   "source": []
  }
 ],
 "metadata": {
  "kernelspec": {
   "display_name": "Python 3 (ipykernel)",
   "language": "python",
   "name": "python3"
  },
  "language_info": {
   "codemirror_mode": {
    "name": "ipython",
    "version": 3
   },
   "file_extension": ".py",
   "mimetype": "text/x-python",
   "name": "python",
   "nbconvert_exporter": "python",
   "pygments_lexer": "ipython3",
   "version": "3.10.9"
  }
 },
 "nbformat": 4,
 "nbformat_minor": 5
}
