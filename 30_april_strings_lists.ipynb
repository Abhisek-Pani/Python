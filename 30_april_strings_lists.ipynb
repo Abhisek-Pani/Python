{
 "cells": [
  {
   "cell_type": "markdown",
   "id": "f82d8f22",
   "metadata": {},
   "source": [
    "# STRINGS "
   ]
  },
  {
   "cell_type": "code",
   "execution_count": 1,
   "id": "740b3ea5",
   "metadata": {},
   "outputs": [
    {
     "name": "stdout",
     "output_type": "stream",
     "text": [
      "<class 'str'>\n"
     ]
    }
   ],
   "source": [
    "a='12'\n",
    "print (type(a))"
   ]
  },
  {
   "cell_type": "code",
   "execution_count": 6,
   "id": "165a6530",
   "metadata": {},
   "outputs": [],
   "source": [
    "\n",
    "c='I am absolutely fine'"
   ]
  },
  {
   "cell_type": "markdown",
   "id": "9f42ab5f",
   "metadata": {},
   "source": [
    "## Forward index and backward Index"
   ]
  },
  {
   "cell_type": "code",
   "execution_count": 10,
   "id": "c2003357",
   "metadata": {},
   "outputs": [
    {
     "name": "stdout",
     "output_type": "stream",
     "text": [
      "e\n"
     ]
    }
   ],
   "source": [
    "\n",
    "print(c[12])"
   ]
  },
  {
   "cell_type": "code",
   "execution_count": 13,
   "id": "9d698ebd",
   "metadata": {},
   "outputs": [
    {
     "name": "stdout",
     "output_type": "stream",
     "text": [
      "o\n",
      "n\n"
     ]
    }
   ],
   "source": [
    "f='python'\n",
    "print(f[4])\n",
    "print(f[-1])"
   ]
  },
  {
   "cell_type": "markdown",
   "id": "7e4429e1",
   "metadata": {},
   "source": [
    "## slicing operations with strings with index"
   ]
  },
  {
   "cell_type": "code",
   "execution_count": 18,
   "id": "75645791",
   "metadata": {},
   "outputs": [
    {
     "name": "stdout",
     "output_type": "stream",
     "text": [
      " scie\n"
     ]
    }
   ],
   "source": [
    "a= 'python data science'\n",
    "\n",
    "print(a[-8:-3])"
   ]
  },
  {
   "cell_type": "code",
   "execution_count": 20,
   "id": "b3fc3f37",
   "metadata": {},
   "outputs": [
    {
     "data": {
      "text/plain": [
       "'p'"
      ]
     },
     "execution_count": 20,
     "metadata": {},
     "output_type": "execute_result"
    }
   ],
   "source": [
    "a[0]"
   ]
  },
  {
   "cell_type": "code",
   "execution_count": 21,
   "id": "87ad965c",
   "metadata": {},
   "outputs": [
    {
     "data": {
      "text/plain": [
       "'c'"
      ]
     },
     "execution_count": 21,
     "metadata": {},
     "output_type": "execute_result"
    }
   ],
   "source": [
    "a[-2]"
   ]
  },
  {
   "cell_type": "markdown",
   "id": "0ac60e45",
   "metadata": {},
   "source": [
    "### python slicing and skipping condition:"
   ]
  },
  {
   "cell_type": "code",
   "execution_count": 111,
   "id": "8dd3c6d5",
   "metadata": {},
   "outputs": [
    {
     "name": "stdout",
     "output_type": "stream",
     "text": [
      "tcn\n"
     ]
    }
   ],
   "source": [
    "a='datascience'\n",
    "print(a[2:9:3])"
   ]
  },
  {
   "cell_type": "markdown",
   "id": "83ef145c",
   "metadata": {},
   "source": [
    "### using slicing condition there are fixed techniques:"
   ]
  },
  {
   "cell_type": "code",
   "execution_count": 26,
   "id": "dc55a407",
   "metadata": {},
   "outputs": [
    {
     "name": "stdout",
     "output_type": "stream",
     "text": [
      "shah rukh khan\n"
     ]
    }
   ],
   "source": [
    "a='shah rukh khan'\n",
    "print(a[:])  # means entire string as it is will be printed"
   ]
  },
  {
   "cell_type": "code",
   "execution_count": 27,
   "id": "9670a2b3",
   "metadata": {},
   "outputs": [
    {
     "name": "stdout",
     "output_type": "stream",
     "text": [
      "ah rukh khan\n"
     ]
    }
   ],
   "source": [
    "print(a[2 : ]) #means from 2nd index to last will be printed"
   ]
  },
  {
   "cell_type": "code",
   "execution_count": 28,
   "id": "0912cf30",
   "metadata": {},
   "outputs": [
    {
     "name": "stdout",
     "output_type": "stream",
     "text": [
      "shah rukh kh\n"
     ]
    }
   ],
   "source": [
    "print(a[:12]) #means destination is there so it will start from zero and ends at zero "
   ]
  },
  {
   "cell_type": "code",
   "execution_count": 29,
   "id": "08e3bbad",
   "metadata": {},
   "outputs": [
    {
     "name": "stdout",
     "output_type": "stream",
     "text": [
      "nahk hkur hahs\n"
     ]
    }
   ],
   "source": [
    "print(a[::-1]) #reverse everything   {:--starting  :--ending  -1--reverse}"
   ]
  },
  {
   "cell_type": "code",
   "execution_count": 35,
   "id": "034f9593",
   "metadata": {},
   "outputs": [
    {
     "name": "stdout",
     "output_type": "stream",
     "text": [
      "iclnlg\n",
      "to\n"
     ]
    }
   ],
   "source": [
    "b='artificial intelligence'\n",
    "print(b[3:21:3])\n",
    "c='python'\n",
    "print(c[2:5:2])"
   ]
  },
  {
   "cell_type": "code",
   "execution_count": 32,
   "id": "d51f9f6d",
   "metadata": {},
   "outputs": [
    {
     "name": "stdout",
     "output_type": "stream",
     "text": [
      "nh krhh\n"
     ]
    }
   ],
   "source": [
    "print(a[::-2])"
   ]
  },
  {
   "cell_type": "markdown",
   "id": "edf3d7e2",
   "metadata": {},
   "source": [
    "### strings concepts and methods "
   ]
  },
  {
   "cell_type": "markdown",
   "id": "9863ca7d",
   "metadata": {},
   "source": [
    "### Each data structure has its own methods"
   ]
  },
  {
   "cell_type": "code",
   "execution_count": 36,
   "id": "616e7459",
   "metadata": {},
   "outputs": [],
   "source": [
    "#string is immutable: can't change the memory space "
   ]
  },
  {
   "cell_type": "code",
   "execution_count": 39,
   "id": "edde24c6",
   "metadata": {},
   "outputs": [
    {
     "name": "stdout",
     "output_type": "stream",
     "text": [
      "python r java \n"
     ]
    }
   ],
   "source": [
    "mystring='python r java'\n",
    "print(mystring)"
   ]
  },
  {
   "cell_type": "code",
   "execution_count": 42,
   "id": "ef46fde5",
   "metadata": {},
   "outputs": [
    {
     "data": {
      "text/plain": [
       "'python r java '"
      ]
     },
     "execution_count": 42,
     "metadata": {},
     "output_type": "execute_result"
    }
   ],
   "source": [
    "mystring.\n",
    "#shift +enter to check complete info about python predefined methods\n",
    "#tab will show you about variables\n"
   ]
  },
  {
   "cell_type": "code",
   "execution_count": 45,
   "id": "48d2b436",
   "metadata": {},
   "outputs": [
    {
     "ename": "TypeError",
     "evalue": "'str' object does not support item assignment",
     "output_type": "error",
     "traceback": [
      "\u001b[1;31m---------------------------------------------------------------------------\u001b[0m",
      "\u001b[1;31mTypeError\u001b[0m                                 Traceback (most recent call last)",
      "Cell \u001b[1;32mIn[45], line 2\u001b[0m\n\u001b[0;32m      1\u001b[0m \u001b[38;5;66;03m# adding a new charac to string\u001b[39;00m\n\u001b[1;32m----> 2\u001b[0m mystring[\u001b[38;5;241m11\u001b[39m]\u001b[38;5;241m=\u001b[39m\u001b[38;5;124m'\u001b[39m\u001b[38;5;124mJ\u001b[39m\u001b[38;5;124m'\u001b[39m\n",
      "\u001b[1;31mTypeError\u001b[0m: 'str' object does not support item assignment"
     ]
    }
   ],
   "source": [
    "# adding a new charac to string?  Ans: Not possible\n",
    "mystring[11]='J'"
   ]
  },
  {
   "cell_type": "code",
   "execution_count": 47,
   "id": "290d05f5",
   "metadata": {},
   "outputs": [
    {
     "ename": "TypeError",
     "evalue": "'str' object does not support item assignment",
     "output_type": "error",
     "traceback": [
      "\u001b[1;31m---------------------------------------------------------------------------\u001b[0m",
      "\u001b[1;31mTypeError\u001b[0m                                 Traceback (most recent call last)",
      "Cell \u001b[1;32mIn[47], line 2\u001b[0m\n\u001b[0;32m      1\u001b[0m \u001b[38;5;66;03m#inserting new character ?  Ans: not possible\u001b[39;00m\n\u001b[1;32m----> 2\u001b[0m mystring[\u001b[38;5;241m5\u001b[39m]\u001b[38;5;241m=\u001b[39m\u001b[38;5;124m'\u001b[39m\u001b[38;5;124mj\u001b[39m\u001b[38;5;124m'\u001b[39m\n",
      "\u001b[1;31mTypeError\u001b[0m: 'str' object does not support item assignment"
     ]
    }
   ],
   "source": [
    "#inserting new character ?  Ans: not possible\n",
    "mystring[5]='j'"
   ]
  },
  {
   "cell_type": "code",
   "execution_count": 48,
   "id": "e8882ff1",
   "metadata": {},
   "outputs": [
    {
     "ename": "TypeError",
     "evalue": "'str' object doesn't support item deletion",
     "output_type": "error",
     "traceback": [
      "\u001b[1;31m---------------------------------------------------------------------------\u001b[0m",
      "\u001b[1;31mTypeError\u001b[0m                                 Traceback (most recent call last)",
      "Cell \u001b[1;32mIn[48], line 2\u001b[0m\n\u001b[0;32m      1\u001b[0m \u001b[38;5;66;03m#deleting a character ?  Ans: not possible \u001b[39;00m\n\u001b[1;32m----> 2\u001b[0m \u001b[38;5;28;01mdel\u001b[39;00m mystring[\u001b[38;5;241m1\u001b[39m]\n",
      "\u001b[1;31mTypeError\u001b[0m: 'str' object doesn't support item deletion"
     ]
    }
   ],
   "source": [
    "#deleting a character ?  Ans: not possible \n",
    "del mystring[1]"
   ]
  },
  {
   "cell_type": "code",
   "execution_count": 55,
   "id": "bea425b0",
   "metadata": {},
   "outputs": [
    {
     "data": {
      "text/plain": [
       "'python r Oava '"
      ]
     },
     "execution_count": 55,
     "metadata": {},
     "output_type": "execute_result"
    }
   ],
   "source": [
    "#we can replace charac in string within memory space\n",
    "#using python string replace method  : type the variable (mystring in this case) ,then tab option select replace , then press shift+tab to do the replacement\n",
    "\n",
    "mystring.replace('j','O')"
   ]
  },
  {
   "cell_type": "code",
   "execution_count": 57,
   "id": "a9edecf6",
   "metadata": {},
   "outputs": [
    {
     "name": "stdout",
     "output_type": "stream",
     "text": [
      "python r java \n"
     ]
    }
   ],
   "source": [
    "print(mystring)     #we are replacing only , not saving , so output will be the original one "
   ]
  },
  {
   "cell_type": "code",
   "execution_count": 58,
   "id": "e8bafddd",
   "metadata": {},
   "outputs": [
    {
     "name": "stdout",
     "output_type": "stream",
     "text": [
      "PYTHON\n",
      "PYKHON\n"
     ]
    }
   ],
   "source": [
    "c='PYTHON'\n",
    "print(c)\n",
    "c= c.replace('T','K')           #need to save then only it will replace\n",
    "print(c)"
   ]
  },
  {
   "cell_type": "code",
   "execution_count": 64,
   "id": "254d70bb",
   "metadata": {},
   "outputs": [
    {
     "name": "stdout",
     "output_type": "stream",
     "text": [
      "PYKHON\n"
     ]
    }
   ],
   "source": [
    "print(c)"
   ]
  },
  {
   "cell_type": "markdown",
   "id": "05f48657",
   "metadata": {},
   "source": [
    "### string methods"
   ]
  },
  {
   "cell_type": "code",
   "execution_count": 66,
   "id": "d5b07090",
   "metadata": {},
   "outputs": [
    {
     "data": {
      "text/plain": [
       "'i @m working @s D@ta scientist in Amazon'"
      ]
     },
     "execution_count": 66,
     "metadata": {},
     "output_type": "execute_result"
    }
   ],
   "source": [
    "#replace\n",
    "\n",
    "a='i am working as Data scientist in Amazon'  #5 a's # i want to replace first 3 a as @ :\n",
    "a.replace('a','@',3)"
   ]
  },
  {
   "cell_type": "code",
   "execution_count": 76,
   "id": "30191834",
   "metadata": {},
   "outputs": [
    {
     "data": {
      "text/plain": [
       "'Data science'"
      ]
     },
     "execution_count": 76,
     "metadata": {},
     "output_type": "execute_result"
    }
   ],
   "source": [
    "#capitalise : Starting letter will be capitalise\n",
    "\n",
    "a=\"data science\"\n",
    "a.capitalize()\n"
   ]
  },
  {
   "cell_type": "code",
   "execution_count": 74,
   "id": "1de4aa25",
   "metadata": {},
   "outputs": [
    {
     "data": {
      "text/plain": [
       "5"
      ]
     },
     "execution_count": 74,
     "metadata": {},
     "output_type": "execute_result"
    }
   ],
   "source": [
    "#COUNT : going to cou nt the no. of times of appearnces\n",
    "\n",
    "a='i am working as Data scientist in Amazon '\n",
    "a.count('a')"
   ]
  },
  {
   "cell_type": "code",
   "execution_count": 83,
   "id": "62bcfc75",
   "metadata": {},
   "outputs": [
    {
     "data": {
      "text/plain": [
       "True"
      ]
     },
     "execution_count": 83,
     "metadata": {},
     "output_type": "execute_result"
    }
   ],
   "source": [
    "#startswith and endwith : will give us the boolean values..(True or False)\n",
    "a='i am working as Data scientist in Amazon '\n",
    "a.startswith('i')\n"
   ]
  },
  {
   "cell_type": "code",
   "execution_count": 84,
   "id": "657befa1",
   "metadata": {},
   "outputs": [
    {
     "data": {
      "text/plain": [
       "False"
      ]
     },
     "execution_count": 84,
     "metadata": {},
     "output_type": "execute_result"
    }
   ],
   "source": [
    "a='i am working as Data scientist in Amazon '\n",
    "a.endswith('n')"
   ]
  },
  {
   "cell_type": "code",
   "execution_count": 90,
   "id": "7014404a",
   "metadata": {},
   "outputs": [
    {
     "data": {
      "text/plain": [
       "10"
      ]
     },
     "execution_count": 90,
     "metadata": {},
     "output_type": "execute_result"
    }
   ],
   "source": [
    "#index: index valjue of a character   : index(variable, start , end)\n",
    "\n",
    "a='i stay in Auckland in Newzealand '\n",
    "a.index('A',7,20)\n"
   ]
  },
  {
   "cell_type": "code",
   "execution_count": 91,
   "id": "b92e4d5b",
   "metadata": {},
   "outputs": [
    {
     "data": {
      "text/plain": [
       "'I Am Working As Data Scientist In Amazon '"
      ]
     },
     "execution_count": 91,
     "metadata": {},
     "output_type": "execute_result"
    }
   ],
   "source": [
    "#tittle : all 1st character will be in capital\n",
    "a='i am working as Data scientist in Amazon '\n",
    "a.title()"
   ]
  },
  {
   "cell_type": "code",
   "execution_count": 92,
   "id": "7c6ff864",
   "metadata": {},
   "outputs": [
    {
     "data": {
      "text/plain": [
       "'I AM WORKING AS DATA SCIENTIST IN AMAZON '"
      ]
     },
     "execution_count": 92,
     "metadata": {},
     "output_type": "execute_result"
    }
   ],
   "source": [
    "#Lower and Upper : lower means capital to small and upper is viceverssa\n",
    "a='i am working as Data scientist in Amazon '\n",
    "a.upper()"
   ]
  },
  {
   "cell_type": "code",
   "execution_count": 93,
   "id": "084147eb",
   "metadata": {},
   "outputs": [
    {
     "data": {
      "text/plain": [
       "'i am working as data scientist in amazon '"
      ]
     },
     "execution_count": 93,
     "metadata": {},
     "output_type": "execute_result"
    }
   ],
   "source": [
    "a='i am working as Data scientist in Amazon '\n",
    "a.lower()"
   ]
  },
  {
   "cell_type": "code",
   "execution_count": 94,
   "id": "3076998d",
   "metadata": {},
   "outputs": [
    {
     "data": {
      "text/plain": [
       "False"
      ]
     },
     "execution_count": 94,
     "metadata": {},
     "output_type": "execute_result"
    }
   ],
   "source": [
    "#isupper and islower : they return boolean values if they satisfy\n",
    "a='i am working as Data scientist in Amazon '\n",
    "a.islower()     #islower checks for all in small letters"
   ]
  },
  {
   "cell_type": "code",
   "execution_count": 95,
   "id": "34ae27d9",
   "metadata": {},
   "outputs": [
    {
     "data": {
      "text/plain": [
       "True"
      ]
     },
     "execution_count": 95,
     "metadata": {},
     "output_type": "execute_result"
    }
   ],
   "source": [
    "a='DATA ANALYST AND DATA SCIENCE '\n",
    "a.isupper()"
   ]
  },
  {
   "cell_type": "code",
   "execution_count": 97,
   "id": "5e7a96dd",
   "metadata": {},
   "outputs": [
    {
     "data": {
      "text/plain": [
       "True"
      ]
     },
     "execution_count": 97,
     "metadata": {},
     "output_type": "execute_result"
    }
   ],
   "source": [
    "#isalpha, isdecimal, isdigit , isalphanum , and isnumerical : \n",
    "\n",
    "a='123'\n",
    "a.isnumeric()  #everything in numbers or not"
   ]
  },
  {
   "cell_type": "code",
   "execution_count": 105,
   "id": "ecc05171",
   "metadata": {},
   "outputs": [
    {
     "data": {
      "text/plain": [
       "True"
      ]
     },
     "execution_count": 105,
     "metadata": {},
     "output_type": "execute_result"
    }
   ],
   "source": [
    "a='abhisek1234'\n",
    "a.isalnum()       #checks alphabets and numericals are there or not "
   ]
  },
  {
   "cell_type": "code",
   "execution_count": 106,
   "id": "bc5552f6",
   "metadata": {},
   "outputs": [
    {
     "data": {
      "text/plain": [
       "False"
      ]
     },
     "execution_count": 106,
     "metadata": {},
     "output_type": "execute_result"
    }
   ],
   "source": [
    "a.isalpha()     #checks everything in alphabets or not"
   ]
  },
  {
   "cell_type": "code",
   "execution_count": 103,
   "id": "75697ee3",
   "metadata": {},
   "outputs": [
    {
     "data": {
      "text/plain": [
       "False"
      ]
     },
     "execution_count": 103,
     "metadata": {},
     "output_type": "execute_result"
    }
   ],
   "source": [
    "a.isdecimal()      #checks everything in numbers or not"
   ]
  },
  {
   "cell_type": "code",
   "execution_count": 107,
   "id": "feeea3da",
   "metadata": {},
   "outputs": [
    {
     "data": {
      "text/plain": [
       "False"
      ]
     },
     "execution_count": 107,
     "metadata": {},
     "output_type": "execute_result"
    }
   ],
   "source": [
    "a.isdigit()       #checks only numbers or not ; having string in a= 'abhisek1234'"
   ]
  },
  {
   "cell_type": "code",
   "execution_count": 110,
   "id": "3909356c",
   "metadata": {},
   "outputs": [
    {
     "data": {
      "text/plain": [
       "True"
      ]
     },
     "execution_count": 110,
     "metadata": {},
     "output_type": "execute_result"
    }
   ],
   "source": [
    "a='worksleepeatrepeat'   #only aphabets , dont use spcae inbetween the characters otherwise output will be reversed.\n",
    "a.isalpha()"
   ]
  },
  {
   "cell_type": "code",
   "execution_count": null,
   "id": "b6cbc758",
   "metadata": {},
   "outputs": [],
   "source": [
    "#split and join after discussion of List;"
   ]
  },
  {
   "cell_type": "markdown",
   "id": "9f05844b",
   "metadata": {},
   "source": [
    "# List"
   ]
  },
  {
   "cell_type": "markdown",
   "id": "1bb1fe29",
   "metadata": {},
   "source": [
    "-List is mutable [we can change the memory space ]\n",
    "-List has its own methods\n",
    "-List will be frepresented as []\n",
    "-list can accept any data type."
   ]
  },
  {
   "cell_type": "code",
   "execution_count": 117,
   "id": "5baf88c8",
   "metadata": {},
   "outputs": [
    {
     "name": "stdout",
     "output_type": "stream",
     "text": [
      "[10, 5, 60, 67.8, 'data science', 'data analyst', 'data engineer']\n"
     ]
    }
   ],
   "source": [
    "a=[10,5, 60, 67.8,'data science','data analyst','data engineer']\n",
    "print(a)"
   ]
  },
  {
   "cell_type": "code",
   "execution_count": 118,
   "id": "998b04b2",
   "metadata": {},
   "outputs": [
    {
     "name": "stdout",
     "output_type": "stream",
     "text": [
      "data analyst\n"
     ]
    }
   ],
   "source": [
    "print(a[5])"
   ]
  },
  {
   "cell_type": "code",
   "execution_count": 119,
   "id": "48285016",
   "metadata": {},
   "outputs": [
    {
     "name": "stdout",
     "output_type": "stream",
     "text": [
      "60\n"
     ]
    }
   ],
   "source": [
    "print(a[2])"
   ]
  },
  {
   "cell_type": "code",
   "execution_count": 120,
   "id": "0cae3045",
   "metadata": {},
   "outputs": [
    {
     "data": {
      "text/plain": [
       "'data analyst'"
      ]
     },
     "execution_count": 120,
     "metadata": {},
     "output_type": "execute_result"
    }
   ],
   "source": [
    "a[5]"
   ]
  },
  {
   "cell_type": "code",
   "execution_count": 123,
   "id": "83a4da11",
   "metadata": {},
   "outputs": [
    {
     "data": {
      "text/plain": [
       "'s'"
      ]
     },
     "execution_count": 123,
     "metadata": {},
     "output_type": "execute_result"
    }
   ],
   "source": [
    "a[5][-2]"
   ]
  },
  {
   "cell_type": "code",
   "execution_count": 126,
   "id": "9afce01c",
   "metadata": {},
   "outputs": [
    {
     "name": "stdout",
     "output_type": "stream",
     "text": [
      "data engineer\n"
     ]
    }
   ],
   "source": [
    "print(a[-1])"
   ]
  },
  {
   "cell_type": "code",
   "execution_count": 127,
   "id": "9901a074",
   "metadata": {},
   "outputs": [
    {
     "name": "stdout",
     "output_type": "stream",
     "text": [
      "g\n"
     ]
    }
   ],
   "source": [
    "print(a[-1] [-6])"
   ]
  },
  {
   "cell_type": "code",
   "execution_count": 128,
   "id": "0448b2bb",
   "metadata": {},
   "outputs": [
    {
     "name": "stdout",
     "output_type": "stream",
     "text": [
      "[10, 5, 60, 67.8, 'data science', 'data analyst', 'data engineer']\n"
     ]
    }
   ],
   "source": [
    "#reverse\n",
    "print(a)"
   ]
  },
  {
   "cell_type": "code",
   "execution_count": 129,
   "id": "83c7ceaf",
   "metadata": {},
   "outputs": [
    {
     "name": "stdout",
     "output_type": "stream",
     "text": [
      "[10, 5, 60, 67.8, 'data science', 'data analyst', 'data engineer']\n"
     ]
    }
   ],
   "source": [
    "print(a[:])"
   ]
  },
  {
   "cell_type": "code",
   "execution_count": 131,
   "id": "6a039780",
   "metadata": {},
   "outputs": [
    {
     "name": "stdout",
     "output_type": "stream",
     "text": [
      "['data engineer', 'data analyst', 'data science', 67.8, 60, 5, 10]\n"
     ]
    }
   ],
   "source": [
    "print(a[::-1])"
   ]
  },
  {
   "cell_type": "code",
   "execution_count": 132,
   "id": "3bf85ddc",
   "metadata": {},
   "outputs": [
    {
     "name": "stdout",
     "output_type": "stream",
     "text": [
      "[10, 5, 60, 67.8, 'data science']\n"
     ]
    }
   ],
   "source": [
    "a=[10,5, 60, 67.8,'data science','data analyst','data engineer']\n",
    "print(a[:5])"
   ]
  },
  {
   "cell_type": "code",
   "execution_count": 133,
   "id": "53f941e8",
   "metadata": {},
   "outputs": [
    {
     "name": "stdout",
     "output_type": "stream",
     "text": [
      "[67.8, 'data science', 'data analyst', 'data engineer']\n"
     ]
    }
   ],
   "source": [
    "a=[10,5, 60, 67.8,'data science','data analyst','data engineer']\n",
    "print(a[3:])"
   ]
  },
  {
   "cell_type": "code",
   "execution_count": null,
   "id": "04c28ea0",
   "metadata": {},
   "outputs": [],
   "source": [
    "# we need to prove List is mutable.\n"
   ]
  },
  {
   "cell_type": "code",
   "execution_count": 134,
   "id": "71ec987f",
   "metadata": {},
   "outputs": [
    {
     "name": "stdout",
     "output_type": "stream",
     "text": [
      "[10, 20, 30, 40.8, 'Badminton']\n"
     ]
    }
   ],
   "source": [
    "a=[10,20,30,40.8, 'Badminton']\n",
    "print(a)"
   ]
  },
  {
   "cell_type": "code",
   "execution_count": 137,
   "id": "bd0cdbbd",
   "metadata": {},
   "outputs": [
    {
     "ename": "IndexError",
     "evalue": "list assignment index out of range",
     "output_type": "error",
     "traceback": [
      "\u001b[1;31m---------------------------------------------------------------------------\u001b[0m",
      "\u001b[1;31mIndexError\u001b[0m                                Traceback (most recent call last)",
      "Cell \u001b[1;32mIn[137], line 3\u001b[0m\n\u001b[0;32m      1\u001b[0m \u001b[38;5;66;03m#manually will assign memory space \u001b[39;00m\n\u001b[1;32m----> 3\u001b[0m a[\u001b[38;5;241m5\u001b[39m]\u001b[38;5;241m=\u001b[39m \u001b[38;5;241m101\u001b[39m\n",
      "\u001b[1;31mIndexError\u001b[0m: list assignment index out of range"
     ]
    }
   ],
   "source": [
    "#manually will assign memory space \n",
    "\n",
    "a[5]= 101   # manually we cant create a memory space.\n"
   ]
  },
  {
   "cell_type": "code",
   "execution_count": 138,
   "id": "b829e7b1",
   "metadata": {},
   "outputs": [
    {
     "name": "stdout",
     "output_type": "stream",
     "text": [
      "[10, 20, 30, 40.8, 'Badminton', 101]\n"
     ]
    }
   ],
   "source": [
    "# method called append in list which gives permission to add memory space .\n",
    "# append method will only create memory space agt the end.\n",
    "\n",
    "a.append(101)\n",
    "print(a)"
   ]
  },
  {
   "cell_type": "code",
   "execution_count": 139,
   "id": "0d5f3932",
   "metadata": {},
   "outputs": [
    {
     "name": "stdout",
     "output_type": "stream",
     "text": [
      "[10, 20, 30, 40.8, 'Badminton', 101, 'datascience']\n"
     ]
    }
   ],
   "source": [
    "a.append('datascience')\n",
    "print(a)"
   ]
  },
  {
   "cell_type": "code",
   "execution_count": 143,
   "id": "b9b0523a",
   "metadata": {},
   "outputs": [
    {
     "name": "stdout",
     "output_type": "stream",
     "text": [
      "[10, 20, 23.7, 23, 30, 40.8, 'Badminton', 101, 'datascience']\n"
     ]
    }
   ],
   "source": [
    "#insert method can be used to create a memory space anywhere/whereevr u want using index in the variable .\n",
    "\n",
    "a.insert(2,23.7)\n",
    "print(a)"
   ]
  },
  {
   "cell_type": "code",
   "execution_count": 2,
   "id": "bdbb67ce",
   "metadata": {},
   "outputs": [
    {
     "name": "stdout",
     "output_type": "stream",
     "text": [
      "[10, 20, 30, 40.8, 'Badminton', 'data science']\n"
     ]
    }
   ],
   "source": [
    "a=[10,20,30,40.8, 'Badminton']\n",
    "a.append(\"data science\")          #append is going to add a extra memory space in the right end.\n",
    "print(a)"
   ]
  },
  {
   "cell_type": "code",
   "execution_count": 6,
   "id": "ceea5143",
   "metadata": {},
   "outputs": [
    {
     "name": "stdout",
     "output_type": "stream",
     "text": [
      "[10, 20, 'data analyst', 30, 'Data science']\n"
     ]
    }
   ],
   "source": [
    "a=[10,20,30,\"Data science\"]\n",
    "a.insert(2,\"data analyst\")\n",
    "print(a)"
   ]
  },
  {
   "cell_type": "code",
   "execution_count": 10,
   "id": "e4fbf125",
   "metadata": {},
   "outputs": [
    {
     "name": "stdout",
     "output_type": "stream",
     "text": [
      "[10, 20, 30, 'Artificial Intelligence']\n"
     ]
    }
   ],
   "source": [
    "#replace with another string\n",
    "\n",
    "a=[10,20,30,\"Data science\"]\n",
    "a[3]= 'Artificial Intelligence'\n",
    "print(a)"
   ]
  },
  {
   "cell_type": "code",
   "execution_count": 13,
   "id": "7f7ff8da",
   "metadata": {},
   "outputs": [
    {
     "name": "stdout",
     "output_type": "stream",
     "text": [
      "[10, 20, 30]\n"
     ]
    }
   ],
   "source": [
    "#delete memeory space \n",
    "\n",
    "del a[3]\n",
    "print(a)"
   ]
  },
  {
   "cell_type": "code",
   "execution_count": null,
   "id": "37f84b4c",
   "metadata": {},
   "outputs": [],
   "source": [
    "#fially , list is mutable and can change its behaviour."
   ]
  },
  {
   "cell_type": "markdown",
   "id": "c400fa0a",
   "metadata": {},
   "source": [
    "# Methods in list\n"
   ]
  },
  {
   "cell_type": "code",
   "execution_count": 14,
   "id": "286bb71f",
   "metadata": {},
   "outputs": [
    {
     "name": "stdout",
     "output_type": "stream",
     "text": [
      "[10, 50.6, 'data science', 'data engineer']\n"
     ]
    }
   ],
   "source": [
    "a=[10,50.6,'data science','data engineer']\n",
    "print(a)"
   ]
  },
  {
   "cell_type": "code",
   "execution_count": 15,
   "id": "56824239",
   "metadata": {},
   "outputs": [
    {
     "name": "stdout",
     "output_type": "stream",
     "text": [
      "[]\n"
     ]
    }
   ],
   "source": [
    "#clear   it clears all the values in the list and make the variable as empty : but clear cannot delete variable\n",
    "\n",
    "a.clear()\n",
    "print(a)                #variable is there in the memory space , but empty not deleted"
   ]
  },
  {
   "cell_type": "code",
   "execution_count": 16,
   "id": "36469835",
   "metadata": {},
   "outputs": [
    {
     "ename": "NameError",
     "evalue": "name 'a' is not defined",
     "output_type": "error",
     "traceback": [
      "\u001b[1;31m---------------------------------------------------------------------------\u001b[0m",
      "\u001b[1;31mNameError\u001b[0m                                 Traceback (most recent call last)",
      "Cell \u001b[1;32mIn[16], line 4\u001b[0m\n\u001b[0;32m      1\u001b[0m \u001b[38;5;66;03m#delete\u001b[39;00m\n\u001b[0;32m      3\u001b[0m \u001b[38;5;28;01mdel\u001b[39;00m a \n\u001b[1;32m----> 4\u001b[0m \u001b[38;5;28mprint\u001b[39m(\u001b[43ma\u001b[49m)\n",
      "\u001b[1;31mNameError\u001b[0m: name 'a' is not defined"
     ]
    }
   ],
   "source": [
    "#delete\n",
    "\n",
    "a=[10,50.6,'data science','data engineer']\n",
    "del a \n",
    "print(a)"
   ]
  },
  {
   "cell_type": "code",
   "execution_count": 18,
   "id": "6c54e234",
   "metadata": {},
   "outputs": [
    {
     "name": "stdout",
     "output_type": "stream",
     "text": [
      "[10, 50.6, 'data science', 'data engineer']\n",
      "[10, 50.6, 'data science', 'data engineer']\n"
     ]
    }
   ],
   "source": [
    "#copy\n",
    "\n",
    "a=[10,50.6,'data science','data engineer']\n",
    "b=a\n",
    "print(b)\n",
    "print(a)\n"
   ]
  },
  {
   "cell_type": "code",
   "execution_count": 20,
   "id": "d94627ab",
   "metadata": {},
   "outputs": [
    {
     "data": {
      "text/plain": [
       "1"
      ]
     },
     "execution_count": 20,
     "metadata": {},
     "output_type": "execute_result"
    }
   ],
   "source": [
    "#count  ; how many times the values is repeated\n",
    "\n",
    "a.count(50.6)"
   ]
  },
  {
   "cell_type": "code",
   "execution_count": 21,
   "id": "c6dd5c6f",
   "metadata": {},
   "outputs": [
    {
     "name": "stdout",
     "output_type": "stream",
     "text": [
      "2\n"
     ]
    }
   ],
   "source": [
    "a=[10,50.6,'data science','data engineer',10]\n",
    "print(a.count(10))"
   ]
  },
  {
   "cell_type": "code",
   "execution_count": 23,
   "id": "aff4f5c9",
   "metadata": {},
   "outputs": [
    {
     "name": "stdout",
     "output_type": "stream",
     "text": [
      "[10, 50.6, 'data science', 'data engineer', 10, 100, 200, 'data analyst', 100, 200, 'data analyst']\n"
     ]
    }
   ],
   "source": [
    "#extend  ; going to add another list at the end.\n",
    "\n",
    "a.extend([100,200,'data analyst'])\n",
    "print(a)\n",
    "\n"
   ]
  },
  {
   "cell_type": "code",
   "execution_count": 27,
   "id": "516bba2a",
   "metadata": {},
   "outputs": [
    {
     "data": {
      "text/plain": [
       "2"
      ]
     },
     "execution_count": 27,
     "metadata": {},
     "output_type": "execute_result"
    }
   ],
   "source": [
    "#index ; used to find the value of index what we have given\n",
    "a=[10,50.6,'data science','data engineer',10]\n",
    "a.index('data science')"
   ]
  },
  {
   "cell_type": "code",
   "execution_count": 32,
   "id": "b8c2b353",
   "metadata": {},
   "outputs": [
    {
     "data": {
      "text/plain": [
       "0"
      ]
     },
     "execution_count": 32,
     "metadata": {},
     "output_type": "execute_result"
    }
   ],
   "source": [
    "a.index(10)"
   ]
  },
  {
   "cell_type": "code",
   "execution_count": 33,
   "id": "0e3bddd7",
   "metadata": {},
   "outputs": [
    {
     "data": {
      "text/plain": [
       "4"
      ]
     },
     "execution_count": 33,
     "metadata": {},
     "output_type": "execute_result"
    }
   ],
   "source": [
    "a.index(10,1,8)"
   ]
  },
  {
   "cell_type": "code",
   "execution_count": 36,
   "id": "f6651ec0",
   "metadata": {},
   "outputs": [
    {
     "data": {
      "text/plain": [
       "10"
      ]
     },
     "execution_count": 36,
     "metadata": {},
     "output_type": "execute_result"
    }
   ],
   "source": [
    "# pop ; used to remove last memory space and we can also remove memory space whereever we want\n",
    "\n",
    "a=[10,50.6,'data science','data engineer',10]\n",
    "a.pop()\n"
   ]
  },
  {
   "cell_type": "code",
   "execution_count": 37,
   "id": "c22994db",
   "metadata": {},
   "outputs": [
    {
     "name": "stdout",
     "output_type": "stream",
     "text": [
      "[10, 50.6, 'data science', 'data engineer']\n"
     ]
    }
   ],
   "source": [
    "print(a)"
   ]
  },
  {
   "cell_type": "code",
   "execution_count": 38,
   "id": "15cacfd0",
   "metadata": {},
   "outputs": [
    {
     "data": {
      "text/plain": [
       "'data science'"
      ]
     },
     "execution_count": 38,
     "metadata": {},
     "output_type": "execute_result"
    }
   ],
   "source": [
    "#removing where ever we want;using index position\n",
    "\n",
    "a.pop(2)"
   ]
  },
  {
   "cell_type": "code",
   "execution_count": 39,
   "id": "09f9bb8c",
   "metadata": {},
   "outputs": [
    {
     "name": "stdout",
     "output_type": "stream",
     "text": [
      "[10, 50.6, 'data engineer']\n"
     ]
    }
   ],
   "source": [
    "print(a)"
   ]
  },
  {
   "cell_type": "code",
   "execution_count": 48,
   "id": "2f89880e",
   "metadata": {},
   "outputs": [
    {
     "name": "stdout",
     "output_type": "stream",
     "text": [
      "[10, 'data science', 'data engineer', 10]\n"
     ]
    }
   ],
   "source": [
    "#remove  ; it does not take the index value rather the value to get removed\n",
    "\n",
    "a=[10,50.6,'data science','data engineer',10]\n",
    "a.remove(50.6)\n",
    "print(a)\n"
   ]
  },
  {
   "cell_type": "code",
   "execution_count": 50,
   "id": "eceb8452",
   "metadata": {},
   "outputs": [
    {
     "name": "stdout",
     "output_type": "stream",
     "text": [
      "[10, 'data engineer', 'data science', 50.6, 10]\n"
     ]
    }
   ],
   "source": [
    "#reverse\n",
    "\n",
    "a=[10,50.6,'data science','data engineer',10]\n",
    "a.reverse()\n",
    "print(a)"
   ]
  },
  {
   "cell_type": "code",
   "execution_count": 52,
   "id": "c0840f5d",
   "metadata": {},
   "outputs": [
    {
     "name": "stdout",
     "output_type": "stream",
     "text": [
      "[10, 'data engineer', 'data science', 50.6, 10]\n"
     ]
    }
   ],
   "source": [
    "#reverse 2nd method by using [::-1]\n",
    "a[::-1]\n",
    "print(a)"
   ]
  },
  {
   "cell_type": "code",
   "execution_count": 56,
   "id": "d72c2269",
   "metadata": {},
   "outputs": [
    {
     "name": "stdout",
     "output_type": "stream",
     "text": [
      "[5, 10, 15, 20, 25, 30, 45, 60, 100]\n"
     ]
    }
   ],
   "source": [
    "#sort ; make them in ascending order or decending order\n",
    "\n",
    "a=[10,20,30,45,25,60,15,100,5]\n",
    "a.sort()  ; default in ascending order #ascending order\n",
    "print(a)"
   ]
  },
  {
   "cell_type": "code",
   "execution_count": 57,
   "id": "5d9aff47",
   "metadata": {},
   "outputs": [
    {
     "name": "stdout",
     "output_type": "stream",
     "text": [
      "[100, 60, 45, 30, 25, 20, 15, 10, 5]\n"
     ]
    }
   ],
   "source": [
    "a.sort(reverse=True)   # make them in descending order \n",
    "print(a)"
   ]
  },
  {
   "cell_type": "code",
   "execution_count": null,
   "id": "782273d4",
   "metadata": {},
   "outputs": [],
   "source": []
  }
 ],
 "metadata": {
  "kernelspec": {
   "display_name": "Python 3 (ipykernel)",
   "language": "python",
   "name": "python3"
  },
  "language_info": {
   "codemirror_mode": {
    "name": "ipython",
    "version": 3
   },
   "file_extension": ".py",
   "mimetype": "text/x-python",
   "name": "python",
   "nbconvert_exporter": "python",
   "pygments_lexer": "ipython3",
   "version": "3.10.9"
  }
 },
 "nbformat": 4,
 "nbformat_minor": 5
}
