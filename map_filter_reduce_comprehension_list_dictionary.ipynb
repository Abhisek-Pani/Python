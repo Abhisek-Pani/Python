{
 "cells": [
  {
   "cell_type": "markdown",
   "id": "873e1d91",
   "metadata": {},
   "source": [
    "## Map Filter and Reduce \n",
    "-used to reduce the time of the user "
   ]
  },
  {
   "cell_type": "code",
   "execution_count": 6,
   "id": "ce5b7185",
   "metadata": {},
   "outputs": [
    {
     "name": "stdout",
     "output_type": "stream",
     "text": [
      "2 4 6 8 10 "
     ]
    }
   ],
   "source": [
    "#find the even numbers from 1 to 11:\n",
    "\n",
    "for i in range (1,11):\n",
    "    if i %2 == 0:\n",
    "        print(i,end=' ')\n",
    "    "
   ]
  },
  {
   "cell_type": "code",
   "execution_count": 11,
   "id": "4109679b",
   "metadata": {},
   "outputs": [
    {
     "name": "stdout",
     "output_type": "stream",
     "text": [
      "2 4 6 8 10 "
     ]
    }
   ],
   "source": [
    "#find the even numbers from 1 to 11 using function:\n",
    "\n",
    "def even_odd():\n",
    "    for i in range (1,11):\n",
    "        if i %2 == 0:\n",
    "            print(i,end=' ')\n",
    "even_odd()\n",
    "    "
   ]
  },
  {
   "cell_type": "code",
   "execution_count": null,
   "id": "0b0a67f4",
   "metadata": {},
   "outputs": [],
   "source": []
  },
  {
   "cell_type": "code",
   "execution_count": null,
   "id": "6d53f9b6",
   "metadata": {},
   "outputs": [],
   "source": [
    "#map : reduces work as there is no need of loop [everything is taken care by map]\n",
    "# map = syntax (function, arguments)"
   ]
  },
  {
   "cell_type": "code",
   "execution_count": 17,
   "id": "c54f42ea",
   "metadata": {},
   "outputs": [
    {
     "name": "stdout",
     "output_type": "stream",
     "text": [
      "['False', 'None', 'True', 'and', 'as', 'assert', 'async', 'await', 'break', 'class', 'continue', 'def', 'del', 'elif', 'else', 'except', 'finally', 'for', 'from', 'global', 'if', 'import', 'in', 'is', 'lambda', 'nonlocal', 'not', 'or', 'pass', 'raise', 'return', 'try', 'while', 'with', 'yield']\n"
     ]
    }
   ],
   "source": [
    "# find the number of keywords in python\n",
    "\n",
    "import keyword\n",
    "print(keyword.kwlist)"
   ]
  },
  {
   "cell_type": "code",
   "execution_count": null,
   "id": "d866ad6d",
   "metadata": {},
   "outputs": [],
   "source": [
    "# maps and filter are 2 things working for loops and is saved in memory"
   ]
  },
  {
   "cell_type": "code",
   "execution_count": null,
   "id": "4b76cf6c",
   "metadata": {},
   "outputs": [],
   "source": [
    "# if condition does not satisfies it returns none "
   ]
  },
  {
   "cell_type": "code",
   "execution_count": 32,
   "id": "62a6d729",
   "metadata": {},
   "outputs": [],
   "source": [
    "def map_fuc(number):\n",
    "    if number % 2 == 0:\n",
    "        return number "
   ]
  },
  {
   "cell_type": "code",
   "execution_count": 33,
   "id": "439da67a",
   "metadata": {},
   "outputs": [
    {
     "name": "stdout",
     "output_type": "stream",
     "text": [
      "[10, 20, None, 14, 22, 46, 88, None, None]\n"
     ]
    }
   ],
   "source": [
    "#map(function_name, values)\n",
    "sol= map(map_fuc,[10,20,17,14,22,46,88,31,23])\n",
    "print(list(sol))   #list will pullout the result values \n"
   ]
  },
  {
   "cell_type": "code",
   "execution_count": 22,
   "id": "2155c49c",
   "metadata": {},
   "outputs": [],
   "source": [
    "# <map object at 0x00000192B14C85B0> means memory location"
   ]
  },
  {
   "cell_type": "code",
   "execution_count": 34,
   "id": "416967c9",
   "metadata": {},
   "outputs": [
    {
     "name": "stdout",
     "output_type": "stream",
     "text": [
      "[1, 2, 3, 4, 5, 6, 7, 8, 9, 10, 11, 12, 13, 14, 15, 16, 17, 18, 19, 20]\n"
     ]
    }
   ],
   "source": [
    "# find even and odd :\n",
    "\n",
    "values=[]\n",
    "for i in range (1,21):\n",
    "    values.append(i)\n",
    "print(values)\n"
   ]
  },
  {
   "cell_type": "code",
   "execution_count": 45,
   "id": "6fea31a5",
   "metadata": {},
   "outputs": [],
   "source": [
    "def map_fun(number):\n",
    "    if number%2 == 0 :\n",
    "        return 'even',number\n",
    "    else :\n",
    "        return 'odd',number \n",
    "\n"
   ]
  },
  {
   "cell_type": "code",
   "execution_count": 46,
   "id": "61192c86",
   "metadata": {},
   "outputs": [
    {
     "name": "stdout",
     "output_type": "stream",
     "text": [
      "[('odd', 1), ('even', 2), ('odd', 3), ('even', 4), ('odd', 5), ('even', 6), ('odd', 7), ('even', 8), ('odd', 9), ('even', 10), ('odd', 11), ('even', 12), ('odd', 13), ('even', 14), ('odd', 15), ('even', 16), ('odd', 17), ('even', 18), ('odd', 19), ('even', 20)]\n"
     ]
    }
   ],
   "source": [
    "sol = map (map_fun , values)\n",
    "print(list(sol))"
   ]
  },
  {
   "cell_type": "code",
   "execution_count": 47,
   "id": "907f9d14",
   "metadata": {},
   "outputs": [
    {
     "name": "stdout",
     "output_type": "stream",
     "text": [
      "[20, 30, 40, 50]\n"
     ]
    }
   ],
   "source": [
    "#lambda with map :\n",
    "\n",
    "a=[10,20,30,40]\n",
    "sol = list(map (lambda x : x + 10, a)) \n",
    "print(sol)\n"
   ]
  },
  {
   "cell_type": "code",
   "execution_count": 48,
   "id": "c927c3cb",
   "metadata": {},
   "outputs": [
    {
     "name": "stdout",
     "output_type": "stream",
     "text": [
      "[False, True, True, True]\n"
     ]
    }
   ],
   "source": [
    "#condition: \n",
    "a=[10,20,30,40]\n",
    "sol = list(map (lambda x : x > 10, a)) \n",
    "print(sol)\n"
   ]
  },
  {
   "cell_type": "code",
   "execution_count": null,
   "id": "ce3296e4",
   "metadata": {},
   "outputs": [],
   "source": [
    "# Filter function:\n",
    "# for map and filter , small difference : map gives none if doesnt satify the condition but filter does not take into consideration \n"
   ]
  },
  {
   "cell_type": "code",
   "execution_count": null,
   "id": "443cba94",
   "metadata": {},
   "outputs": [],
   "source": [
    "def map_fuc(number):\n",
    "    if number % 2 == 0:\n",
    "        return number "
   ]
  },
  {
   "cell_type": "code",
   "execution_count": 49,
   "id": "2acabb52",
   "metadata": {},
   "outputs": [
    {
     "name": "stdout",
     "output_type": "stream",
     "text": [
      "[10, 20, 14, 22, 46, 88]\n"
     ]
    }
   ],
   "source": [
    "#filter(function_name, values)\n",
    "sol= filter(map_fuc,[10,20,17,14,22,46,88,31,23])\n",
    "print(list(sol))   #list will pullout the result values \n"
   ]
  },
  {
   "cell_type": "code",
   "execution_count": 59,
   "id": "137ec7fe",
   "metadata": {},
   "outputs": [
    {
     "name": "stdout",
     "output_type": "stream",
     "text": [
      "[10, 20, 30, 40]\n"
     ]
    }
   ],
   "source": [
    "#lambda with filter :\n",
    "# filter will only takes the condition not the math operation \n",
    "a=[10,20,30,40]\n",
    "sol = (filter (lambda x : x + 10, a)) \n",
    "print(list(sol))"
   ]
  },
  {
   "cell_type": "code",
   "execution_count": 56,
   "id": "6d0a5234",
   "metadata": {},
   "outputs": [
    {
     "name": "stdout",
     "output_type": "stream",
     "text": [
      "[20, 30, 40]\n"
     ]
    }
   ],
   "source": [
    "a=[10,20,30,40]\n",
    "sol = list(filter (lambda x : x > 10, a)) \n",
    "print(sol)\n"
   ]
  },
  {
   "cell_type": "code",
   "execution_count": null,
   "id": "292778a3",
   "metadata": {},
   "outputs": [],
   "source": [
    "# in real time these functions are really time consuming process:\n"
   ]
  },
  {
   "cell_type": "code",
   "execution_count": 60,
   "id": "774a1f0e",
   "metadata": {},
   "outputs": [],
   "source": [
    "#Reduce function \n",
    "\n",
    "from functools import reduce"
   ]
  },
  {
   "cell_type": "code",
   "execution_count": 61,
   "id": "4ae7eac4",
   "metadata": {},
   "outputs": [
    {
     "name": "stdout",
     "output_type": "stream",
     "text": [
      "150\n"
     ]
    }
   ],
   "source": [
    "sol= reduce(lambda x,y : x+y , [10,20,30,40,50])\n",
    "print(sol)"
   ]
  },
  {
   "cell_type": "code",
   "execution_count": 66,
   "id": "67f2580d",
   "metadata": {},
   "outputs": [
    {
     "name": "stdout",
     "output_type": "stream",
     "text": [
      "[30, 40, 50, 60, 70]\n"
     ]
    }
   ],
   "source": [
    "#filter with map :\n",
    "\n",
    "a=[10,20,30,40,50,60]\n",
    "sol = map(lambda x : x + 10 , filter (lambda x : x > 10 , a))\n",
    "print(list(sol))"
   ]
  },
  {
   "cell_type": "code",
   "execution_count": 68,
   "id": "2e2289c2",
   "metadata": {},
   "outputs": [
    {
     "name": "stdout",
     "output_type": "stream",
     "text": [
      "[20, 22, 24]\n"
     ]
    }
   ],
   "source": [
    "# map with filter :\n",
    "\n",
    "a=[10,11,12,13,14]\n",
    "sol= filter(lambda x : x%2 == 0 , map(lambda x : x+10 ,a ))\n",
    "print(list(sol))\n",
    "\n"
   ]
  },
  {
   "cell_type": "code",
   "execution_count": 75,
   "id": "6d3fd7f5",
   "metadata": {},
   "outputs": [
    {
     "name": "stdout",
     "output_type": "stream",
     "text": [
      "55\n"
     ]
    }
   ],
   "source": [
    "# reduce with map and filter :\n",
    "\n",
    "a=[10,15,20]\n",
    "\n",
    "sol= reduce(lambda x, y : x+y , filter(lambda x : x >20 , map(lambda x : x + 10, a )))\n",
    "print(sol)"
   ]
  },
  {
   "cell_type": "markdown",
   "id": "e537aa39",
   "metadata": {},
   "source": [
    " # Comprehension Techniques "
   ]
  },
  {
   "cell_type": "markdown",
   "id": "74cff549",
   "metadata": {},
   "source": [
    "- `List comprehension` \n",
    "- `Dictionary comprehension`"
   ]
  },
  {
   "cell_type": "code",
   "execution_count": null,
   "id": "acb97feb",
   "metadata": {},
   "outputs": [],
   "source": [
    "# comprehension techniques is used to reduce the lines of code .\n",
    "# we can work with list and dictionary."
   ]
  },
  {
   "cell_type": "code",
   "execution_count": 84,
   "id": "03075fa6",
   "metadata": {},
   "outputs": [
    {
     "name": "stdout",
     "output_type": "stream",
     "text": [
      "good morning good morning good morning good morning good morning good morning good morning good morning good morning good morning good morning good morning good morning good morning good morning good morning good morning good morning good morning good morning "
     ]
    }
   ],
   "source": [
    "# print (20 times good morning):\n",
    "\n",
    "for i in range(1,21):\n",
    "    print('good morning',end=' ')"
   ]
  },
  {
   "cell_type": "code",
   "execution_count": 87,
   "id": "627af2b9",
   "metadata": {},
   "outputs": [
    {
     "name": "stdout",
     "output_type": "stream",
     "text": [
      "good morning good morning good morning good morning good morning good morning good morning good morning good morning good morning good morning good morning good morning good morning good morning good morning good morning good morning good morning good morning \n"
     ]
    }
   ],
   "source": [
    "print('good morning ' * 20)"
   ]
  },
  {
   "cell_type": "markdown",
   "id": "14338899",
   "metadata": {},
   "source": [
    "## List comprehension"
   ]
  },
  {
   "cell_type": "code",
   "execution_count": 89,
   "id": "01da622e",
   "metadata": {},
   "outputs": [
    {
     "name": "stdout",
     "output_type": "stream",
     "text": [
      "[1, 2, 3, 4, 5, 6, 7, 8, 9, 10, 11, 12, 13, 14, 15, 16, 17, 18, 19, 20]\n"
     ]
    }
   ],
   "source": [
    "sol= [i for i in range(1,21)]\n",
    "print(sol)"
   ]
  },
  {
   "cell_type": "code",
   "execution_count": 90,
   "id": "b251bd98",
   "metadata": {},
   "outputs": [
    {
     "name": "stdout",
     "output_type": "stream",
     "text": [
      "[3, 4, 5, 6, 7, 8, 9]\n"
     ]
    }
   ],
   "source": [
    "sol = [i for i in range (3,10)]\n",
    "print(sol)"
   ]
  },
  {
   "cell_type": "code",
   "execution_count": 94,
   "id": "a45b8924",
   "metadata": {},
   "outputs": [
    {
     "name": "stdout",
     "output_type": "stream",
     "text": [
      "['Abhisek Pani ', 'Abhisek Pani ', 'Abhisek Pani ', 'Abhisek Pani ', 'Abhisek Pani ', 'Abhisek Pani ', 'Abhisek Pani ', 'Abhisek Pani ', 'Abhisek Pani ', 'Abhisek Pani ', 'Abhisek Pani ', 'Abhisek Pani ', 'Abhisek Pani ', 'Abhisek Pani ', 'Abhisek Pani ']\n"
     ]
    }
   ],
   "source": [
    "#single line code : list comprehension\n",
    "print (['Abhisek Pani ' for i in range (1,16)])"
   ]
  },
  {
   "cell_type": "code",
   "execution_count": 95,
   "id": "04f384f4",
   "metadata": {},
   "outputs": [
    {
     "name": "stdout",
     "output_type": "stream",
     "text": [
      "52 54 56 58 60 "
     ]
    }
   ],
   "source": [
    "# find the even numbers from 51 to 61 :\n",
    "\n",
    "for i in range (51,61):\n",
    "    if i % 2 == 0:\n",
    "        print(i,end=' ')"
   ]
  },
  {
   "cell_type": "code",
   "execution_count": 96,
   "id": "0a671025",
   "metadata": {},
   "outputs": [
    {
     "name": "stdout",
     "output_type": "stream",
     "text": [
      "[52, 54, 56, 58, 60]\n"
     ]
    }
   ],
   "source": [
    "#using comprehension:\n",
    "# using only for loops means syntax will be [result : for loop]\n",
    "#but when using for loop and if condition the syntax will be [ result :  for loop: if condition]\n",
    "\n",
    "sol=[i for i in range (51,61) if i % 2== 0]\n",
    "print(sol)"
   ]
  },
  {
   "cell_type": "code",
   "execution_count": 98,
   "id": "2453eaa7",
   "metadata": {},
   "outputs": [
    {
     "name": "stdout",
     "output_type": "stream",
     "text": [
      "51 odd 52 even 53 odd 54 even 55 odd 56 even 57 odd 58 even 59 odd 60 even "
     ]
    }
   ],
   "source": [
    "# find odd and even between 51 and 61 using normal; python code :\n",
    "\n",
    "for i in range(51,61):\n",
    "    if i % 2 == 0 :\n",
    "        print(i,'even',end=' ')\n",
    "    else:\n",
    "        print(i,'odd',end=' ')"
   ]
  },
  {
   "cell_type": "code",
   "execution_count": 103,
   "id": "e98902b1",
   "metadata": {},
   "outputs": [
    {
     "name": "stdout",
     "output_type": "stream",
     "text": [
      "['odd 51', 'even 52', 'odd 53', 'even 54', 'odd 55', 'even 56', 'odd 57', 'even 58', 'odd 59', 'even 60']\n"
     ]
    }
   ],
   "source": [
    "# we will write in one single line(comprehension)\n",
    "# syntax will change for : [result: if condition:else condition:for loop ]\n",
    "\n",
    "# find odd and even between 51 and 61 using comprehension :\n",
    "sol=['even '+ str(i) if i % 2 == 0 else 'odd '+ str(i) for i in range (51,61)]\n",
    "print(sol)"
   ]
  },
  {
   "cell_type": "markdown",
   "id": "0cb662c9",
   "metadata": {},
   "source": [
    "# dictionary comprehension:\n",
    "\n"
   ]
  },
  {
   "cell_type": "code",
   "execution_count": 104,
   "id": "0026d94a",
   "metadata": {},
   "outputs": [
    {
     "name": "stdout",
     "output_type": "stream",
     "text": [
      "30\n"
     ]
    }
   ],
   "source": [
    "def fun(a):\n",
    "    if a > 20:\n",
    "        print(a)\n",
    "fun(30)"
   ]
  },
  {
   "cell_type": "code",
   "execution_count": 105,
   "id": "465fa74b",
   "metadata": {},
   "outputs": [
    {
     "name": "stdout",
     "output_type": "stream",
     "text": [
      "{'apple': 100, 'banana': 60}\n"
     ]
    }
   ],
   "source": [
    "#same syntax as list comprehension:\n",
    "\n",
    "fruits= {'apple':80,'banana':40}\n",
    "\n",
    "for i in fruits:\n",
    "    fruits[i]=fruits[i]+20\n",
    "print(fruits)\n"
   ]
  },
  {
   "cell_type": "code",
   "execution_count": 107,
   "id": "b4a747a3",
   "metadata": {},
   "outputs": [
    {
     "name": "stdout",
     "output_type": "stream",
     "text": [
      "{'apple': 100, 'banana': 60}\n"
     ]
    }
   ],
   "source": [
    "#do it with compreshension\n",
    "fruits= {'apple':80,'banana':40}\n",
    "sol={i:j+20 for i,j in fruits.items()}\n",
    "print(sol)"
   ]
  },
  {
   "cell_type": "code",
   "execution_count": null,
   "id": "d09218cf",
   "metadata": {},
   "outputs": [],
   "source": []
  },
  {
   "cell_type": "code",
   "execution_count": null,
   "id": "3fafc20c",
   "metadata": {},
   "outputs": [],
   "source": []
  },
  {
   "cell_type": "code",
   "execution_count": null,
   "id": "70a0af81",
   "metadata": {},
   "outputs": [],
   "source": []
  },
  {
   "cell_type": "code",
   "execution_count": null,
   "id": "1e10422d",
   "metadata": {},
   "outputs": [],
   "source": []
  },
  {
   "cell_type": "code",
   "execution_count": null,
   "id": "69fbabe4",
   "metadata": {},
   "outputs": [],
   "source": []
  },
  {
   "cell_type": "code",
   "execution_count": null,
   "id": "ea7dfecf",
   "metadata": {},
   "outputs": [],
   "source": []
  },
  {
   "cell_type": "code",
   "execution_count": null,
   "id": "9a80d432",
   "metadata": {},
   "outputs": [],
   "source": []
  },
  {
   "cell_type": "code",
   "execution_count": null,
   "id": "e8f50c3a",
   "metadata": {},
   "outputs": [],
   "source": []
  },
  {
   "cell_type": "code",
   "execution_count": null,
   "id": "096eed5e",
   "metadata": {},
   "outputs": [],
   "source": []
  },
  {
   "cell_type": "code",
   "execution_count": null,
   "id": "ec0f6349",
   "metadata": {},
   "outputs": [],
   "source": []
  },
  {
   "cell_type": "code",
   "execution_count": null,
   "id": "01fc0199",
   "metadata": {},
   "outputs": [],
   "source": []
  },
  {
   "cell_type": "code",
   "execution_count": null,
   "id": "ccb16cf7",
   "metadata": {},
   "outputs": [],
   "source": []
  },
  {
   "cell_type": "code",
   "execution_count": null,
   "id": "6e939859",
   "metadata": {},
   "outputs": [],
   "source": []
  },
  {
   "cell_type": "code",
   "execution_count": null,
   "id": "4225cdea",
   "metadata": {},
   "outputs": [],
   "source": []
  },
  {
   "cell_type": "code",
   "execution_count": null,
   "id": "21e87e4d",
   "metadata": {},
   "outputs": [],
   "source": []
  }
 ],
 "metadata": {
  "kernelspec": {
   "display_name": "Python 3 (ipykernel)",
   "language": "python",
   "name": "python3"
  },
  "language_info": {
   "codemirror_mode": {
    "name": "ipython",
    "version": 3
   },
   "file_extension": ".py",
   "mimetype": "text/x-python",
   "name": "python",
   "nbconvert_exporter": "python",
   "pygments_lexer": "ipython3",
   "version": "3.10.9"
  }
 },
 "nbformat": 4,
 "nbformat_minor": 5
}
