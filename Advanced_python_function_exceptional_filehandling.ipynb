{
 "cells": [
  {
   "cell_type": "markdown",
   "id": "2f8074f6",
   "metadata": {},
   "source": [
    "### Core python : means learning the core basics\n",
    "### Advanced python : use it in real time \n",
    "\n",
    "### Topics under Advanced Python:\n",
    "    - File Handling\n",
    "    - Exception Handling\n",
    "    - Class and Onjects ****\n",
    "    - oops concept \n",
    "    - Inheritance \n",
    "    - Polymorphism \n",
    "    - Abstraction \n",
    "    - encapsulation \n",
    "    - constructor****\n",
    "    \n",
    "    "
   ]
  },
  {
   "cell_type": "markdown",
   "id": "991e7a49",
   "metadata": {},
   "source": [
    "## File handing :\n",
    "\n",
    "\n",
    "\n"
   ]
  },
  {
   "cell_type": "markdown",
   "id": "8e627bad",
   "metadata": {},
   "source": [
    "` create a .txt file manually and insert data into it `: "
   ]
  },
  {
   "cell_type": "markdown",
   "id": "3c6e01c8",
   "metadata": {},
   "source": [
    "### types of ways of file handling techniques :\n",
    "    - w : write the data \n",
    "    - r : read the data \n",
    "    - a : add [append the data]\n",
    "    - readline : used to read the single line from the data \n",
    "    - readlines : read the entire data ."
   ]
  },
  {
   "cell_type": "code",
   "execution_count": 3,
   "id": "36a7aa24",
   "metadata": {},
   "outputs": [],
   "source": [
    "# syntaxx for file handling : [1 . Normal .... 2.Real time ]"
   ]
  },
  {
   "cell_type": "code",
   "execution_count": null,
   "id": "7e6ade77",
   "metadata": {},
   "outputs": [],
   "source": [
    "# Normal way : syntax :[variable = open (location, extension)]"
   ]
  },
  {
   "cell_type": "markdown",
   "id": "200359fd",
   "metadata": {},
   "source": [
    "### w : write the data "
   ]
  },
  {
   "cell_type": "code",
   "execution_count": 7,
   "id": "25748258",
   "metadata": {},
   "outputs": [],
   "source": [
    "# if the file not there means it is going to create the file and insert data into it:\n",
    "#creating file at the same location\n",
    "a = open ('demo.txt', 'w')\n",
    "a.write ('Ap wants to be an IPS officier')\n",
    "a.close()    # close is used to come back."
   ]
  },
  {
   "cell_type": "code",
   "execution_count": 10,
   "id": "a299d1a6",
   "metadata": {},
   "outputs": [],
   "source": [
    "# another example : creating file at a other location :\n",
    "\n",
    "a = open('C:\\\\Users\\\\USER\\\\Desktop\\\\expert.txt', 'w')\n",
    "a.write ('I am looking forward to become a data scientist')\n",
    "a.close()"
   ]
  },
  {
   "cell_type": "code",
   "execution_count": 16,
   "id": "46b8ad5b",
   "metadata": {},
   "outputs": [
    {
     "name": "stdout",
     "output_type": "stream",
     "text": [
      "I am looking forward to become a data scientistI am looking forward to become a data scientist\n"
     ]
    }
   ],
   "source": [
    "# if the file is there then we can read the data:\n",
    "\n",
    "a = open('C:\\\\Users\\\\USER\\\\Desktop\\\\bhagwan.txt', 'r')\n",
    "print(a.read())"
   ]
  },
  {
   "cell_type": "code",
   "execution_count": 17,
   "id": "9fc72651",
   "metadata": {},
   "outputs": [],
   "source": [
    "#difference between w and a : \n",
    "# w will only write the data if file not there whereas a wil add the data to the file :\n",
    "\n",
    "a = open('C:\\\\Users\\\\USER\\\\Desktop\\\\expert.txt', 'w')\n",
    "a.write ('I am a AI expert')\n",
    "a.close()"
   ]
  },
  {
   "cell_type": "code",
   "execution_count": 18,
   "id": "22c4f217",
   "metadata": {},
   "outputs": [],
   "source": [
    "a = open('C:\\\\Users\\\\USER\\\\Desktop\\\\expert.txt', 'a')\n",
    "a.write ('I am a AI expert as well as coding specialist.')\n",
    "a.close()"
   ]
  },
  {
   "cell_type": "code",
   "execution_count": 19,
   "id": "681a4e13",
   "metadata": {},
   "outputs": [
    {
     "name": "stdout",
     "output_type": "stream",
     "text": [
      "I am a AI expertI am a AI expert as well as coding specialist.\n"
     ]
    }
   ],
   "source": [
    "# r : read the data from the file : \n",
    "a = open('C:\\\\Users\\\\USER\\\\Desktop\\\\expert.txt', 'r')\n",
    "print(a.read())"
   ]
  },
  {
   "cell_type": "code",
   "execution_count": 25,
   "id": "5501fd1a",
   "metadata": {},
   "outputs": [
    {
     "name": "stdout",
     "output_type": "stream",
     "text": [
      "Python is a high-level, general-purpose programming language. Its design philosophy emphasizes code readability with the use of significant indentation via the off-side rule. Python is dynamically typed and garbage-collected. Wikipedia\n",
      "\n"
     ]
    }
   ],
   "source": [
    "# readline : read a single line from the file(small portion of the data , not the full data )\n",
    "\n",
    "a = open('C:\\\\Users\\\\USER\\\\Desktop\\\\expert.txt', 'r')\n",
    "print(a.readline())"
   ]
  },
  {
   "cell_type": "code",
   "execution_count": 26,
   "id": "41fd9d7f",
   "metadata": {},
   "outputs": [
    {
     "name": "stdout",
     "output_type": "stream",
     "text": [
      "['Python is a high-level, general-purpose programming language. Its design philosophy emphasizes code readability with the use of significant indentation via the off-side rule. Python is dynamically typed and garbage-collected. Wikipedia\\n', 'Designed by: Guido van Rossum\\n', 'Developer: Python Software Foundation\\n', 'First appeared: 20 February 1991; 32 years ago\\n', 'OS: Windows, macOS, Linux/UNIX, Android and more\\n', 'Paradigm: Multi-paradigm: object-oriented, procedural (imperative), functional, structured, reflective\\n', 'Preview release: 3.12.0b1 / 22 May 2023; 12 days ago\\n', 'Stable release: 3.11.3 / 5 April 2023; 59 days ago']\n"
     ]
    }
   ],
   "source": [
    "#readlines: read the entire data present in the file.\n",
    "\n",
    "a = open('C:\\\\Users\\\\USER\\\\Desktop\\\\expert.txt', 'r')\n",
    "print(a.readlines())"
   ]
  },
  {
   "cell_type": "markdown",
   "id": "1a9caac6",
   "metadata": {},
   "source": [
    "# How team works in the companies with this techniques(Real time use):"
   ]
  },
  {
   "cell_type": "code",
   "execution_count": 28,
   "id": "29795647",
   "metadata": {},
   "outputs": [],
   "source": [
    "# w : write the data ; syntax ; [with open(location,mode) as variable]\n",
    "                                #logic"
   ]
  },
  {
   "cell_type": "code",
   "execution_count": 32,
   "id": "54052e98",
   "metadata": {},
   "outputs": [],
   "source": [
    "with open('C:\\\\Users\\\\USER\\\\Desktop\\\\ap.txt','w') as b:\n",
    "    b.write('ap is awesome and he beleives in time .')\n",
    "    b.close()"
   ]
  },
  {
   "cell_type": "code",
   "execution_count": 33,
   "id": "3056d72d",
   "metadata": {},
   "outputs": [
    {
     "name": "stdout",
     "output_type": "stream",
     "text": [
      "ap is awesome and he beleives in time .\n"
     ]
    }
   ],
   "source": [
    "# r : read the data \n",
    "\n",
    "with open('C:\\\\Users\\\\USER\\\\Desktop\\\\ap.txt','r') as b:\n",
    "    print(b.read())\n"
   ]
  },
  {
   "cell_type": "code",
   "execution_count": 34,
   "id": "9b702a61",
   "metadata": {},
   "outputs": [
    {
     "name": "stdout",
     "output_type": "stream",
     "text": [
      "ap is awesome and he beleives in time.Python is a high-level, general-purpose programming language. Its design philosophy emphasizes code readability with the use of significant indentation via the off-side rule. Python is dynamically typed and garbage-collected. Wikipedia\n",
      "\n"
     ]
    }
   ],
   "source": [
    "# readline : small data \n",
    "\n",
    "with open('C:\\\\Users\\\\USER\\\\Desktop\\\\ap.txt','r') as b:\n",
    "    print(b.readline())\n"
   ]
  },
  {
   "cell_type": "code",
   "execution_count": 35,
   "id": "e3578214",
   "metadata": {},
   "outputs": [
    {
     "name": "stdout",
     "output_type": "stream",
     "text": [
      "['ap is awesome and he beleives in time.Python is a high-level, general-purpose programming language. Its design philosophy emphasizes code readability with the use of significant indentation via the off-side rule. Python is dynamically typed and garbage-collected. Wikipedia\\n', 'Designed by: Guido van Rossum\\n', 'Developer: Python Software Foundation\\n', 'First appeared: 20 February 1991; 32 years ago\\n', 'OS: Windows, macOS, Linux/UNIX, Android and more\\n', 'Paradigm: Multi-paradigm: object-oriented, procedural (imperative), functional, structured, reflective\\n', 'Preview release: 3.12.0b1 / 22 May 2023; 12 days ago\\n', 'Stable release: 3.11.3 / 5 April 2023; 59 days ago']\n"
     ]
    }
   ],
   "source": [
    "# readlines : entire data \n",
    "\n",
    "with open('C:\\\\Users\\\\USER\\\\Desktop\\\\ap.txt','r') as b:\n",
    "    print(b.readlines())\n"
   ]
  },
  {
   "cell_type": "code",
   "execution_count": 37,
   "id": "4b9546f7",
   "metadata": {},
   "outputs": [],
   "source": [
    "# a : add data \n",
    "\n",
    "with open('C:\\\\Users\\\\USER\\\\Desktop\\\\ap.txt','a') as b:\n",
    "    b.write(' PLEASE HAVE PATIENCE , EVERYTHING IS GONNA ALRIGHGT')\n",
    "    b.close()\n"
   ]
  },
  {
   "cell_type": "code",
   "execution_count": 38,
   "id": "692b2e98",
   "metadata": {},
   "outputs": [],
   "source": [
    "# insert the data into next line :\n",
    "\n",
    "with open('C:\\\\Users\\\\USER\\\\Desktop\\\\ap.txt','a') as b:\n",
    "    b.write('\\n PLEASE HAVE PATIENCE , EVERYTHING IS GONNA ALRIGHGT')        # \\n -> next line of the data \n",
    "    b.close()\n"
   ]
  },
  {
   "cell_type": "code",
   "execution_count": 40,
   "id": "f1be7e38",
   "metadata": {},
   "outputs": [
    {
     "name": "stdout",
     "output_type": "stream",
     "text": [
      "Ashutosh\n",
      "Abhisek\n"
     ]
    }
   ],
   "source": [
    "# \\n : next line \n",
    "\n",
    "a= 'Ashutosh\\nAbhisek'\n",
    "print(a)"
   ]
  },
  {
   "cell_type": "code",
   "execution_count": 41,
   "id": "b6d2c6cd",
   "metadata": {},
   "outputs": [
    {
     "name": "stdout",
     "output_type": "stream",
     "text": [
      "Ashutosh\tAbhisek\n"
     ]
    }
   ],
   "source": [
    "# \\t : one tab space \n",
    "\n",
    "a= 'Ashutosh\\tAbhisek'\n",
    "print(a)"
   ]
  },
  {
   "cell_type": "markdown",
   "id": "f54d80fe",
   "metadata": {},
   "source": [
    "### Exceptional Handling "
   ]
  },
  {
   "cell_type": "markdown",
   "id": "d9b25865",
   "metadata": {},
   "source": [
    "###### means understanding (handling) the error \n",
    "\n",
    "`To learn we are having 5 errors`\n",
    "\n",
    "    - ZeroDivisionError\n",
    "    - NameError\n",
    "    - ValueError\n",
    "    - Indentation Error\n",
    "    - IOE Error (input and output)"
   ]
  },
  {
   "cell_type": "markdown",
   "id": "fc823a76",
   "metadata": {},
   "source": [
    "### ZeroDivisionError"
   ]
  },
  {
   "cell_type": "code",
   "execution_count": 49,
   "id": "3e3bf7c2",
   "metadata": {},
   "outputs": [
    {
     "data": {
      "text/plain": [
       "0.0"
      ]
     },
     "execution_count": 49,
     "metadata": {},
     "output_type": "execute_result"
    }
   ],
   "source": [
    "0 / 12"
   ]
  },
  {
   "cell_type": "code",
   "execution_count": 50,
   "id": "eee0c9ae",
   "metadata": {},
   "outputs": [
    {
     "ename": "ZeroDivisionError",
     "evalue": "division by zero",
     "output_type": "error",
     "traceback": [
      "\u001b[1;31m---------------------------------------------------------------------------\u001b[0m",
      "\u001b[1;31mZeroDivisionError\u001b[0m                         Traceback (most recent call last)",
      "Cell \u001b[1;32mIn[50], line 1\u001b[0m\n\u001b[1;32m----> 1\u001b[0m \u001b[38;5;241;43m12\u001b[39;49m\u001b[38;5;241;43m/\u001b[39;49m\u001b[38;5;241;43m0\u001b[39;49m\n",
      "\u001b[1;31mZeroDivisionError\u001b[0m: division by zero"
     ]
    }
   ],
   "source": [
    "12/0    # maths have infinity concept but cpu has limits "
   ]
  },
  {
   "cell_type": "markdown",
   "id": "d9494fb8",
   "metadata": {},
   "source": [
    "### NameError"
   ]
  },
  {
   "cell_type": "code",
   "execution_count": 51,
   "id": "8911294c",
   "metadata": {},
   "outputs": [
    {
     "ename": "NameError",
     "evalue": "name 'printy' is not defined",
     "output_type": "error",
     "traceback": [
      "\u001b[1;31m---------------------------------------------------------------------------\u001b[0m",
      "\u001b[1;31mNameError\u001b[0m                                 Traceback (most recent call last)",
      "Cell \u001b[1;32mIn[51], line 2\u001b[0m\n\u001b[0;32m      1\u001b[0m a\u001b[38;5;241m=\u001b[39m \u001b[38;5;124m'\u001b[39m\u001b[38;5;124mAbhisek\u001b[39m\u001b[38;5;124m'\u001b[39m\n\u001b[1;32m----> 2\u001b[0m \u001b[43mprinty\u001b[49m(A)\n",
      "\u001b[1;31mNameError\u001b[0m: name 'printy' is not defined"
     ]
    }
   ],
   "source": [
    "a= 'Abhisek'\n",
    "printy(A)    # case sensitive "
   ]
  },
  {
   "cell_type": "markdown",
   "id": "d224a5a6",
   "metadata": {},
   "source": [
    "### ValueError"
   ]
  },
  {
   "cell_type": "code",
   "execution_count": 52,
   "id": "00bd4471",
   "metadata": {},
   "outputs": [
    {
     "ename": "ValueError",
     "evalue": "invalid literal for int() with base 10: 'data'",
     "output_type": "error",
     "traceback": [
      "\u001b[1;31m---------------------------------------------------------------------------\u001b[0m",
      "\u001b[1;31mValueError\u001b[0m                                Traceback (most recent call last)",
      "Cell \u001b[1;32mIn[52], line 2\u001b[0m\n\u001b[0;32m      1\u001b[0m a\u001b[38;5;241m=\u001b[39m\u001b[38;5;124m'\u001b[39m\u001b[38;5;124mdata\u001b[39m\u001b[38;5;124m'\u001b[39m\n\u001b[1;32m----> 2\u001b[0m b\u001b[38;5;241m=\u001b[39m\u001b[38;5;28;43mint\u001b[39;49m\u001b[43m(\u001b[49m\u001b[43ma\u001b[49m\u001b[43m)\u001b[49m\n\u001b[0;32m      3\u001b[0m \u001b[38;5;28mprint\u001b[39m(b)\n",
      "\u001b[1;31mValueError\u001b[0m: invalid literal for int() with base 10: 'data'"
     ]
    }
   ],
   "source": [
    "a='data'\n",
    "b=int(a)\n",
    "print(b)    #strings cant be printed as integers "
   ]
  },
  {
   "cell_type": "markdown",
   "id": "9111c413",
   "metadata": {},
   "source": [
    "### Indentation Error"
   ]
  },
  {
   "cell_type": "code",
   "execution_count": 55,
   "id": "a4602ffa",
   "metadata": {},
   "outputs": [
    {
     "ename": "IndentationError",
     "evalue": "expected an indented block after 'for' statement on line 1 (2784837070.py, line 2)",
     "output_type": "error",
     "traceback": [
      "\u001b[1;36m  Cell \u001b[1;32mIn[55], line 2\u001b[1;36m\u001b[0m\n\u001b[1;33m    print(i,end='')\u001b[0m\n\u001b[1;37m    ^\u001b[0m\n\u001b[1;31mIndentationError\u001b[0m\u001b[1;31m:\u001b[0m expected an indented block after 'for' statement on line 1\n"
     ]
    }
   ],
   "source": [
    "for i in range (10):\n",
    "print(i,end='')"
   ]
  },
  {
   "cell_type": "code",
   "execution_count": 54,
   "id": "f4db959c",
   "metadata": {},
   "outputs": [
    {
     "name": "stdout",
     "output_type": "stream",
     "text": [
      "0123456789"
     ]
    }
   ],
   "source": [
    "for i in range (10):\n",
    "    print(i,end='')"
   ]
  },
  {
   "cell_type": "markdown",
   "id": "6677b985",
   "metadata": {},
   "source": [
    "### IOE Error"
   ]
  },
  {
   "cell_type": "code",
   "execution_count": 58,
   "id": "b79ebf00",
   "metadata": {},
   "outputs": [
    {
     "ename": "UnsupportedOperation",
     "evalue": "not writable",
     "output_type": "error",
     "traceback": [
      "\u001b[1;31m---------------------------------------------------------------------------\u001b[0m",
      "\u001b[1;31mUnsupportedOperation\u001b[0m                      Traceback (most recent call last)",
      "Cell \u001b[1;32mIn[58], line 2\u001b[0m\n\u001b[0;32m      1\u001b[0m \u001b[38;5;28;01mwith\u001b[39;00m \u001b[38;5;28mopen\u001b[39m(\u001b[38;5;124m'\u001b[39m\u001b[38;5;124mC:\u001b[39m\u001b[38;5;130;01m\\\\\u001b[39;00m\u001b[38;5;124mUsers\u001b[39m\u001b[38;5;130;01m\\\\\u001b[39;00m\u001b[38;5;124mUSER\u001b[39m\u001b[38;5;130;01m\\\\\u001b[39;00m\u001b[38;5;124mDesktop\u001b[39m\u001b[38;5;130;01m\\\\\u001b[39;00m\u001b[38;5;124mhorse.txt\u001b[39m\u001b[38;5;124m'\u001b[39m,\u001b[38;5;124m'\u001b[39m\u001b[38;5;124mr\u001b[39m\u001b[38;5;124m'\u001b[39m) \u001b[38;5;28;01mas\u001b[39;00m b:\n\u001b[1;32m----> 2\u001b[0m     \u001b[43mb\u001b[49m\u001b[38;5;241;43m.\u001b[39;49m\u001b[43mwrite\u001b[49m\u001b[43m(\u001b[49m\u001b[38;5;124;43m'\u001b[39;49m\u001b[38;5;124;43map is awesome and he beleives in time .\u001b[39;49m\u001b[38;5;124;43m'\u001b[39;49m\u001b[43m)\u001b[49m\n\u001b[0;32m      3\u001b[0m     b\u001b[38;5;241m.\u001b[39mclose()\n",
      "\u001b[1;31mUnsupportedOperation\u001b[0m: not writable"
     ]
    }
   ],
   "source": [
    "with open('C:\\\\Users\\\\USER\\\\Desktop\\\\horse.txt','r') as b:\n",
    "    b.write('ap is awesome and he beleives in time .')\n",
    "    b.close()"
   ]
  },
  {
   "cell_type": "markdown",
   "id": "b29c2c5a",
   "metadata": {},
   "source": [
    "### Using Exceptional blocks we can handle the error:"
   ]
  },
  {
   "cell_type": "raw",
   "id": "0560339f",
   "metadata": {},
   "source": [
    "# syntax:\n",
    "\n",
    "try:\n",
    "    #logic\n",
    "except:\n",
    "    #logic\n",
    "    "
   ]
  },
  {
   "cell_type": "code",
   "execution_count": 60,
   "id": "3cda425e",
   "metadata": {},
   "outputs": [
    {
     "ename": "ZeroDivisionError",
     "evalue": "division by zero",
     "output_type": "error",
     "traceback": [
      "\u001b[1;31m---------------------------------------------------------------------------\u001b[0m",
      "\u001b[1;31mZeroDivisionError\u001b[0m                         Traceback (most recent call last)",
      "Cell \u001b[1;32mIn[60], line 3\u001b[0m\n\u001b[0;32m      1\u001b[0m a\u001b[38;5;241m=\u001b[39m \u001b[38;5;241m10\u001b[39m\n\u001b[0;32m      2\u001b[0m b\u001b[38;5;241m=\u001b[39m \u001b[38;5;241m0\u001b[39m \n\u001b[1;32m----> 3\u001b[0m c \u001b[38;5;241m=\u001b[39m \u001b[43ma\u001b[49m\u001b[38;5;241;43m/\u001b[39;49m\u001b[43mb\u001b[49m \n\u001b[0;32m      4\u001b[0m \u001b[38;5;28mprint\u001b[39m(c)\n",
      "\u001b[1;31mZeroDivisionError\u001b[0m: division by zero"
     ]
    }
   ],
   "source": [
    "a= 10\n",
    "b= 0 \n",
    "c = a/b \n",
    "print(c)"
   ]
  },
  {
   "cell_type": "code",
   "execution_count": 63,
   "id": "1fe530c3",
   "metadata": {},
   "outputs": [
    {
     "name": "stdout",
     "output_type": "stream",
     "text": [
      "dont use zero as denominator\n"
     ]
    }
   ],
   "source": [
    "# inside the try block write the code : \n",
    "try :\n",
    "    a= 10\n",
    "    b= 0 \n",
    "    c = a/b \n",
    "    print(c)\n",
    "except:\n",
    "    print(\"dont use zero as denominator\") \n",
    "    "
   ]
  },
  {
   "cell_type": "code",
   "execution_count": 66,
   "id": "c3312e60",
   "metadata": {},
   "outputs": [
    {
     "name": "stdout",
     "output_type": "stream",
     "text": [
      "division by zero\n"
     ]
    }
   ],
   "source": [
    "# what aactually cpu is facing :\n",
    " \n",
    "try :\n",
    "    a= 10\n",
    "    b= 0 \n",
    "    c = a/b \n",
    "    print(c)\n",
    "except Exception as d:\n",
    "    print(d) "
   ]
  },
  {
   "cell_type": "code",
   "execution_count": 67,
   "id": "e262fe41",
   "metadata": {},
   "outputs": [
    {
     "name": "stdout",
     "output_type": "stream",
     "text": [
      "name 'A' is not defined\n"
     ]
    }
   ],
   "source": [
    "# what aactually cpu is facing :\n",
    "#value error\n",
    "try :\n",
    "    a= 'data science'\n",
    "    print(A)\n",
    "except Exception as d:\n",
    "    print(d) "
   ]
  },
  {
   "cell_type": "code",
   "execution_count": 68,
   "id": "0de6ce8c",
   "metadata": {},
   "outputs": [
    {
     "name": "stdout",
     "output_type": "stream",
     "text": [
      "invalid literal for int() with base 10: 'data science'\n"
     ]
    }
   ],
   "source": [
    "try :\n",
    "    a= 'data science'\n",
    "    print(int(a))\n",
    "except Exception as d:\n",
    "    print(d) "
   ]
  },
  {
   "cell_type": "code",
   "execution_count": null,
   "id": "bd704f21",
   "metadata": {},
   "outputs": [],
   "source": [
    "try :\n",
    "    with open('C:\\\\Users\\\\USER\\\\Desktop\\\\Jungle.txt','r') as b:\n",
    "        print(b.read())\n",
    "    \n",
    "except Exception as d:\n",
    "    print(d) "
   ]
  },
  {
   "cell_type": "code",
   "execution_count": 73,
   "id": "762accf5",
   "metadata": {},
   "outputs": [
    {
     "name": "stdout",
     "output_type": "stream",
     "text": [
      "30\n"
     ]
    }
   ],
   "source": [
    "try :\n",
    "    a= 10\n",
    "    b= 20\n",
    "    c = a+b \n",
    "    print(c)\n",
    "except Exception as d:\n",
    "    print(d) "
   ]
  },
  {
   "cell_type": "code",
   "execution_count": 75,
   "id": "b9f19dfb",
   "metadata": {},
   "outputs": [
    {
     "name": "stdout",
     "output_type": "stream",
     "text": [
      "division by zero\n"
     ]
    }
   ],
   "source": [
    "# \n",
    "\n",
    "try:\n",
    "    a='python'\n",
    "    b=10\n",
    "    c=0\n",
    "    d=b/c\n",
    "    e=int(a)\n",
    "    print(d)\n",
    "    print(e)\n",
    "except ValueError as e :\n",
    "    print(e)\n",
    "except ZeroDivisionError as d : \n",
    "    print(d)\n",
    "    "
   ]
  },
  {
   "cell_type": "code",
   "execution_count": null,
   "id": "e881be98",
   "metadata": {},
   "outputs": [],
   "source": [
    "# finally means will execute at any time \n",
    "# it doesn't matter what is happening in the code [just it will execute ]"
   ]
  },
  {
   "cell_type": "code",
   "execution_count": 81,
   "id": "f30b8e3d",
   "metadata": {},
   "outputs": [
    {
     "name": "stdout",
     "output_type": "stream",
     "text": [
      "above 5 , all are allowed\n"
     ]
    }
   ],
   "source": [
    "# real time solution \n",
    "\n",
    "try:\n",
    "    age = 20\n",
    "    if age > 10:\n",
    "        raise ValueError ('above 5 , all are allowed')\n",
    "    if age < 5 :\n",
    "        raise ValueError ('below 5 , not allowed')\n",
    "except ValueError as d:\n",
    "    print(d)"
   ]
  },
  {
   "cell_type": "code",
   "execution_count": 82,
   "id": "89698fad",
   "metadata": {},
   "outputs": [
    {
     "name": "stdout",
     "output_type": "stream",
     "text": [
      "below 5 , not allowed\n"
     ]
    }
   ],
   "source": [
    "try:\n",
    "    age = 4\n",
    "    if age > 10:\n",
    "        raise ValueError ('above 5 , all are allowed')\n",
    "    if age < 5 :\n",
    "        raise ValueError ('below 5 , not allowed')\n",
    "except ValueError as d:\n",
    "    print(d)"
   ]
  },
  {
   "cell_type": "code",
   "execution_count": null,
   "id": "9c826ee8",
   "metadata": {},
   "outputs": [],
   "source": []
  },
  {
   "cell_type": "code",
   "execution_count": null,
   "id": "fe83dc56",
   "metadata": {},
   "outputs": [],
   "source": []
  },
  {
   "cell_type": "code",
   "execution_count": null,
   "id": "1263a8fe",
   "metadata": {},
   "outputs": [],
   "source": []
  },
  {
   "cell_type": "code",
   "execution_count": null,
   "id": "97579600",
   "metadata": {},
   "outputs": [],
   "source": []
  },
  {
   "cell_type": "code",
   "execution_count": null,
   "id": "52767952",
   "metadata": {},
   "outputs": [],
   "source": []
  },
  {
   "cell_type": "code",
   "execution_count": null,
   "id": "9d01db25",
   "metadata": {},
   "outputs": [],
   "source": []
  },
  {
   "cell_type": "code",
   "execution_count": null,
   "id": "1869b15a",
   "metadata": {},
   "outputs": [],
   "source": []
  },
  {
   "cell_type": "code",
   "execution_count": null,
   "id": "fc04ba4e",
   "metadata": {},
   "outputs": [],
   "source": []
  },
  {
   "cell_type": "code",
   "execution_count": null,
   "id": "6d36fcec",
   "metadata": {},
   "outputs": [],
   "source": []
  },
  {
   "cell_type": "code",
   "execution_count": null,
   "id": "2101202e",
   "metadata": {},
   "outputs": [],
   "source": []
  },
  {
   "cell_type": "code",
   "execution_count": null,
   "id": "ef14d011",
   "metadata": {},
   "outputs": [],
   "source": []
  },
  {
   "cell_type": "code",
   "execution_count": null,
   "id": "3a36a925",
   "metadata": {},
   "outputs": [],
   "source": []
  },
  {
   "cell_type": "code",
   "execution_count": null,
   "id": "7c2d8c12",
   "metadata": {},
   "outputs": [],
   "source": []
  },
  {
   "cell_type": "code",
   "execution_count": null,
   "id": "1d817452",
   "metadata": {},
   "outputs": [],
   "source": []
  },
  {
   "cell_type": "code",
   "execution_count": null,
   "id": "0678aaf4",
   "metadata": {},
   "outputs": [],
   "source": []
  },
  {
   "cell_type": "code",
   "execution_count": null,
   "id": "26646586",
   "metadata": {},
   "outputs": [],
   "source": []
  },
  {
   "cell_type": "code",
   "execution_count": null,
   "id": "f156e42c",
   "metadata": {},
   "outputs": [],
   "source": []
  },
  {
   "cell_type": "code",
   "execution_count": null,
   "id": "3bcf3501",
   "metadata": {},
   "outputs": [],
   "source": []
  },
  {
   "cell_type": "code",
   "execution_count": null,
   "id": "95959e9f",
   "metadata": {},
   "outputs": [],
   "source": []
  }
 ],
 "metadata": {
  "kernelspec": {
   "display_name": "Python 3 (ipykernel)",
   "language": "python",
   "name": "python3"
  },
  "language_info": {
   "codemirror_mode": {
    "name": "ipython",
    "version": 3
   },
   "file_extension": ".py",
   "mimetype": "text/x-python",
   "name": "python",
   "nbconvert_exporter": "python",
   "pygments_lexer": "ipython3",
   "version": "3.10.9"
  }
 },
 "nbformat": 4,
 "nbformat_minor": 5
}
