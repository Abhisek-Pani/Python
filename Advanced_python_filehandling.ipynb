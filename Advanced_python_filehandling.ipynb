{
 "cells": [
  {
   "cell_type": "markdown",
   "id": "dc3d16ef",
   "metadata": {},
   "source": [
    "### Core python : means learning the core basics\n",
    "### Advanced python : use it in real time \n",
    "\n",
    "### Topics under Advanced Python:\n",
    "    - File Handling\n",
    "    - Exception Handling\n",
    "    - Class and Onjects ****\n",
    "    - oops concept \n",
    "    - Inheritance \n",
    "    - Polymorphism \n",
    "    - Abstraction \n",
    "    - encapsulation \n",
    "    - constructor****\n",
    "    \n",
    "    "
   ]
  },
  {
   "cell_type": "markdown",
   "id": "68fde7bf",
   "metadata": {},
   "source": [
    "## File handing :\n",
    "\n",
    "\n",
    "\n"
   ]
  },
  {
   "cell_type": "markdown",
   "id": "229e2c22",
   "metadata": {},
   "source": [
    "` create a .txt file manually and insert data into it `: "
   ]
  },
  {
   "cell_type": "markdown",
   "id": "0e5ad78d",
   "metadata": {},
   "source": [
    "### types of ways of file handling techniques :\n",
    "    - w : write the data \n",
    "    - r : read the data \n",
    "    - a : add [append the data]\n",
    "    - readline : used to read the single line from the data \n",
    "    - readlines : read the entire data ."
   ]
  },
  {
   "cell_type": "code",
   "execution_count": 3,
   "id": "110a5def",
   "metadata": {},
   "outputs": [],
   "source": [
    "# syntaxx for file handling : [1 . Normal .... 2.Real time ]"
   ]
  },
  {
   "cell_type": "code",
   "execution_count": null,
   "id": "50f09764",
   "metadata": {},
   "outputs": [],
   "source": [
    "# Normal way : syntax :[variable = open (location, extension)]"
   ]
  },
  {
   "cell_type": "markdown",
   "id": "13c69e04",
   "metadata": {},
   "source": [
    "### w : write the data "
   ]
  },
  {
   "cell_type": "code",
   "execution_count": 7,
   "id": "3e200254",
   "metadata": {},
   "outputs": [],
   "source": [
    "# if the file not there means it is going to create the file and insert data into it:\n",
    "#creating file at the same location\n",
    "a = open ('demo.txt', 'w')\n",
    "a.write ('Ap wants to be an IPS officier')\n",
    "a.close()    # close is used to come back."
   ]
  },
  {
   "cell_type": "code",
   "execution_count": 10,
   "id": "f88a1633",
   "metadata": {},
   "outputs": [],
   "source": [
    "# another example : creating file at a other location :\n",
    "\n",
    "a = open('C:\\\\Users\\\\USER\\\\Desktop\\\\expert.txt', 'w')\n",
    "a.write ('I am looking forward to become a data scientist')\n",
    "a.close()"
   ]
  },
  {
   "cell_type": "code",
   "execution_count": 16,
   "id": "f08bbeab",
   "metadata": {},
   "outputs": [
    {
     "name": "stdout",
     "output_type": "stream",
     "text": [
      "I am looking forward to become a data scientistI am looking forward to become a data scientist\n"
     ]
    }
   ],
   "source": [
    "# if the file is there then we can read the data:\n",
    "\n",
    "a = open('C:\\\\Users\\\\USER\\\\Desktop\\\\bhagwan.txt', 'r')\n",
    "print(a.read())"
   ]
  },
  {
   "cell_type": "code",
   "execution_count": 17,
   "id": "d668b614",
   "metadata": {},
   "outputs": [],
   "source": [
    "#difference between w and a : \n",
    "# w will only write the data if file not there whereas a wil add the data to the file :\n",
    "\n",
    "a = open('C:\\\\Users\\\\USER\\\\Desktop\\\\expert.txt', 'w')\n",
    "a.write ('I am a AI expert')\n",
    "a.close()"
   ]
  },
  {
   "cell_type": "code",
   "execution_count": 18,
   "id": "0fbc92dc",
   "metadata": {},
   "outputs": [],
   "source": [
    "a = open('C:\\\\Users\\\\USER\\\\Desktop\\\\expert.txt', 'a')\n",
    "a.write ('I am a AI expert as well as coding specialist.')\n",
    "a.close()"
   ]
  },
  {
   "cell_type": "code",
   "execution_count": 19,
   "id": "61adba01",
   "metadata": {},
   "outputs": [
    {
     "name": "stdout",
     "output_type": "stream",
     "text": [
      "I am a AI expertI am a AI expert as well as coding specialist.\n"
     ]
    }
   ],
   "source": [
    "# r : read the data from the file : \n",
    "a = open('C:\\\\Users\\\\USER\\\\Desktop\\\\expert.txt', 'r')\n",
    "print(a.read())"
   ]
  },
  {
   "cell_type": "code",
   "execution_count": 25,
   "id": "e6938482",
   "metadata": {},
   "outputs": [
    {
     "name": "stdout",
     "output_type": "stream",
     "text": [
      "Python is a high-level, general-purpose programming language. Its design philosophy emphasizes code readability with the use of significant indentation via the off-side rule. Python is dynamically typed and garbage-collected. Wikipedia\n",
      "\n"
     ]
    }
   ],
   "source": [
    "# readline : read a single line from the file(small portion of the data , not the full data )\n",
    "\n",
    "a = open('C:\\\\Users\\\\USER\\\\Desktop\\\\expert.txt', 'r')\n",
    "print(a.readline())"
   ]
  },
  {
   "cell_type": "code",
   "execution_count": 26,
   "id": "c9f029cf",
   "metadata": {},
   "outputs": [
    {
     "name": "stdout",
     "output_type": "stream",
     "text": [
      "['Python is a high-level, general-purpose programming language. Its design philosophy emphasizes code readability with the use of significant indentation via the off-side rule. Python is dynamically typed and garbage-collected. Wikipedia\\n', 'Designed by: Guido van Rossum\\n', 'Developer: Python Software Foundation\\n', 'First appeared: 20 February 1991; 32 years ago\\n', 'OS: Windows, macOS, Linux/UNIX, Android and more\\n', 'Paradigm: Multi-paradigm: object-oriented, procedural (imperative), functional, structured, reflective\\n', 'Preview release: 3.12.0b1 / 22 May 2023; 12 days ago\\n', 'Stable release: 3.11.3 / 5 April 2023; 59 days ago']\n"
     ]
    }
   ],
   "source": [
    "#readlines: read the entire data present in the file.\n",
    "\n",
    "a = open('C:\\\\Users\\\\USER\\\\Desktop\\\\expert.txt', 'r')\n",
    "print(a.readlines())"
   ]
  },
  {
   "cell_type": "markdown",
   "id": "4c2a0dbb",
   "metadata": {},
   "source": [
    "# How team works in the companies with this techniques(Real time use):"
   ]
  },
  {
   "cell_type": "code",
   "execution_count": 28,
   "id": "8dfdef20",
   "metadata": {},
   "outputs": [],
   "source": [
    "# w : write the data ; syntax ; [with open(location,mode) as variable]\n",
    "                                #logic"
   ]
  },
  {
   "cell_type": "code",
   "execution_count": 32,
   "id": "f9f317ba",
   "metadata": {},
   "outputs": [],
   "source": [
    "with open('C:\\\\Users\\\\USER\\\\Desktop\\\\ap.txt','w') as b:\n",
    "    b.write('ap is awesome and he beleives in time .')\n",
    "    b.close()"
   ]
  },
  {
   "cell_type": "code",
   "execution_count": 33,
   "id": "10803ed4",
   "metadata": {},
   "outputs": [
    {
     "name": "stdout",
     "output_type": "stream",
     "text": [
      "ap is awesome and he beleives in time .\n"
     ]
    }
   ],
   "source": [
    "# r : read the data \n",
    "\n",
    "with open('C:\\\\Users\\\\USER\\\\Desktop\\\\ap.txt','r') as b:\n",
    "    print(b.read())\n"
   ]
  },
  {
   "cell_type": "code",
   "execution_count": 34,
   "id": "2cacad46",
   "metadata": {},
   "outputs": [
    {
     "name": "stdout",
     "output_type": "stream",
     "text": [
      "ap is awesome and he beleives in time.Python is a high-level, general-purpose programming language. Its design philosophy emphasizes code readability with the use of significant indentation via the off-side rule. Python is dynamically typed and garbage-collected. Wikipedia\n",
      "\n"
     ]
    }
   ],
   "source": [
    "# readline : small data \n",
    "\n",
    "with open('C:\\\\Users\\\\USER\\\\Desktop\\\\ap.txt','r') as b:\n",
    "    print(b.readline())\n"
   ]
  },
  {
   "cell_type": "code",
   "execution_count": 35,
   "id": "e7ece271",
   "metadata": {},
   "outputs": [
    {
     "name": "stdout",
     "output_type": "stream",
     "text": [
      "['ap is awesome and he beleives in time.Python is a high-level, general-purpose programming language. Its design philosophy emphasizes code readability with the use of significant indentation via the off-side rule. Python is dynamically typed and garbage-collected. Wikipedia\\n', 'Designed by: Guido van Rossum\\n', 'Developer: Python Software Foundation\\n', 'First appeared: 20 February 1991; 32 years ago\\n', 'OS: Windows, macOS, Linux/UNIX, Android and more\\n', 'Paradigm: Multi-paradigm: object-oriented, procedural (imperative), functional, structured, reflective\\n', 'Preview release: 3.12.0b1 / 22 May 2023; 12 days ago\\n', 'Stable release: 3.11.3 / 5 April 2023; 59 days ago']\n"
     ]
    }
   ],
   "source": [
    "# readlines : entire data \n",
    "\n",
    "with open('C:\\\\Users\\\\USER\\\\Desktop\\\\ap.txt','r') as b:\n",
    "    print(b.readlines())\n"
   ]
  },
  {
   "cell_type": "code",
   "execution_count": 37,
   "id": "02687660",
   "metadata": {},
   "outputs": [],
   "source": [
    "# a : add data \n",
    "\n",
    "with open('C:\\\\Users\\\\USER\\\\Desktop\\\\ap.txt','a') as b:\n",
    "    b.write(' PLEASE HAVE PATIENCE , EVERYTHING IS GONNA ALRIGHGT')\n",
    "    b.close()\n"
   ]
  },
  {
   "cell_type": "code",
   "execution_count": 38,
   "id": "4d8b784f",
   "metadata": {},
   "outputs": [],
   "source": [
    "# insert the data into next line :\n",
    "\n",
    "with open('C:\\\\Users\\\\USER\\\\Desktop\\\\ap.txt','a') as b:\n",
    "    b.write('\\n PLEASE HAVE PATIENCE , EVERYTHING IS GONNA ALRIGHGT')        # \\n -> next line of the data \n",
    "    b.close()\n"
   ]
  },
  {
   "cell_type": "code",
   "execution_count": 40,
   "id": "e530aa0f",
   "metadata": {},
   "outputs": [
    {
     "name": "stdout",
     "output_type": "stream",
     "text": [
      "Ashutosh\n",
      "Abhisek\n"
     ]
    }
   ],
   "source": [
    "# \\n : next line \n",
    "\n",
    "a= 'Ashutosh\\nAbhisek'\n",
    "print(a)"
   ]
  },
  {
   "cell_type": "code",
   "execution_count": 41,
   "id": "83c6de01",
   "metadata": {},
   "outputs": [
    {
     "name": "stdout",
     "output_type": "stream",
     "text": [
      "Ashutosh\tAbhisek\n"
     ]
    }
   ],
   "source": [
    "# \\t : one tab space \n",
    "\n",
    "a= 'Ashutosh\\tAbhisek'\n",
    "print(a)"
   ]
  },
  {
   "cell_type": "markdown",
   "id": "bee751e8",
   "metadata": {},
   "source": [
    "### Exceptional Handling "
   ]
  },
  {
   "cell_type": "markdown",
   "id": "18fc5d16",
   "metadata": {},
   "source": [
    "###### means understanding (handling) the error \n",
    "\n",
    "`To learn we are having 5 errors`\n",
    "\n",
    "    - ZeroDivisionError\n",
    "    - NameError\n",
    "    - ValueError\n",
    "    - Indentation Error\n",
    "    - IOE Error (input and output)"
   ]
  },
  {
   "cell_type": "markdown",
   "id": "27f7c93b",
   "metadata": {},
   "source": [
    "### ZeroDivisionError"
   ]
  },
  {
   "cell_type": "code",
   "execution_count": 49,
   "id": "1dc59e54",
   "metadata": {},
   "outputs": [
    {
     "data": {
      "text/plain": [
       "0.0"
      ]
     },
     "execution_count": 49,
     "metadata": {},
     "output_type": "execute_result"
    }
   ],
   "source": [
    "0 / 12"
   ]
  },
  {
   "cell_type": "code",
   "execution_count": 50,
   "id": "60103e3b",
   "metadata": {},
   "outputs": [
    {
     "ename": "ZeroDivisionError",
     "evalue": "division by zero",
     "output_type": "error",
     "traceback": [
      "\u001b[1;31m---------------------------------------------------------------------------\u001b[0m",
      "\u001b[1;31mZeroDivisionError\u001b[0m                         Traceback (most recent call last)",
      "Cell \u001b[1;32mIn[50], line 1\u001b[0m\n\u001b[1;32m----> 1\u001b[0m \u001b[38;5;241;43m12\u001b[39;49m\u001b[38;5;241;43m/\u001b[39;49m\u001b[38;5;241;43m0\u001b[39;49m\n",
      "\u001b[1;31mZeroDivisionError\u001b[0m: division by zero"
     ]
    }
   ],
   "source": [
    "12/0    # maths have infinity concept but cpu has limits "
   ]
  },
  {
   "cell_type": "markdown",
   "id": "6ef5c16a",
   "metadata": {},
   "source": [
    "### NameError"
   ]
  },
  {
   "cell_type": "code",
   "execution_count": 51,
   "id": "198100fb",
   "metadata": {},
   "outputs": [
    {
     "ename": "NameError",
     "evalue": "name 'printy' is not defined",
     "output_type": "error",
     "traceback": [
      "\u001b[1;31m---------------------------------------------------------------------------\u001b[0m",
      "\u001b[1;31mNameError\u001b[0m                                 Traceback (most recent call last)",
      "Cell \u001b[1;32mIn[51], line 2\u001b[0m\n\u001b[0;32m      1\u001b[0m a\u001b[38;5;241m=\u001b[39m \u001b[38;5;124m'\u001b[39m\u001b[38;5;124mAbhisek\u001b[39m\u001b[38;5;124m'\u001b[39m\n\u001b[1;32m----> 2\u001b[0m \u001b[43mprinty\u001b[49m(A)\n",
      "\u001b[1;31mNameError\u001b[0m: name 'printy' is not defined"
     ]
    }
   ],
   "source": [
    "a= 'Abhisek'\n",
    "printy(A)    # case sensitive "
   ]
  },
  {
   "cell_type": "markdown",
   "id": "6db09fb7",
   "metadata": {},
   "source": [
    "### ValueError"
   ]
  },
  {
   "cell_type": "code",
   "execution_count": 52,
   "id": "21ae33ea",
   "metadata": {},
   "outputs": [
    {
     "ename": "ValueError",
     "evalue": "invalid literal for int() with base 10: 'data'",
     "output_type": "error",
     "traceback": [
      "\u001b[1;31m---------------------------------------------------------------------------\u001b[0m",
      "\u001b[1;31mValueError\u001b[0m                                Traceback (most recent call last)",
      "Cell \u001b[1;32mIn[52], line 2\u001b[0m\n\u001b[0;32m      1\u001b[0m a\u001b[38;5;241m=\u001b[39m\u001b[38;5;124m'\u001b[39m\u001b[38;5;124mdata\u001b[39m\u001b[38;5;124m'\u001b[39m\n\u001b[1;32m----> 2\u001b[0m b\u001b[38;5;241m=\u001b[39m\u001b[38;5;28;43mint\u001b[39;49m\u001b[43m(\u001b[49m\u001b[43ma\u001b[49m\u001b[43m)\u001b[49m\n\u001b[0;32m      3\u001b[0m \u001b[38;5;28mprint\u001b[39m(b)\n",
      "\u001b[1;31mValueError\u001b[0m: invalid literal for int() with base 10: 'data'"
     ]
    }
   ],
   "source": [
    "a='data'\n",
    "b=int(a)\n",
    "print(b)    #strings cant be printed as integers "
   ]
  },
  {
   "cell_type": "markdown",
   "id": "c05b9fd7",
   "metadata": {},
   "source": [
    "### Indentation Error"
   ]
  },
  {
   "cell_type": "code",
   "execution_count": 55,
   "id": "87e33ce9",
   "metadata": {},
   "outputs": [
    {
     "ename": "IndentationError",
     "evalue": "expected an indented block after 'for' statement on line 1 (2784837070.py, line 2)",
     "output_type": "error",
     "traceback": [
      "\u001b[1;36m  Cell \u001b[1;32mIn[55], line 2\u001b[1;36m\u001b[0m\n\u001b[1;33m    print(i,end='')\u001b[0m\n\u001b[1;37m    ^\u001b[0m\n\u001b[1;31mIndentationError\u001b[0m\u001b[1;31m:\u001b[0m expected an indented block after 'for' statement on line 1\n"
     ]
    }
   ],
   "source": [
    "for i in range (10):\n",
    "print(i,end='')"
   ]
  },
  {
   "cell_type": "code",
   "execution_count": 54,
   "id": "c88e9428",
   "metadata": {},
   "outputs": [
    {
     "name": "stdout",
     "output_type": "stream",
     "text": [
      "0123456789"
     ]
    }
   ],
   "source": [
    "for i in range (10):\n",
    "    print(i,end='')"
   ]
  },
  {
   "cell_type": "markdown",
   "id": "574aaf1b",
   "metadata": {},
   "source": [
    "### IOE Error"
   ]
  },
  {
   "cell_type": "code",
   "execution_count": 58,
   "id": "acd85fee",
   "metadata": {},
   "outputs": [
    {
     "ename": "UnsupportedOperation",
     "evalue": "not writable",
     "output_type": "error",
     "traceback": [
      "\u001b[1;31m---------------------------------------------------------------------------\u001b[0m",
      "\u001b[1;31mUnsupportedOperation\u001b[0m                      Traceback (most recent call last)",
      "Cell \u001b[1;32mIn[58], line 2\u001b[0m\n\u001b[0;32m      1\u001b[0m \u001b[38;5;28;01mwith\u001b[39;00m \u001b[38;5;28mopen\u001b[39m(\u001b[38;5;124m'\u001b[39m\u001b[38;5;124mC:\u001b[39m\u001b[38;5;130;01m\\\\\u001b[39;00m\u001b[38;5;124mUsers\u001b[39m\u001b[38;5;130;01m\\\\\u001b[39;00m\u001b[38;5;124mUSER\u001b[39m\u001b[38;5;130;01m\\\\\u001b[39;00m\u001b[38;5;124mDesktop\u001b[39m\u001b[38;5;130;01m\\\\\u001b[39;00m\u001b[38;5;124mhorse.txt\u001b[39m\u001b[38;5;124m'\u001b[39m,\u001b[38;5;124m'\u001b[39m\u001b[38;5;124mr\u001b[39m\u001b[38;5;124m'\u001b[39m) \u001b[38;5;28;01mas\u001b[39;00m b:\n\u001b[1;32m----> 2\u001b[0m     \u001b[43mb\u001b[49m\u001b[38;5;241;43m.\u001b[39;49m\u001b[43mwrite\u001b[49m\u001b[43m(\u001b[49m\u001b[38;5;124;43m'\u001b[39;49m\u001b[38;5;124;43map is awesome and he beleives in time .\u001b[39;49m\u001b[38;5;124;43m'\u001b[39;49m\u001b[43m)\u001b[49m\n\u001b[0;32m      3\u001b[0m     b\u001b[38;5;241m.\u001b[39mclose()\n",
      "\u001b[1;31mUnsupportedOperation\u001b[0m: not writable"
     ]
    }
   ],
   "source": [
    "with open('C:\\\\Users\\\\USER\\\\Desktop\\\\horse.txt','r') as b:\n",
    "    b.write('ap is awesome and he beleives in time .')\n",
    "    b.close()"
   ]
  },
  {
   "cell_type": "markdown",
   "id": "81eca249",
   "metadata": {},
   "source": [
    "### Using Exceptional blocks we can handle the error:"
   ]
  },
  {
   "cell_type": "raw",
   "id": "37e25f8d",
   "metadata": {},
   "source": [
    "# syntax:\n",
    "\n",
    "try:\n",
    "    #logic\n",
    "except:\n",
    "    #logic\n",
    "    "
   ]
  },
  {
   "cell_type": "code",
   "execution_count": 60,
   "id": "fb201958",
   "metadata": {},
   "outputs": [
    {
     "ename": "ZeroDivisionError",
     "evalue": "division by zero",
     "output_type": "error",
     "traceback": [
      "\u001b[1;31m---------------------------------------------------------------------------\u001b[0m",
      "\u001b[1;31mZeroDivisionError\u001b[0m                         Traceback (most recent call last)",
      "Cell \u001b[1;32mIn[60], line 3\u001b[0m\n\u001b[0;32m      1\u001b[0m a\u001b[38;5;241m=\u001b[39m \u001b[38;5;241m10\u001b[39m\n\u001b[0;32m      2\u001b[0m b\u001b[38;5;241m=\u001b[39m \u001b[38;5;241m0\u001b[39m \n\u001b[1;32m----> 3\u001b[0m c \u001b[38;5;241m=\u001b[39m \u001b[43ma\u001b[49m\u001b[38;5;241;43m/\u001b[39;49m\u001b[43mb\u001b[49m \n\u001b[0;32m      4\u001b[0m \u001b[38;5;28mprint\u001b[39m(c)\n",
      "\u001b[1;31mZeroDivisionError\u001b[0m: division by zero"
     ]
    }
   ],
   "source": [
    "a= 10\n",
    "b= 0 \n",
    "c = a/b \n",
    "print(c)"
   ]
  },
  {
   "cell_type": "code",
   "execution_count": 63,
   "id": "7616eb73",
   "metadata": {},
   "outputs": [
    {
     "name": "stdout",
     "output_type": "stream",
     "text": [
      "dont use zero as denominator\n"
     ]
    }
   ],
   "source": [
    "# inside the try block write the code : \n",
    "try :\n",
    "    a= 10\n",
    "    b= 0 \n",
    "    c = a/b \n",
    "    print(c)\n",
    "except:\n",
    "    print(\"dont use zero as denominator\") \n",
    "    "
   ]
  },
  {
   "cell_type": "code",
   "execution_count": 66,
   "id": "e58bb5fe",
   "metadata": {},
   "outputs": [
    {
     "name": "stdout",
     "output_type": "stream",
     "text": [
      "division by zero\n"
     ]
    }
   ],
   "source": [
    "# what aactually cpu is facing :\n",
    " \n",
    "try :\n",
    "    a= 10\n",
    "    b= 0 \n",
    "    c = a/b \n",
    "    print(c)\n",
    "except Exception as d:\n",
    "    print(d) "
   ]
  },
  {
   "cell_type": "code",
   "execution_count": 67,
   "id": "d3d70dad",
   "metadata": {},
   "outputs": [
    {
     "name": "stdout",
     "output_type": "stream",
     "text": [
      "name 'A' is not defined\n"
     ]
    }
   ],
   "source": [
    "# what aactually cpu is facing :\n",
    "#value error\n",
    "try :\n",
    "    a= 'data science'\n",
    "    print(A)\n",
    "except Exception as d:\n",
    "    print(d) "
   ]
  },
  {
   "cell_type": "code",
   "execution_count": 68,
   "id": "af0580b3",
   "metadata": {},
   "outputs": [
    {
     "name": "stdout",
     "output_type": "stream",
     "text": [
      "invalid literal for int() with base 10: 'data science'\n"
     ]
    }
   ],
   "source": [
    "try :\n",
    "    a= 'data science'\n",
    "    print(int(a))\n",
    "except Exception as d:\n",
    "    print(d) "
   ]
  },
  {
   "cell_type": "code",
   "execution_count": null,
   "id": "4897410f",
   "metadata": {},
   "outputs": [],
   "source": [
    "try :\n",
    "    with open('C:\\\\Users\\\\USER\\\\Desktop\\\\Jungle.txt','r') as b:\n",
    "        print(b.read())\n",
    "    \n",
    "except Exception as d:\n",
    "    print(d) "
   ]
  },
  {
   "cell_type": "code",
   "execution_count": 73,
   "id": "8e7ef462",
   "metadata": {},
   "outputs": [
    {
     "name": "stdout",
     "output_type": "stream",
     "text": [
      "30\n"
     ]
    }
   ],
   "source": [
    "try :\n",
    "    a= 10\n",
    "    b= 20\n",
    "    c = a+b \n",
    "    print(c)\n",
    "except Exception as d:\n",
    "    print(d) "
   ]
  },
  {
   "cell_type": "code",
   "execution_count": 75,
   "id": "62627087",
   "metadata": {},
   "outputs": [
    {
     "name": "stdout",
     "output_type": "stream",
     "text": [
      "division by zero\n"
     ]
    }
   ],
   "source": [
    "# \n",
    "\n",
    "try:\n",
    "    a='python'\n",
    "    b=10\n",
    "    c=0\n",
    "    d=b/c\n",
    "    e=int(a)\n",
    "    print(d)\n",
    "    print(e)\n",
    "except ValueError as e :\n",
    "    print(e)\n",
    "except ZeroDivisionError as d : \n",
    "    print(d)\n",
    "    "
   ]
  },
  {
   "cell_type": "code",
   "execution_count": null,
   "id": "27294c64",
   "metadata": {},
   "outputs": [],
   "source": [
    "# finally means will execute at any time \n",
    "# it doesn't matter what is happening in the code [just it will execute ]"
   ]
  },
  {
   "cell_type": "code",
   "execution_count": 81,
   "id": "def33566",
   "metadata": {},
   "outputs": [
    {
     "name": "stdout",
     "output_type": "stream",
     "text": [
      "above 5 , all are allowed\n"
     ]
    }
   ],
   "source": [
    "# real time solution \n",
    "\n",
    "try:\n",
    "    age = 20\n",
    "    if age > 10:\n",
    "        raise ValueError ('above 5 , all are allowed')\n",
    "    if age < 5 :\n",
    "        raise ValueError ('below 5 , not allowed')\n",
    "except ValueError as d:\n",
    "    print(d)"
   ]
  },
  {
   "cell_type": "code",
   "execution_count": 82,
   "id": "aea02473",
   "metadata": {},
   "outputs": [
    {
     "name": "stdout",
     "output_type": "stream",
     "text": [
      "below 5 , not allowed\n"
     ]
    }
   ],
   "source": [
    "try:\n",
    "    age = 4\n",
    "    if age > 10:\n",
    "        raise ValueError ('above 5 , all are allowed')\n",
    "    if age < 5 :\n",
    "        raise ValueError ('below 5 , not allowed')\n",
    "except ValueError as d:\n",
    "    print(d)"
   ]
  },
  {
   "cell_type": "code",
   "execution_count": null,
   "id": "b713c146",
   "metadata": {},
   "outputs": [],
   "source": []
  },
  {
   "cell_type": "code",
   "execution_count": null,
   "id": "2684e26e",
   "metadata": {},
   "outputs": [],
   "source": []
  },
  {
   "cell_type": "code",
   "execution_count": null,
   "id": "f15e41c8",
   "metadata": {},
   "outputs": [],
   "source": []
  },
  {
   "cell_type": "code",
   "execution_count": null,
   "id": "36c9ddf2",
   "metadata": {},
   "outputs": [],
   "source": []
  },
  {
   "cell_type": "code",
   "execution_count": null,
   "id": "4f152918",
   "metadata": {},
   "outputs": [],
   "source": []
  },
  {
   "cell_type": "code",
   "execution_count": null,
   "id": "acf4eb33",
   "metadata": {},
   "outputs": [],
   "source": []
  },
  {
   "cell_type": "code",
   "execution_count": null,
   "id": "5d6441d7",
   "metadata": {},
   "outputs": [],
   "source": []
  },
  {
   "cell_type": "code",
   "execution_count": null,
   "id": "48d408b9",
   "metadata": {},
   "outputs": [],
   "source": []
  },
  {
   "cell_type": "code",
   "execution_count": null,
   "id": "7ecacd66",
   "metadata": {},
   "outputs": [],
   "source": []
  },
  {
   "cell_type": "code",
   "execution_count": null,
   "id": "521ddcc7",
   "metadata": {},
   "outputs": [],
   "source": []
  },
  {
   "cell_type": "code",
   "execution_count": null,
   "id": "8a34f733",
   "metadata": {},
   "outputs": [],
   "source": []
  },
  {
   "cell_type": "code",
   "execution_count": null,
   "id": "112e948f",
   "metadata": {},
   "outputs": [],
   "source": []
  },
  {
   "cell_type": "code",
   "execution_count": null,
   "id": "1bf136b7",
   "metadata": {},
   "outputs": [],
   "source": []
  },
  {
   "cell_type": "code",
   "execution_count": null,
   "id": "50a6ae47",
   "metadata": {},
   "outputs": [],
   "source": []
  },
  {
   "cell_type": "code",
   "execution_count": null,
   "id": "c91da926",
   "metadata": {},
   "outputs": [],
   "source": []
  },
  {
   "cell_type": "code",
   "execution_count": null,
   "id": "a2d30ba1",
   "metadata": {},
   "outputs": [],
   "source": []
  },
  {
   "cell_type": "code",
   "execution_count": null,
   "id": "ebd4a220",
   "metadata": {},
   "outputs": [],
   "source": []
  },
  {
   "cell_type": "code",
   "execution_count": null,
   "id": "edb2490e",
   "metadata": {},
   "outputs": [],
   "source": []
  },
  {
   "cell_type": "code",
   "execution_count": null,
   "id": "56cd5059",
   "metadata": {},
   "outputs": [],
   "source": []
  }
 ],
 "metadata": {
  "kernelspec": {
   "display_name": "Python 3 (ipykernel)",
   "language": "python",
   "name": "python3"
  },
  "language_info": {
   "codemirror_mode": {
    "name": "ipython",
    "version": 3
   },
   "file_extension": ".py",
   "mimetype": "text/x-python",
   "name": "python",
   "nbconvert_exporter": "python",
   "pygments_lexer": "ipython3",
   "version": "3.10.9"
  }
 },
 "nbformat": 4,
 "nbformat_minor": 5
}
