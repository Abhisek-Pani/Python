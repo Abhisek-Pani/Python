{
 "cells": [
  {
   "cell_type": "markdown",
   "id": "1c9546f2",
   "metadata": {},
   "source": [
    "`### oops means\": object oriented programming structure` \n",
    "\n",
    "- class \n",
    "- object \n",
    "- constructore \n",
    "- function in a class\n",
    "- inheritance \n",
    "- polymorphism \n",
    "- Abstraction \n",
    "- Encapsulation \n"
   ]
  },
  {
   "cell_type": "code",
   "execution_count": null,
   "id": "d1cbf53f",
   "metadata": {},
   "outputs": [],
   "source": [
    "# class and object :"
   ]
  },
  {
   "cell_type": "markdown",
   "id": "9af1da1f",
   "metadata": {},
   "source": [
    "### Class : collection of functions or variables \n",
    "### object : Instance of a class "
   ]
  },
  {
   "cell_type": "code",
   "execution_count": null,
   "id": "b1d9f738",
   "metadata": {},
   "outputs": [],
   "source": [
    "#syntax for class :  class [class_name]"
   ]
  },
  {
   "cell_type": "code",
   "execution_count": 2,
   "id": "1f346216",
   "metadata": {},
   "outputs": [
    {
     "name": "stdout",
     "output_type": "stream",
     "text": [
      "I am the best\n"
     ]
    }
   ],
   "source": [
    "class marsA():\n",
    "    print('I am the best')"
   ]
  },
  {
   "cell_type": "code",
   "execution_count": 5,
   "id": "b7e49fcf",
   "metadata": {},
   "outputs": [
    {
     "name": "stdout",
     "output_type": "stream",
     "text": [
      "30\n"
     ]
    }
   ],
   "source": [
    "class marsA():\n",
    "    a=10\n",
    "    b=20\n",
    "    \n",
    "var = marsA()   #var refers to object/servant [for better understanding , var  act as servant and add two values]\n",
    "# call var as object or instance \n",
    "print(var.a + var.b) "
   ]
  },
  {
   "cell_type": "code",
   "execution_count": null,
   "id": "4dcc1eff",
   "metadata": {},
   "outputs": [],
   "source": [
    "# find the area of rectangle : length * breadth "
   ]
  },
  {
   "cell_type": "code",
   "execution_count": 7,
   "id": "d7887672",
   "metadata": {},
   "outputs": [
    {
     "name": "stdout",
     "output_type": "stream",
     "text": [
      "200\n"
     ]
    }
   ],
   "source": [
    "class rectangle():\n",
    "    length= 20\n",
    "    breadth= 10\n",
    "# if you want to do operation , then create a object and use that object for usecase:\n",
    "var=rectangle()\n",
    "print(var.length * var.breadth)\n"
   ]
  },
  {
   "cell_type": "code",
   "execution_count": 8,
   "id": "24376ace",
   "metadata": {},
   "outputs": [
    {
     "name": "stdout",
     "output_type": "stream",
     "text": [
      "200\n"
     ]
    }
   ],
   "source": [
    "#since class is also having permission : \n",
    "\n",
    "class rectangle():\n",
    "    length= 20\n",
    "    breadth= 10\n",
    "    \n",
    "# class can do the operation as well :\n",
    "print(rectangle.length * rectangle.breadth)\n"
   ]
  },
  {
   "cell_type": "code",
   "execution_count": 11,
   "id": "74c280d3",
   "metadata": {},
   "outputs": [
    {
     "name": "stdout",
     "output_type": "stream",
     "text": [
      "even\n"
     ]
    }
   ],
   "source": [
    "# small example for pass keyword :\n",
    "a=10\n",
    "if a%2 == 1 :\n",
    "    print('odd')\n",
    "else:\n",
    "    print('even')\n"
   ]
  },
  {
   "cell_type": "code",
   "execution_count": 10,
   "id": "19b79e93",
   "metadata": {},
   "outputs": [],
   "source": [
    "# small example for pass keyword :\n",
    "\n",
    "a=10\n",
    "if a%2 == 1 :\n",
    "    print('odd')\n",
    "else:\n",
    "    pass \n",
    "\n"
   ]
  },
  {
   "cell_type": "code",
   "execution_count": 12,
   "id": "4497935d",
   "metadata": {},
   "outputs": [
    {
     "name": "stdout",
     "output_type": "stream",
     "text": [
      "50\n"
     ]
    }
   ],
   "source": [
    "# can object creates data inisde the class : \n",
    "\n",
    "class python():\n",
    "    pass \n",
    "var = python()\n",
    "var.length = 10   # we can create data ainto the class by using object \n",
    "var.breadth = 5 \n",
    "\n",
    "print(var.length*var.breadth)\n"
   ]
  },
  {
   "cell_type": "code",
   "execution_count": 13,
   "id": "9ed66d7d",
   "metadata": {},
   "outputs": [
    {
     "name": "stdout",
     "output_type": "stream",
     "text": [
      "1000\n"
     ]
    }
   ],
   "source": [
    "class python():\n",
    "    b= 20\n",
    "    \n",
    "var = python()    # var is created as object or instance \n",
    "var.length = 10   # we can create data ainto the class by using object \n",
    "var.breadth = 5 \n",
    "\n",
    "print(var.length*var.breadth*var.b)\n"
   ]
  },
  {
   "cell_type": "markdown",
   "id": "48297cbd",
   "metadata": {},
   "source": [
    "### Constructors: Copy / blue print of a class ; same as class but we need to communicate through a constructor"
   ]
  },
  {
   "cell_type": "markdown",
   "id": "49f0ea02",
   "metadata": {},
   "source": [
    "#two types of constructors ;\n",
    "-Default Constructors \n",
    "-Parameter Constructors \n",
    "\n",
    "#in any language , constructor name and class name is same ."
   ]
  },
  {
   "cell_type": "code",
   "execution_count": null,
   "id": "9081e057",
   "metadata": {},
   "outputs": [],
   "source": [
    "# __init__ = constructor"
   ]
  },
  {
   "cell_type": "code",
   "execution_count": 69,
   "id": "0b328b77",
   "metadata": {},
   "outputs": [
    {
     "name": "stdout",
     "output_type": "stream",
     "text": [
      "I am a Data Analyst .\n"
     ]
    }
   ],
   "source": [
    "#Default Consgtructor: once creating the object for the class , default constructor will be called: \n",
    "\n",
    "class python():\n",
    "    def __init__(self):\n",
    "        print('I am a Data Analyst .')\n",
    "        \n",
    "var = python()\n"
   ]
  },
  {
   "cell_type": "code",
   "execution_count": 29,
   "id": "87179b21",
   "metadata": {},
   "outputs": [
    {
     "name": "stdout",
     "output_type": "stream",
     "text": [
      "30 40 50 One FOur three\n"
     ]
    }
   ],
   "source": [
    "class python():\n",
    "    def __init__(self):        #self is an copy of an object \n",
    "        print(30,40,50,\"One FOur three\")\n",
    "        \n",
    "var = python()\n"
   ]
  },
  {
   "cell_type": "code",
   "execution_count": 34,
   "id": "9726ee57",
   "metadata": {},
   "outputs": [
    {
     "name": "stdout",
     "output_type": "stream",
     "text": [
      "30\n"
     ]
    }
   ],
   "source": [
    "# I am going to add 02 numbers : \n",
    "# always use self for the first argument to instance methods:\n",
    "\n",
    "class add():\n",
    "    def __init__(self, a, b):    \n",
    "        print(a+b)\n",
    "        \n",
    "var=add(10,20)\n"
   ]
  },
  {
   "cell_type": "code",
   "execution_count": 48,
   "id": "3ed6588b",
   "metadata": {},
   "outputs": [
    {
     "data": {
      "text/plain": [
       "200"
      ]
     },
     "execution_count": 48,
     "metadata": {},
     "output_type": "execute_result"
    }
   ],
   "source": [
    "class Multiplication():\n",
    "    def __init__(self,a,b):\n",
    "        self.a = a\n",
    "        self.b = b \n",
    "    def fun(self):\n",
    "        return self.a * self.b\n",
    "\n",
    "var= Multiplication(10,20)\n",
    "var.fun()"
   ]
  },
  {
   "cell_type": "code",
   "execution_count": 56,
   "id": "b5feed4e",
   "metadata": {},
   "outputs": [
    {
     "name": "stdout",
     "output_type": "stream",
     "text": [
      "35\n",
      "78125\n"
     ]
    }
   ],
   "source": [
    "#-Parameter Constructors:\n",
    "# ques: square of a number and cube of a number :\n",
    "\n",
    "class math_operation():\n",
    "    def __init__ (self, a , b):\n",
    "        self.value1 = a\n",
    "        self.value2 = b\n",
    "        \n",
    "        #write a function and do multiplication\n",
    "    def multiplication(self):\n",
    "        return self.value1 * self.value2\n",
    "        \n",
    "        #write a function and do cube\n",
    "    def cube(self):\n",
    "        return self.value1 ** self.value2\n",
    "        \n",
    "var=math_operation(5,7)\n",
    "#function we need to call explicitly\n",
    "sol1 = var.multiplication()\n",
    "print(sol1)\n",
    "sol2 = var.cube()\n",
    "print(sol2)\n",
    "    "
   ]
  },
  {
   "cell_type": "code",
   "execution_count": 59,
   "id": "de64e2d6",
   "metadata": {},
   "outputs": [
    {
     "data": {
      "text/plain": [
       "25"
      ]
     },
     "execution_count": 59,
     "metadata": {},
     "output_type": "execute_result"
    }
   ],
   "source": [
    "class connect():\n",
    "    def multiplication(self,a,b):\n",
    "        return a*b\n",
    "    \n",
    "var= connect()\n",
    "var.multiplication(5,5)"
   ]
  },
  {
   "cell_type": "code",
   "execution_count": 61,
   "id": "9b7bd85d",
   "metadata": {},
   "outputs": [],
   "source": [
    "# as a developer i want to sent the data to any other employee class\n",
    "\n",
    "from class_data import connect "
   ]
  },
  {
   "cell_type": "code",
   "execution_count": null,
   "id": "1f22e753",
   "metadata": {},
   "outputs": [],
   "source": [
    "var= connect()"
   ]
  },
  {
   "cell_type": "code",
   "execution_count": 63,
   "id": "cc7f2886",
   "metadata": {},
   "outputs": [
    {
     "data": {
      "text/plain": [
       "2000"
      ]
     },
     "execution_count": 63,
     "metadata": {},
     "output_type": "execute_result"
    }
   ],
   "source": [
    "var.multiplication(100,20)"
   ]
  },
  {
   "cell_type": "markdown",
   "id": "b4468c13",
   "metadata": {},
   "source": [
    "### Inheritance ******"
   ]
  },
  {
   "cell_type": "code",
   "execution_count": null,
   "id": "e4f97a7d",
   "metadata": {},
   "outputs": [],
   "source": [
    "#Inheritance means adopting something \n",
    "# why it is important \n",
    "\n",
    "# employee 1 : 10 class [class1;class2; ......]\n",
    "# employee 2 : I can inherit the code from employee 1 \n",
    "\n",
    "# parent class and child class \n",
    "\n",
    "#father is having 1 cr property \n",
    "#as a son : i will get 1cr property "
   ]
  },
  {
   "cell_type": "markdown",
   "id": "aae474ae",
   "metadata": {},
   "source": [
    "#### Inheritance works with 02 things :\n",
    "\n",
    " - Parent\n",
    " - Child\n",
    "\n"
   ]
  },
  {
   "cell_type": "markdown",
   "id": "ae866ac5",
   "metadata": {},
   "source": [
    "`05 different typpes of Inheritance`:\n",
    "\n",
    "    - Single Inheritance\n",
    "    - Multiple Inheritance \n",
    "    - Multilevel Inheritance \n",
    "    - Hybrid Inheritance \n",
    "    - Hirarical Inheritance \n"
   ]
  },
  {
   "cell_type": "markdown",
   "id": "83385c7f",
   "metadata": {},
   "source": [
    "### Single Inheritance : One child and One Parent "
   ]
  },
  {
   "cell_type": "code",
   "execution_count": 73,
   "id": "eb32756b",
   "metadata": {},
   "outputs": [
    {
     "name": "stdout",
     "output_type": "stream",
     "text": [
      "I am working on API not with AI\n",
      "I am working on API and AI \n"
     ]
    }
   ],
   "source": [
    "# Basic concept on Inheritance : \n",
    "\n",
    "class Team_leader():        # this code was returned by Team_leader in his lappy [like parent class]\n",
    "    def microservices (self):\n",
    "        print ('I am working on API and AI ')\n",
    "        \n",
    "class Employee(Team_leader):          #this is my class in my lappy [like child class]\n",
    "    def API(self):\n",
    "        print('I am working on API not with AI')\n",
    "        \n",
    "Employee_var = Employee()\n",
    "Employee_var.API()   # it works \n",
    "\n",
    "Employee_var.microservices() #it will also pull the data from Team_leader class as the obj : Em[ployee_var will pull the data from parent class "
   ]
  },
  {
   "cell_type": "code",
   "execution_count": 74,
   "id": "f8ca25a9",
   "metadata": {},
   "outputs": [
    {
     "name": "stdout",
     "output_type": "stream",
     "text": [
      "I am working on API not with AI\n"
     ]
    },
    {
     "ename": "AttributeError",
     "evalue": "'Employee' object has no attribute 'microservices'",
     "output_type": "error",
     "traceback": [
      "\u001b[1;31m---------------------------------------------------------------------------\u001b[0m",
      "\u001b[1;31mAttributeError\u001b[0m                            Traceback (most recent call last)",
      "Cell \u001b[1;32mIn[74], line 14\u001b[0m\n\u001b[0;32m     11\u001b[0m Employee_var \u001b[38;5;241m=\u001b[39m Employee()\n\u001b[0;32m     12\u001b[0m Employee_var\u001b[38;5;241m.\u001b[39mAPI()   \u001b[38;5;66;03m# it works \u001b[39;00m\n\u001b[1;32m---> 14\u001b[0m \u001b[43mEmployee_var\u001b[49m\u001b[38;5;241;43m.\u001b[39;49m\u001b[43mmicroservices\u001b[49m()\n",
      "\u001b[1;31mAttributeError\u001b[0m: 'Employee' object has no attribute 'microservices'"
     ]
    }
   ],
   "source": [
    "#checking code : \n",
    "\n",
    "class Team_leader():        # this code was returned by Team_leader in his lappy [like parent class]\n",
    "    def microservices (self):\n",
    "        print ('I am working on API and AI ')\n",
    "        \n",
    "class Employee():          #this is my class in my lappy [like child class]\n",
    "    def API(self):\n",
    "        print('I am working on API not with AI')\n",
    "        \n",
    "Employee_var = Employee()\n",
    "Employee_var.API()   # it works \n",
    "\n",
    "Employee_var.microservices() \n"
   ]
  },
  {
   "cell_type": "markdown",
   "id": "9dd40cba",
   "metadata": {},
   "source": [
    "### Multiple Inheritance : 02 Parent class and 01 child class "
   ]
  },
  {
   "cell_type": "code",
   "execution_count": 83,
   "id": "ab2e3a8e",
   "metadata": {},
   "outputs": [
    {
     "name": "stdout",
     "output_type": "stream",
     "text": [
      "I am working on API not with AI\n",
      "I am working on API and AI and chatgpt\n",
      "I am working on API and AI \n"
     ]
    }
   ],
   "source": [
    "class parent_father():        #  [like parent class]\n",
    "    def microservices (self):\n",
    "        print ('I am working on API and AI ')\n",
    "\n",
    "class parent_mother():        #  [like parent class 2]\n",
    "    def games (self):\n",
    "        print ('I am working on API and AI and chatgpt')\n",
    "       \n",
    "        \n",
    "class child(parent_father,parent_mother):          # [like child class]\n",
    "    def API(self):\n",
    "        print('I am working on API not with AI')\n",
    "        \n",
    "child_var = child()\n",
    "child_var.API()\n",
    "child_var.games()\n",
    "child_var.microservices()\n",
    "\n"
   ]
  },
  {
   "cell_type": "markdown",
   "id": "59fb1b9e",
   "metadata": {},
   "source": [
    "### Multilevel Inheritance : 1 parent class and 2 child class \n",
    "\n"
   ]
  },
  {
   "cell_type": "code",
   "execution_count": 87,
   "id": "31cbb81f",
   "metadata": {},
   "outputs": [
    {
     "name": "stdout",
     "output_type": "stream",
     "text": [
      "I am working on API not with AI\n",
      "I am working on API and AI and chatgpt\n",
      "I am working on API and AI \n"
     ]
    }
   ],
   "source": [
    "class parent_father():        #  [like parent class]\n",
    "    def microservices (self):\n",
    "        print ('I am working on API and AI ')\n",
    "\n",
    "class child_hero(parent_father):        #  [like child class 1]\n",
    "    def games (self):\n",
    "        print ('I am working on API and AI and chatgpt')\n",
    "       \n",
    "        \n",
    "class child_zero(child_hero):          # [like child class 2]\n",
    "    def API(self):\n",
    "        print('I am working on API not with AI')\n",
    "\n",
    "child_zero_obj = child_zero()\n",
    "child_zero_obj.API()\n",
    "child_zero_obj.games()\n",
    "child_zero_obj.microservices()"
   ]
  },
  {
   "cell_type": "markdown",
   "id": "91b46b87",
   "metadata": {},
   "source": [
    "### Hirarical Inheritance "
   ]
  },
  {
   "cell_type": "code",
   "execution_count": 90,
   "id": "b60ea338",
   "metadata": {},
   "outputs": [
    {
     "name": "stdout",
     "output_type": "stream",
     "text": [
      "I am working on API and AI and chatgpt\n",
      "I am working on API and AI \n"
     ]
    }
   ],
   "source": [
    "class parent_father():        #  [like parent class]\n",
    "    def microservices (self):\n",
    "        print ('I am working on API and AI ')\n",
    "\n",
    "class child1(parent_father):        #  [like child class 1]\n",
    "    def games (self):\n",
    "        print ('I am working on API and AI and chatgpt')\n",
    "       \n",
    "        \n",
    "class child2(parent_father):          # [like child class 2]\n",
    "    def API(self):\n",
    "        print('I am working on API not with AI')\n",
    "        \n",
    "child1_var=child1()\n",
    "child1_var.games()\n",
    "\n",
    "child1_var.microservices()"
   ]
  },
  {
   "cell_type": "markdown",
   "id": "44cbb10a",
   "metadata": {},
   "source": [
    "### Hybrid Inheritance "
   ]
  },
  {
   "cell_type": "code",
   "execution_count": 96,
   "id": "e22eae13",
   "metadata": {},
   "outputs": [
    {
     "name": "stdout",
     "output_type": "stream",
     "text": [
      "I am working on Tableau and Power BI\n",
      "I am working on API and AI \n",
      "I am working on API not with AI\n",
      "I am working on API and AI \n",
      "I am working on API and AI and chatgpt\n",
      "I am working on API and AI \n"
     ]
    }
   ],
   "source": [
    "class parent_father():        #  [like parent class]\n",
    "    def microservices (self):\n",
    "        print ('I am working on API and AI ')\n",
    "\n",
    "class child1(parent_father):        #  [like child class 1]\n",
    "    def games (self):\n",
    "        print ('I am working on API and AI and chatgpt')\n",
    "       \n",
    "        \n",
    "class child2(parent_father):          # [like child class 2]\n",
    "    def API(self):\n",
    "        print('I am working on API not with AI')\n",
    "        \n",
    "        \n",
    "class child3(parent_father):          # [like child class 3]\n",
    "    def enjoy(self):\n",
    "        print('I am working on Tableau and Power BI')\n",
    "        \n",
    "        \n",
    "child3_var = child3()\n",
    "child3_var.enjoy()\n",
    "child3_var.microservices()\n",
    "\n",
    "child2_obj = child2()\n",
    "child2_obj.API()\n",
    "child2_obj.microservices()\n",
    "\n",
    "child1_jec = child1()\n",
    "child1_jec.games()\n",
    "child1_jec.microservices()"
   ]
  },
  {
   "cell_type": "markdown",
   "id": "ba0a195a",
   "metadata": {},
   "source": [
    "### Polyorphism "
   ]
  },
  {
   "cell_type": "code",
   "execution_count": null,
   "id": "4bf4eb8c",
   "metadata": {},
   "outputs": [],
   "source": [
    "# Poly :  means many \n",
    "# Morhism :  means forms "
   ]
  },
  {
   "cell_type": "markdown",
   "id": "a359bb6a",
   "metadata": {},
   "source": [
    "` 2 types are there to work with polymorphism `:\n",
    "- method overriding \n",
    "- method overloading "
   ]
  },
  {
   "cell_type": "code",
   "execution_count": 98,
   "id": "efa7d824",
   "metadata": {},
   "outputs": [],
   "source": [
    "# Method Overriding :"
   ]
  },
  {
   "cell_type": "code",
   "execution_count": 100,
   "id": "35a8504d",
   "metadata": {},
   "outputs": [
    {
     "name": "stdout",
     "output_type": "stream",
     "text": [
      "science\n"
     ]
    }
   ],
   "source": [
    "def fun():\n",
    "    print('Data')\n",
    "def fun():\n",
    "    print('science')\n",
    "    \n",
    "fun()"
   ]
  },
  {
   "cell_type": "code",
   "execution_count": 104,
   "id": "114264fd",
   "metadata": {},
   "outputs": [
    {
     "name": "stdout",
     "output_type": "stream",
     "text": [
      "I am working on API and AI and chatgpt\n",
      "I will stay online for 24 hrs daily\n"
     ]
    }
   ],
   "source": [
    "class parent():        \n",
    "    def games (self):\n",
    "        print ('I am working on API and AI ')\n",
    "        \n",
    "    def vedios (self):\n",
    "        print('I like to work on Chatgpt as well')\n",
    "\n",
    "class child(parent):        \n",
    "    def games (self):\n",
    "        print ('I am working on API and AI and chatgpt')\n",
    "        \n",
    "    def vedios(self):\n",
    "        print('I will stay online for 24 hrs daily')\n",
    "        \n",
    "var = child()\n",
    "var.games()\n",
    "var.vedios()"
   ]
  },
  {
   "cell_type": "code",
   "execution_count": 102,
   "id": "3ffbc6ec",
   "metadata": {},
   "outputs": [],
   "source": [
    "# Method Overloading : we need to use different parameters "
   ]
  },
  {
   "cell_type": "code",
   "execution_count": 111,
   "id": "afb02b93",
   "metadata": {},
   "outputs": [
    {
     "name": "stdout",
     "output_type": "stream",
     "text": [
      "Not to do anything\n",
      "Area of square: 100\n",
      "Area of rectangle: 10\n"
     ]
    }
   ],
   "source": [
    "class Area():\n",
    "    def find_area(self, a= None , b= None ):\n",
    "        if a!= None and b!= None:\n",
    "            print ('Area of rectangle:', (a*b))\n",
    "        elif a!= None :\n",
    "            print ('Area of square:', (a*a))\n",
    "        else : \n",
    "            print ('Not to do anything')\n",
    "            \n",
    "var = Area()\n",
    "var.find_area()\n",
    "var.find_area(10)\n",
    "var.find_area(5,2)"
   ]
  },
  {
   "cell_type": "markdown",
   "id": "8de01d49",
   "metadata": {},
   "source": [
    "### Abstaction : \n",
    "    "
   ]
  },
  {
   "cell_type": "code",
   "execution_count": 114,
   "id": "c5e7c035",
   "metadata": {},
   "outputs": [
    {
     "name": "stdout",
     "output_type": "stream",
     "text": [
      "I have done the coding part \n"
     ]
    }
   ],
   "source": [
    "#Means child can work for parent from scratch.\n",
    "\n",
    "from abc import ABC\n",
    "\n",
    "class team_lead(ABC):\n",
    "    def maths_ops(self):\n",
    "        pass \n",
    "    \n",
    "# hey abhisek , i am not available for 02 days , please complete the code and update it [write in a function]\n",
    "\n",
    "class child(team_lead):\n",
    "    def maths_ops(self):\n",
    "        print('I have done the coding part ')\n",
    "        \n",
    "var = child()\n",
    "var.maths_ops()"
   ]
  },
  {
   "cell_type": "markdown",
   "id": "9c8313a7",
   "metadata": {},
   "source": [
    "### Encapsulation  : "
   ]
  },
  {
   "cell_type": "markdown",
   "id": "fec3da1b",
   "metadata": {},
   "source": [
    " `Means security` \n",
    "\n",
    "### works with access modifiers concepts :\n",
    "\n",
    "- public : anyone can use it \n",
    "- private : only parent class can use it \n",
    "- protected : only parent and first child can use it "
   ]
  },
  {
   "cell_type": "markdown",
   "id": "bab4ed40",
   "metadata": {},
   "source": [
    "### Public Concept :"
   ]
  },
  {
   "cell_type": "code",
   "execution_count": 118,
   "id": "0f23e321",
   "metadata": {},
   "outputs": [
    {
     "name": "stdout",
     "output_type": "stream",
     "text": [
      "public class\n"
     ]
    }
   ],
   "source": [
    "class parent():\n",
    "    def fun(self):\n",
    "        print('public class')\n",
    "        \n",
    "var = parent()\n",
    "var.fun()"
   ]
  },
  {
   "cell_type": "markdown",
   "id": "2ecda746",
   "metadata": {},
   "source": [
    "### Protected Concept :\n"
   ]
  },
  {
   "cell_type": "code",
   "execution_count": 132,
   "id": "9e35042b",
   "metadata": {},
   "outputs": [
    {
     "name": "stdout",
     "output_type": "stream",
     "text": [
      "i belong to parent class\n",
      "90\n"
     ]
    }
   ],
   "source": [
    "class parent():\n",
    "    b='i belong to parent class'\n",
    "    def fun(self):\n",
    "        print('public class')\n",
    "        \n",
    "class child(parent):\n",
    "    def app(self):\n",
    "        a= 90\n",
    "        return a \n",
    "        \n",
    "var = child()\n",
    "print(var.b)\n",
    "print(var.app())\n",
    "\n"
   ]
  },
  {
   "cell_type": "markdown",
   "id": "e1bb53f8",
   "metadata": {},
   "source": [
    "### Private Concept :\n",
    "\n"
   ]
  },
  {
   "cell_type": "code",
   "execution_count": 133,
   "id": "f7bb6c9c",
   "metadata": {},
   "outputs": [
    {
     "name": "stdout",
     "output_type": "stream",
     "text": [
      "i belong to parent class\n"
     ]
    },
    {
     "ename": "AttributeError",
     "evalue": "'parent' object has no attribute 'app'",
     "output_type": "error",
     "traceback": [
      "\u001b[1;31m---------------------------------------------------------------------------\u001b[0m",
      "\u001b[1;31mAttributeError\u001b[0m                            Traceback (most recent call last)",
      "Cell \u001b[1;32mIn[133], line 13\u001b[0m\n\u001b[0;32m     11\u001b[0m var \u001b[38;5;241m=\u001b[39m parent()\n\u001b[0;32m     12\u001b[0m \u001b[38;5;28mprint\u001b[39m(var\u001b[38;5;241m.\u001b[39mb)\n\u001b[1;32m---> 13\u001b[0m \u001b[38;5;28mprint\u001b[39m(\u001b[43mvar\u001b[49m\u001b[38;5;241;43m.\u001b[39;49m\u001b[43mapp\u001b[49m())\n",
      "\u001b[1;31mAttributeError\u001b[0m: 'parent' object has no attribute 'app'"
     ]
    }
   ],
   "source": [
    "class parent():\n",
    "    b='i belong to parent class'\n",
    "    def fun(self):\n",
    "        print('public class')\n",
    "        \n",
    "class child(parent):\n",
    "    def app(self):\n",
    "        a= 90\n",
    "        return a \n",
    "        \n",
    "var = parent()\n",
    "print(var.b)\n",
    "print(var.app())\n",
    "\n"
   ]
  },
  {
   "cell_type": "code",
   "execution_count": null,
   "id": "6c49e744",
   "metadata": {},
   "outputs": [],
   "source": []
  },
  {
   "cell_type": "code",
   "execution_count": null,
   "id": "56a05dcc",
   "metadata": {},
   "outputs": [],
   "source": []
  },
  {
   "cell_type": "code",
   "execution_count": null,
   "id": "b54beb50",
   "metadata": {},
   "outputs": [],
   "source": []
  },
  {
   "cell_type": "code",
   "execution_count": null,
   "id": "d1951241",
   "metadata": {},
   "outputs": [],
   "source": []
  },
  {
   "cell_type": "code",
   "execution_count": null,
   "id": "ef07ef99",
   "metadata": {},
   "outputs": [],
   "source": []
  },
  {
   "cell_type": "code",
   "execution_count": null,
   "id": "823adbcd",
   "metadata": {},
   "outputs": [],
   "source": []
  },
  {
   "cell_type": "code",
   "execution_count": null,
   "id": "f68e7469",
   "metadata": {},
   "outputs": [],
   "source": []
  },
  {
   "cell_type": "code",
   "execution_count": null,
   "id": "ca37182f",
   "metadata": {},
   "outputs": [],
   "source": []
  },
  {
   "cell_type": "code",
   "execution_count": null,
   "id": "6e03d590",
   "metadata": {},
   "outputs": [],
   "source": []
  },
  {
   "cell_type": "code",
   "execution_count": null,
   "id": "74f69b6e",
   "metadata": {},
   "outputs": [],
   "source": []
  },
  {
   "cell_type": "code",
   "execution_count": null,
   "id": "d50d6e8a",
   "metadata": {},
   "outputs": [],
   "source": []
  },
  {
   "cell_type": "code",
   "execution_count": null,
   "id": "60f31603",
   "metadata": {},
   "outputs": [],
   "source": []
  },
  {
   "cell_type": "code",
   "execution_count": null,
   "id": "02de5dbf",
   "metadata": {},
   "outputs": [],
   "source": []
  },
  {
   "cell_type": "code",
   "execution_count": null,
   "id": "5eeca9f5",
   "metadata": {},
   "outputs": [],
   "source": []
  },
  {
   "cell_type": "code",
   "execution_count": null,
   "id": "781fe06c",
   "metadata": {},
   "outputs": [],
   "source": []
  },
  {
   "cell_type": "code",
   "execution_count": null,
   "id": "de3bdba5",
   "metadata": {},
   "outputs": [],
   "source": []
  },
  {
   "cell_type": "code",
   "execution_count": null,
   "id": "b8dffdb8",
   "metadata": {},
   "outputs": [],
   "source": []
  },
  {
   "cell_type": "code",
   "execution_count": null,
   "id": "b41eb48f",
   "metadata": {},
   "outputs": [],
   "source": []
  },
  {
   "cell_type": "code",
   "execution_count": null,
   "id": "4edaea6d",
   "metadata": {},
   "outputs": [],
   "source": []
  },
  {
   "cell_type": "code",
   "execution_count": null,
   "id": "d7b9b29a",
   "metadata": {},
   "outputs": [],
   "source": []
  },
  {
   "cell_type": "code",
   "execution_count": null,
   "id": "c66c5c2e",
   "metadata": {},
   "outputs": [],
   "source": []
  },
  {
   "cell_type": "code",
   "execution_count": null,
   "id": "4106d3a1",
   "metadata": {},
   "outputs": [],
   "source": []
  },
  {
   "cell_type": "code",
   "execution_count": null,
   "id": "426dddcb",
   "metadata": {},
   "outputs": [],
   "source": []
  },
  {
   "cell_type": "code",
   "execution_count": null,
   "id": "d36e878c",
   "metadata": {},
   "outputs": [],
   "source": []
  },
  {
   "cell_type": "code",
   "execution_count": null,
   "id": "b5a827f4",
   "metadata": {},
   "outputs": [],
   "source": []
  },
  {
   "cell_type": "code",
   "execution_count": null,
   "id": "34fe5783",
   "metadata": {},
   "outputs": [],
   "source": []
  },
  {
   "cell_type": "code",
   "execution_count": null,
   "id": "d2b760c1",
   "metadata": {},
   "outputs": [],
   "source": []
  },
  {
   "cell_type": "code",
   "execution_count": null,
   "id": "da4dadc1",
   "metadata": {},
   "outputs": [],
   "source": []
  },
  {
   "cell_type": "code",
   "execution_count": null,
   "id": "ff9c9e73",
   "metadata": {},
   "outputs": [],
   "source": []
  },
  {
   "cell_type": "code",
   "execution_count": null,
   "id": "b417138c",
   "metadata": {},
   "outputs": [],
   "source": []
  },
  {
   "cell_type": "code",
   "execution_count": null,
   "id": "a2f16ed8",
   "metadata": {},
   "outputs": [],
   "source": []
  },
  {
   "cell_type": "code",
   "execution_count": 115,
   "id": "6a40b4b0",
   "metadata": {},
   "outputs": [],
   "source": []
  }
 ],
 "metadata": {
  "kernelspec": {
   "display_name": "Python 3 (ipykernel)",
   "language": "python",
   "name": "python3"
  },
  "language_info": {
   "codemirror_mode": {
    "name": "ipython",
    "version": 3
   },
   "file_extension": ".py",
   "mimetype": "text/x-python",
   "name": "python",
   "nbconvert_exporter": "python",
   "pygments_lexer": "ipython3",
   "version": "3.10.9"
  }
 },
 "nbformat": 4,
 "nbformat_minor": 5
}
