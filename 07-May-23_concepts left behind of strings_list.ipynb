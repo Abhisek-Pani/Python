{
 "cells": [
  {
   "cell_type": "code",
   "execution_count": null,
   "id": "7256d80c",
   "metadata": {},
   "outputs": [],
   "source": [
    "# math operation in strings\n",
    "# split function in strings\n",
    "# join function in strings\n",
    "# membership fuction in strings and list \n",
    "# len, sum , max, min "
   ]
  },
  {
   "cell_type": "markdown",
   "id": "5028c84d",
   "metadata": {},
   "source": [
    "## math operation in strings\n",
    "\n"
   ]
  },
  {
   "cell_type": "code",
   "execution_count": 2,
   "id": "edf6db04",
   "metadata": {},
   "outputs": [
    {
     "name": "stdout",
     "output_type": "stream",
     "text": [
      "True\n"
     ]
    }
   ],
   "source": [
    "value1 = 'ab'\n",
    "value2 = 'AB'\n",
    "\n",
    "print(value1 > value2)"
   ]
  },
  {
   "cell_type": "code",
   "execution_count": 5,
   "id": "51e4e3a9",
   "metadata": {},
   "outputs": [
    {
     "data": {
      "text/plain": [
       "'b'"
      ]
     },
     "execution_count": 5,
     "metadata": {},
     "output_type": "execute_result"
    }
   ],
   "source": [
    "chr(98)    #chr ; converts ascii number to its character "
   ]
  },
  {
   "cell_type": "code",
   "execution_count": 6,
   "id": "94001621",
   "metadata": {},
   "outputs": [
    {
     "data": {
      "text/plain": [
       "97"
      ]
     },
     "execution_count": 6,
     "metadata": {},
     "output_type": "execute_result"
    }
   ],
   "source": [
    "ord('a')   #ord ; converts character to its ascii number "
   ]
  },
  {
   "cell_type": "code",
   "execution_count": 8,
   "id": "b1ac2185",
   "metadata": {},
   "outputs": [
    {
     "name": "stdout",
     "output_type": "stream",
     "text": [
      "True\n",
      "False\n"
     ]
    }
   ],
   "source": [
    "#membership function : its a boolean outcome\n",
    "\n",
    "a=(10,20,30.7,'science')\n",
    "print(10 in a)\n",
    "print('data scinece' in a )"
   ]
  },
  {
   "cell_type": "code",
   "execution_count": null,
   "id": "c6c37360",
   "metadata": {},
   "outputs": [],
   "source": [
    "# len, sum , max , min in strings"
   ]
  },
  {
   "cell_type": "code",
   "execution_count": 15,
   "id": "5ae7dc9b",
   "metadata": {},
   "outputs": [
    {
     "data": {
      "text/plain": [
       "6"
      ]
     },
     "execution_count": 15,
     "metadata": {},
     "output_type": "execute_result"
    }
   ],
   "source": [
    "#len ; no.of characters (space also counted)\n",
    "a='python'\n",
    "len(a)\n"
   ]
  },
  {
   "cell_type": "code",
   "execution_count": 16,
   "id": "bdb3172b",
   "metadata": {},
   "outputs": [
    {
     "name": "stdout",
     "output_type": "stream",
     "text": [
      "y\n"
     ]
    }
   ],
   "source": [
    "#max and min \n",
    "\n",
    "print(max(a))"
   ]
  },
  {
   "cell_type": "code",
   "execution_count": 17,
   "id": "11660fee",
   "metadata": {},
   "outputs": [
    {
     "name": "stdout",
     "output_type": "stream",
     "text": [
      "h\n"
     ]
    }
   ],
   "source": [
    "print(min(a))"
   ]
  },
  {
   "cell_type": "code",
   "execution_count": 22,
   "id": "0e67e28b",
   "metadata": {},
   "outputs": [
    {
     "name": "stdout",
     "output_type": "stream",
     "text": [
      "5\n"
     ]
    }
   ],
   "source": [
    "#lists\n",
    "\n",
    "a=[10,20,3,40,50]\n",
    "print(len(a))"
   ]
  },
  {
   "cell_type": "code",
   "execution_count": 23,
   "id": "48559b03",
   "metadata": {},
   "outputs": [
    {
     "name": "stdout",
     "output_type": "stream",
     "text": [
      "123\n"
     ]
    }
   ],
   "source": [
    "\n",
    "print(sum(a))"
   ]
  },
  {
   "cell_type": "code",
   "execution_count": 24,
   "id": "a5ee7d03",
   "metadata": {},
   "outputs": [
    {
     "name": "stdout",
     "output_type": "stream",
     "text": [
      "50\n"
     ]
    }
   ],
   "source": [
    "print(max(a))"
   ]
  },
  {
   "cell_type": "code",
   "execution_count": 25,
   "id": "7928f867",
   "metadata": {},
   "outputs": [
    {
     "name": "stdout",
     "output_type": "stream",
     "text": [
      "3\n"
     ]
    }
   ],
   "source": [
    "print(min(a))"
   ]
  },
  {
   "cell_type": "markdown",
   "id": "c5348556",
   "metadata": {},
   "source": [
    "## SPLIT function and Joint"
   ]
  },
  {
   "cell_type": "code",
   "execution_count": 28,
   "id": "a9c1b36d",
   "metadata": {},
   "outputs": [
    {
     "name": "stdout",
     "output_type": "stream",
     "text": [
      "['I', 'work', 'in', 'Microsoft']\n"
     ]
    }
   ],
   "source": [
    "# breaking into pieces ; DEFAULT where there is a space \n",
    "\n",
    "a='I work in Microsoft'\n",
    "c=a.split()\n",
    "print(c)\n"
   ]
  },
  {
   "cell_type": "code",
   "execution_count": 31,
   "id": "4a9b3bda",
   "metadata": {},
   "outputs": [
    {
     "name": "stdout",
     "output_type": "stream",
     "text": [
      "['I work in', ' Microsoft']\n"
     ]
    }
   ],
   "source": [
    "a='I work in, Microsoft'\n",
    "b=a.split(\",\")   # we can specify our split area\n",
    "print(b)"
   ]
  },
  {
   "cell_type": "code",
   "execution_count": 52,
   "id": "ef3679fd",
   "metadata": {},
   "outputs": [
    {
     "name": "stdout",
     "output_type": "stream",
     "text": [
      "['my', 'name', 'is', 'abhisek', 'and', 'my', 'age', 'is']\n"
     ]
    }
   ],
   "source": [
    "a= 'my name is abhisek and my age is'\n",
    "b=a.split()\n",
    "print(b)"
   ]
  },
  {
   "cell_type": "code",
   "execution_count": 53,
   "id": "cb38c9a0",
   "metadata": {},
   "outputs": [
    {
     "name": "stdout",
     "output_type": "stream",
     "text": [
      "['my', 'name', 'is', 'abhisek', 'and', 'my', 'age', 'is', '25']\n"
     ]
    }
   ],
   "source": [
    "b.append(str(25))\n",
    "print(b)"
   ]
  },
  {
   "cell_type": "code",
   "execution_count": 55,
   "id": "31025b23",
   "metadata": {},
   "outputs": [
    {
     "name": "stdout",
     "output_type": "stream",
     "text": [
      "my name is abhisek and my age is 25\n"
     ]
    }
   ],
   "source": [
    "#join ; join is used to join each word\n",
    "\n",
    "sol= ' '.join(b)\n",
    "print(sol)"
   ]
  },
  {
   "cell_type": "code",
   "execution_count": 58,
   "id": "911ce38f",
   "metadata": {},
   "outputs": [
    {
     "name": "stdout",
     "output_type": "stream",
     "text": [
      "['I AM FROM', 'INDIA']\n"
     ]
    }
   ],
   "source": [
    "a= 'I AM FROM,INDIA'\n",
    "b= a.split(',')\n",
    "print(b)"
   ]
  },
  {
   "cell_type": "code",
   "execution_count": 59,
   "id": "a3232a97",
   "metadata": {},
   "outputs": [
    {
     "name": "stdout",
     "output_type": "stream",
     "text": [
      "I AM FROM INDIA\n"
     ]
    }
   ],
   "source": [
    "c= \" \".join(b)\n",
    "print(c)"
   ]
  },
  {
   "cell_type": "code",
   "execution_count": 66,
   "id": "d84b22ed",
   "metadata": {},
   "outputs": [
    {
     "name": "stdout",
     "output_type": "stream",
     "text": [
      "['i', 'love', 'programming', 'language']\n",
      "['language', 'programming', 'love', 'i']\n",
      "language.programming.love.i\n"
     ]
    }
   ],
   "source": [
    "#question : capgemini interview question\n",
    "\n",
    "value='i.love.programming.language'\n",
    "#output='language.programmimg.love.i'\n",
    "a= value.split('.')\n",
    "print(a)\n",
    "c= a[::-1]\n",
    "print(c)\n",
    "sol= '.'.join(c)\n",
    "print(sol)\n"
   ]
  },
  {
   "cell_type": "markdown",
   "id": "e513fe31",
   "metadata": {},
   "source": [
    "### END of strings and lists "
   ]
  },
  {
   "cell_type": "code",
   "execution_count": null,
   "id": "f9228bd8",
   "metadata": {},
   "outputs": [],
   "source": []
  }
 ],
 "metadata": {
  "kernelspec": {
   "display_name": "Python 3 (ipykernel)",
   "language": "python",
   "name": "python3"
  },
  "language_info": {
   "codemirror_mode": {
    "name": "ipython",
    "version": 3
   },
   "file_extension": ".py",
   "mimetype": "text/x-python",
   "name": "python",
   "nbconvert_exporter": "python",
   "pygments_lexer": "ipython3",
   "version": "3.10.9"
  }
 },
 "nbformat": 4,
 "nbformat_minor": 5
}
