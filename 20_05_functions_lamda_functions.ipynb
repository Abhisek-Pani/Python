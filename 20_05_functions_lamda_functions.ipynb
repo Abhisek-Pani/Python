{
 "cells": [
  {
   "cell_type": "markdown",
   "id": "1e050be5",
   "metadata": {},
   "source": [
    "# Python Functions"
   ]
  },
  {
   "cell_type": "markdown",
   "id": "da08cd38",
   "metadata": {},
   "source": [
    "#Function means executing the logic many times but writing the logic one time .\n",
    "- syntax for python function :\n",
    "    - refers with keyword dev\n",
    "    - inside write the ligic \n",
    "    - call from any where \n",
    "    \n",
    "    \n",
    "    "
   ]
  },
  {
   "cell_type": "code",
   "execution_count": 1,
   "id": "753b5f20",
   "metadata": {},
   "outputs": [
    {
     "name": "stdout",
     "output_type": "stream",
     "text": [
      "110\n"
     ]
    }
   ],
   "source": [
    "# adding numbers without using functions:\n",
    "\n",
    "a=20\n",
    "b=90\n",
    "\n",
    "print(a+b)"
   ]
  },
  {
   "cell_type": "code",
   "execution_count": 2,
   "id": "0e035464",
   "metadata": {},
   "outputs": [
    {
     "name": "stdout",
     "output_type": "stream",
     "text": [
      "168\n"
     ]
    }
   ],
   "source": [
    "a=78\n",
    "b=90\n",
    "\n",
    "print(a+b)"
   ]
  },
  {
   "cell_type": "code",
   "execution_count": null,
   "id": "f5d23007",
   "metadata": {},
   "outputs": [],
   "source": [
    "#funcition is used to make it easy and code reusability\n",
    "#resuability = write the code one time and use it many times "
   ]
  },
  {
   "cell_type": "code",
   "execution_count": null,
   "id": "52db4113",
   "metadata": {},
   "outputs": [],
   "source": [
    "#create a function and i will write it once but execute it many times "
   ]
  },
  {
   "cell_type": "code",
   "execution_count": null,
   "id": "58b2fd52",
   "metadata": {},
   "outputs": [],
   "source": [
    "#addition of 2 numbers using function: "
   ]
  },
  {
   "cell_type": "code",
   "execution_count": 3,
   "id": "baa86483",
   "metadata": {},
   "outputs": [],
   "source": [
    "def rahul():\n",
    "    print ('I stay in New Delhi')"
   ]
  },
  {
   "cell_type": "code",
   "execution_count": 4,
   "id": "cb7c7008",
   "metadata": {},
   "outputs": [
    {
     "name": "stdout",
     "output_type": "stream",
     "text": [
      "I stay in New Delhi\n"
     ]
    }
   ],
   "source": [
    "rahul()   #i am calling a function name rahul"
   ]
  },
  {
   "cell_type": "code",
   "execution_count": 5,
   "id": "d18201ca",
   "metadata": {},
   "outputs": [],
   "source": [
    "def rahul():\n",
    "    print(a+b)"
   ]
  },
  {
   "cell_type": "code",
   "execution_count": 6,
   "id": "aadf1a69",
   "metadata": {},
   "outputs": [
    {
     "name": "stdout",
     "output_type": "stream",
     "text": [
      "168\n"
     ]
    }
   ],
   "source": [
    "rahul()"
   ]
  },
  {
   "cell_type": "code",
   "execution_count": 13,
   "id": "ada35b4c",
   "metadata": {},
   "outputs": [],
   "source": [
    "def rahul(c,d):\n",
    "    print(c+d)"
   ]
  },
  {
   "cell_type": "code",
   "execution_count": 14,
   "id": "4cc1d2b1",
   "metadata": {},
   "outputs": [
    {
     "name": "stdout",
     "output_type": "stream",
     "text": [
      "70\n"
     ]
    }
   ],
   "source": [
    "c=30\n",
    "d=40\n",
    "\n",
    "rahul(c,d)"
   ]
  },
  {
   "cell_type": "code",
   "execution_count": null,
   "id": "211a02ea",
   "metadata": {},
   "outputs": [],
   "source": [
    "#now lets write the code :\n"
   ]
  },
  {
   "cell_type": "code",
   "execution_count": 18,
   "id": "8c1646dd",
   "metadata": {},
   "outputs": [],
   "source": [
    "def kiran(a1, b1):\n",
    "    print(a1+b1)"
   ]
  },
  {
   "cell_type": "code",
   "execution_count": 19,
   "id": "37952d0e",
   "metadata": {},
   "outputs": [
    {
     "name": "stdout",
     "output_type": "stream",
     "text": [
      "30\n"
     ]
    }
   ],
   "source": [
    "kiran(10,20)"
   ]
  },
  {
   "cell_type": "code",
   "execution_count": 20,
   "id": "b71de691",
   "metadata": {},
   "outputs": [
    {
     "name": "stdout",
     "output_type": "stream",
     "text": [
      "500\n"
     ]
    }
   ],
   "source": [
    "#again i wl call:\n",
    "kiran(200,300)"
   ]
  },
  {
   "cell_type": "code",
   "execution_count": 21,
   "id": "a818fe7a",
   "metadata": {},
   "outputs": [
    {
     "name": "stdout",
     "output_type": "stream",
     "text": [
      "7\n"
     ]
    }
   ],
   "source": [
    "kiran(2,5)"
   ]
  },
  {
   "cell_type": "code",
   "execution_count": 22,
   "id": "39bb84cf",
   "metadata": {},
   "outputs": [
    {
     "name": "stdout",
     "output_type": "stream",
     "text": [
      "70\n"
     ]
    }
   ],
   "source": [
    "#lets explore more examples : \n",
    "\n",
    "c=30\n",
    "d=40\n",
    "kiran(c,d)"
   ]
  },
  {
   "cell_type": "code",
   "execution_count": 23,
   "id": "e58d9434",
   "metadata": {},
   "outputs": [
    {
     "name": "stdout",
     "output_type": "stream",
     "text": [
      "112\n"
     ]
    }
   ],
   "source": [
    "d=45\n",
    "e=67\n",
    "kiran(d,e)"
   ]
  },
  {
   "cell_type": "code",
   "execution_count": 33,
   "id": "061d0eb3",
   "metadata": {},
   "outputs": [
    {
     "name": "stdout",
     "output_type": "stream",
     "text": [
      "python programming\n"
     ]
    }
   ],
   "source": [
    "a= 'python '\n",
    "b= 'programming'\n",
    "kiran (a , b)"
   ]
  },
  {
   "cell_type": "code",
   "execution_count": 34,
   "id": "19df38ea",
   "metadata": {},
   "outputs": [
    {
     "name": "stdout",
     "output_type": "stream",
     "text": [
      "data sc python\n"
     ]
    }
   ],
   "source": [
    "a= 'data sc '\n",
    "b= 'python'\n",
    "\n",
    "kiran (a , b)"
   ]
  },
  {
   "cell_type": "code",
   "execution_count": 43,
   "id": "c08c27c0",
   "metadata": {},
   "outputs": [],
   "source": [
    "# find the odd and even numbers from 1 to 20 using functions  :\n",
    "\n"
   ]
  },
  {
   "cell_type": "code",
   "execution_count": 44,
   "id": "15766ff6",
   "metadata": {},
   "outputs": [],
   "source": [
    "def even_and_odd(starting,ending):\n",
    "    for i in range (starting, ending):\n",
    "        if i % 2 == 0:\n",
    "            print(i, \"even\")\n",
    "        else:\n",
    "            print(i, \"odd\")"
   ]
  },
  {
   "cell_type": "code",
   "execution_count": 45,
   "id": "73c1e914",
   "metadata": {},
   "outputs": [
    {
     "name": "stdout",
     "output_type": "stream",
     "text": [
      "1 odd\n",
      "2 even\n",
      "3 odd\n",
      "4 even\n",
      "5 odd\n",
      "6 even\n",
      "7 odd\n",
      "8 even\n",
      "9 odd\n",
      "10 even\n",
      "11 odd\n",
      "12 even\n",
      "13 odd\n",
      "14 even\n",
      "15 odd\n",
      "16 even\n",
      "17 odd\n",
      "18 even\n",
      "19 odd\n",
      "20 even\n"
     ]
    }
   ],
   "source": [
    "even_and_odd(1, 21)"
   ]
  },
  {
   "cell_type": "code",
   "execution_count": 47,
   "id": "b6a1e05f",
   "metadata": {},
   "outputs": [
    {
     "name": "stdout",
     "output_type": "stream",
     "text": [
      "20 even\n",
      "21 odd\n",
      "22 even\n",
      "23 odd\n",
      "24 even\n",
      "25 odd\n",
      "26 even\n",
      "27 odd\n",
      "28 even\n",
      "29 odd\n",
      "30 even\n",
      "31 odd\n",
      "32 even\n",
      "33 odd\n",
      "34 even\n",
      "35 odd\n",
      "36 even\n",
      "37 odd\n",
      "38 even\n",
      "39 odd\n",
      "40 even\n",
      "41 odd\n",
      "42 even\n",
      "43 odd\n",
      "44 even\n",
      "45 odd\n",
      "46 even\n",
      "47 odd\n",
      "48 even\n",
      "49 odd\n"
     ]
    }
   ],
   "source": [
    "even_and_odd(20, 50)"
   ]
  },
  {
   "cell_type": "code",
   "execution_count": null,
   "id": "0433b919",
   "metadata": {},
   "outputs": [],
   "source": [
    "# please check the function with passing parameters."
   ]
  },
  {
   "cell_type": "code",
   "execution_count": 60,
   "id": "25335d23",
   "metadata": {},
   "outputs": [],
   "source": [
    "#pallindrome with function :\n",
    "\n",
    "def pallindrome(number):\n",
    "    temp=number \n",
    "    count=0\n",
    "    while number > 0 :\n",
    "        res = number % 10\n",
    "        count= (count * 10) + res \n",
    "        number = number // 10 \n",
    "    \n",
    "    if temp == count:\n",
    "        print(count, 'its a pallindrome')\n",
    "    else :\n",
    "        print(count, 'Not a pallindrome')\n",
    "    "
   ]
  },
  {
   "cell_type": "code",
   "execution_count": 58,
   "id": "01ee84d6",
   "metadata": {},
   "outputs": [
    {
     "name": "stdout",
     "output_type": "stream",
     "text": [
      "121 its a pallindrome\n"
     ]
    }
   ],
   "source": [
    "pallindrome(121)"
   ]
  },
  {
   "cell_type": "code",
   "execution_count": 61,
   "id": "0e30d075",
   "metadata": {},
   "outputs": [
    {
     "name": "stdout",
     "output_type": "stream",
     "text": [
      "765 Not a pallindrome\n"
     ]
    }
   ],
   "source": [
    "pallindrome(567)"
   ]
  },
  {
   "cell_type": "code",
   "execution_count": 62,
   "id": "84a1d703",
   "metadata": {},
   "outputs": [
    {
     "name": "stdout",
     "output_type": "stream",
     "text": [
      "789 Not a pallindrome\n"
     ]
    }
   ],
   "source": [
    "pallindrome(987)"
   ]
  },
  {
   "cell_type": "code",
   "execution_count": 65,
   "id": "e1ce018a",
   "metadata": {},
   "outputs": [],
   "source": [
    "#few more examples :\n",
    "\n",
    "\n",
    "def examination(phy=100, maths=50, science= 30):\n",
    "    print(phy,maths,science)"
   ]
  },
  {
   "cell_type": "code",
   "execution_count": 66,
   "id": "f901f12c",
   "metadata": {},
   "outputs": [
    {
     "name": "stdout",
     "output_type": "stream",
     "text": [
      "40 60 80\n"
     ]
    }
   ],
   "source": [
    "examination(phy=40, maths=60, science=80)"
   ]
  },
  {
   "cell_type": "code",
   "execution_count": null,
   "id": "7d1e2320",
   "metadata": {},
   "outputs": [],
   "source": [
    "# def <function_name>(attributes or parameters)\n"
   ]
  },
  {
   "cell_type": "code",
   "execution_count": null,
   "id": "60736c8c",
   "metadata": {},
   "outputs": [],
   "source": [
    "# return keyword : to let a function return a value , use the return statement :  \n",
    "\n"
   ]
  },
  {
   "cell_type": "code",
   "execution_count": 67,
   "id": "5d835ebf",
   "metadata": {},
   "outputs": [
    {
     "name": "stdout",
     "output_type": "stream",
     "text": [
      "256\n"
     ]
    }
   ],
   "source": [
    "def square (number):\n",
    "    print(number*number)\n",
    "square(16)"
   ]
  },
  {
   "cell_type": "code",
   "execution_count": 68,
   "id": "5fde75b1",
   "metadata": {},
   "outputs": [
    {
     "name": "stdout",
     "output_type": "stream",
     "text": [
      "9\n"
     ]
    }
   ],
   "source": [
    "square(3)"
   ]
  },
  {
   "cell_type": "code",
   "execution_count": 69,
   "id": "f129257f",
   "metadata": {},
   "outputs": [
    {
     "name": "stdout",
     "output_type": "stream",
     "text": [
      "625\n"
     ]
    }
   ],
   "source": [
    "square (25)"
   ]
  },
  {
   "cell_type": "code",
   "execution_count": 70,
   "id": "afb3e3a1",
   "metadata": {},
   "outputs": [
    {
     "data": {
      "text/plain": [
       "256"
      ]
     },
     "execution_count": 70,
     "metadata": {},
     "output_type": "execute_result"
    }
   ],
   "source": [
    "#return keyword:\n",
    "\n",
    "def square (number):\n",
    "    return number*number\n",
    "square(16)"
   ]
  },
  {
   "cell_type": "code",
   "execution_count": null,
   "id": "f5614120",
   "metadata": {},
   "outputs": [],
   "source": [
    "#the difference is that if you use print u can use the value generated by function further :\n",
    "#but with return i can use the value. "
   ]
  },
  {
   "cell_type": "code",
   "execution_count": 71,
   "id": "934392ba",
   "metadata": {},
   "outputs": [
    {
     "name": "stdout",
     "output_type": "stream",
     "text": [
      "256\n"
     ]
    }
   ],
   "source": [
    "def square (number):\n",
    "    print(number*number)\n",
    "square(16)"
   ]
  },
  {
   "cell_type": "code",
   "execution_count": 75,
   "id": "6d746d67",
   "metadata": {},
   "outputs": [],
   "source": [
    "#using return i can use the result :\n",
    "\n",
    "def square(number):\n",
    "    return number*number \n"
   ]
  },
  {
   "cell_type": "code",
   "execution_count": 76,
   "id": "1f2ac60a",
   "metadata": {},
   "outputs": [],
   "source": [
    "sol = square (25)"
   ]
  },
  {
   "cell_type": "code",
   "execution_count": 77,
   "id": "68d134c7",
   "metadata": {},
   "outputs": [
    {
     "name": "stdout",
     "output_type": "stream",
     "text": [
      "625\n"
     ]
    }
   ],
   "source": [
    "print (sol)"
   ]
  },
  {
   "cell_type": "code",
   "execution_count": 78,
   "id": "aa361fcf",
   "metadata": {},
   "outputs": [
    {
     "name": "stdout",
     "output_type": "stream",
     "text": [
      "odd\n"
     ]
    }
   ],
   "source": [
    "if sol%2 == 0 :\n",
    "    print('even')\n",
    "else:\n",
    "    print('odd')"
   ]
  },
  {
   "cell_type": "code",
   "execution_count": null,
   "id": "bf0e9197",
   "metadata": {},
   "outputs": [],
   "source": [
    "# retuen with multiple parameters : \n",
    "# square and add   "
   ]
  },
  {
   "cell_type": "code",
   "execution_count": 115,
   "id": "5b153d28",
   "metadata": {},
   "outputs": [],
   "source": [
    "def square(a , b):\n",
    "    value_1= a*a\n",
    "    value_2= b*b\n",
    "    \n",
    "    return value_1 , value_2"
   ]
  },
  {
   "cell_type": "code",
   "execution_count": 116,
   "id": "3ce3dbbb",
   "metadata": {},
   "outputs": [],
   "source": [
    "first , second = square(10, 20)"
   ]
  },
  {
   "cell_type": "code",
   "execution_count": 117,
   "id": "71f47d87",
   "metadata": {},
   "outputs": [
    {
     "name": "stdout",
     "output_type": "stream",
     "text": [
      "500\n"
     ]
    }
   ],
   "source": [
    "print(first+second)"
   ]
  },
  {
   "cell_type": "code",
   "execution_count": 118,
   "id": "5af59687",
   "metadata": {},
   "outputs": [
    {
     "name": "stdout",
     "output_type": "stream",
     "text": [
      "4\n"
     ]
    }
   ],
   "source": [
    "print(second//first)"
   ]
  },
  {
   "cell_type": "code",
   "execution_count": null,
   "id": "124c9091",
   "metadata": {},
   "outputs": [],
   "source": [
    "#will take a list of values and find out how many are divisble by 2 and 3 and then add them\n"
   ]
  },
  {
   "cell_type": "code",
   "execution_count": 109,
   "id": "c62b1492",
   "metadata": {},
   "outputs": [],
   "source": [
    "def use_case(a):\n",
    "    count_2= 0\n",
    "    count_3= 0\n",
    "    for i in a:\n",
    "        if i % 2 == 0:\n",
    "            count_2 = count_2 + i\n",
    "    for j in a:\n",
    "        if j % 2 == 0:\n",
    "            count_3 = count_3 + j\n",
    "    return count_2 , count_3         "
   ]
  },
  {
   "cell_type": "code",
   "execution_count": 110,
   "id": "d18eddec",
   "metadata": {},
   "outputs": [
    {
     "name": "stdout",
     "output_type": "stream",
     "text": [
      "756\n"
     ]
    }
   ],
   "source": [
    "a = [1,2,3,4,5,6,7,8,9,10,158,12,16,20,25,27,30,34,38,40]\n",
    "\n",
    "sol_1 , sol_2 = use_case(a)\n",
    "print (sol_1 + sol_2)\n"
   ]
  },
  {
   "cell_type": "code",
   "execution_count": 111,
   "id": "7d2e58e7",
   "metadata": {},
   "outputs": [
    {
     "name": "stdout",
     "output_type": "stream",
     "text": [
      "580\n"
     ]
    }
   ],
   "source": [
    "a = [10,20,30,50,60,80,40]\n",
    "\n",
    "sol_1 , sol_2 = use_case(a)\n",
    "print (sol_1 + sol_2)\n",
    "\n"
   ]
  },
  {
   "cell_type": "code",
   "execution_count": null,
   "id": "e3e396bb",
   "metadata": {},
   "outputs": [],
   "source": [
    "#find the count of each character in your own name using functions and output should be in dictionaries:\n",
    "\n",
    "#input - 'Abhisek'\n",
    "\n",
    "#output- {'A':2,'b':1,'h':1,'i':2,'s':1,'e':1,'k':1, '':1 ,'p':1 ,'n':1}\n"
   ]
  },
  {
   "cell_type": "code",
   "execution_count": 8,
   "id": "b7a0e673",
   "metadata": {},
   "outputs": [
    {
     "name": "stdout",
     "output_type": "stream",
     "text": [
      "{'k': 100}\n"
     ]
    }
   ],
   "source": [
    "a = {}\n",
    "a['k'] = 100\n",
    "print(a)"
   ]
  },
  {
   "cell_type": "code",
   "execution_count": 9,
   "id": "f3b832c7",
   "metadata": {},
   "outputs": [
    {
     "data": {
      "text/plain": [
       "dict_keys(['k'])"
      ]
     },
     "execution_count": 9,
     "metadata": {},
     "output_type": "execute_result"
    }
   ],
   "source": [
    "a.keys()"
   ]
  },
  {
   "cell_type": "code",
   "execution_count": 22,
   "id": "3cf345a7",
   "metadata": {},
   "outputs": [],
   "source": [
    "def excercise(a):\n",
    "    empty_dict = {}\n",
    "    for i in a :\n",
    "        if i in empty_dict.keys():\n",
    "            empty_dict[i] = empty_dict[i] + 1\n",
    "        else:\n",
    "            empty_dict[i] = 1\n",
    "            \n",
    "        return empty_dict\n",
    "            "
   ]
  },
  {
   "cell_type": "code",
   "execution_count": 23,
   "id": "122fa8c7",
   "metadata": {},
   "outputs": [
    {
     "name": "stdout",
     "output_type": "stream",
     "text": [
      "{'a': 1}\n"
     ]
    }
   ],
   "source": [
    "a = 'abhisek pani'\n",
    "result = exercise(a)\n",
    "\n",
    "print (result)"
   ]
  },
  {
   "cell_type": "code",
   "execution_count": 25,
   "id": "029d38c8",
   "metadata": {},
   "outputs": [
    {
     "name": "stdout",
     "output_type": "stream",
     "text": [
      "True\n"
     ]
    }
   ],
   "source": [
    "## not and or in : keywords\n",
    "\n",
    "a= 'abhisek'\n",
    "print('j' not in a)"
   ]
  },
  {
   "cell_type": "code",
   "execution_count": 26,
   "id": "1f349a02",
   "metadata": {},
   "outputs": [
    {
     "name": "stdout",
     "output_type": "stream",
     "text": [
      "False\n"
     ]
    }
   ],
   "source": [
    "a= 'abhisek'\n",
    "print('b' not in a)"
   ]
  },
  {
   "cell_type": "code",
   "execution_count": null,
   "id": "ad9ba1c6",
   "metadata": {},
   "outputs": [],
   "source": [
    "# and means both condition should satisfy \n",
    "# or means any of the condition must satisfy "
   ]
  },
  {
   "cell_type": "code",
   "execution_count": 27,
   "id": "ce6fff8d",
   "metadata": {},
   "outputs": [
    {
     "name": "stdout",
     "output_type": "stream",
     "text": [
      "2\n",
      "4\n",
      "6\n",
      "8\n",
      "10\n"
     ]
    }
   ],
   "source": [
    "# find the numbers divisible by 2 and 3 :\n",
    "\n",
    "for i in range(1,11):\n",
    "    if i % 2 == 0:\n",
    "        print(i)"
   ]
  },
  {
   "cell_type": "code",
   "execution_count": 33,
   "id": "e042e5de",
   "metadata": {},
   "outputs": [
    {
     "name": "stdout",
     "output_type": "stream",
     "text": [
      "6\n"
     ]
    }
   ],
   "source": [
    "for i in range (1,11):\n",
    "    if i % 2==0 and i % 3 == 0:\n",
    "        print(i)"
   ]
  },
  {
   "cell_type": "code",
   "execution_count": 32,
   "id": "ab491e43",
   "metadata": {},
   "outputs": [
    {
     "name": "stdout",
     "output_type": "stream",
     "text": [
      "2\n",
      "3\n",
      "4\n",
      "6\n",
      "8\n",
      "9\n",
      "10\n",
      "12\n",
      "14\n"
     ]
    }
   ],
   "source": [
    "for i in range (1,15):\n",
    "    if i%2== 0 or i%3 == 0:\n",
    "        print(i)"
   ]
  },
  {
   "cell_type": "code",
   "execution_count": 34,
   "id": "f0ae19c1",
   "metadata": {},
   "outputs": [
    {
     "name": "stdout",
     "output_type": "stream",
     "text": [
      "15\n",
      "30\n",
      "45\n"
     ]
    }
   ],
   "source": [
    "# from 12 to 51, find the numbers divisible by 3 and 5:\n",
    "\n",
    "for i in range (12,51):\n",
    "    if i%3 == 0 and i%5 == 0 :\n",
    "        print(i)"
   ]
  },
  {
   "cell_type": "code",
   "execution_count": 35,
   "id": "5cd7cb2b",
   "metadata": {},
   "outputs": [
    {
     "name": "stdout",
     "output_type": "stream",
     "text": [
      "12\n",
      "15\n",
      "18\n",
      "20\n",
      "21\n",
      "24\n",
      "25\n",
      "27\n",
      "30\n",
      "33\n",
      "35\n",
      "36\n",
      "39\n",
      "40\n",
      "42\n",
      "45\n",
      "48\n",
      "50\n"
     ]
    }
   ],
   "source": [
    "for i in range (12,51):\n",
    "    if i%3 == 0 or i%5 == 0 :\n",
    "        print(i)"
   ]
  },
  {
   "cell_type": "markdown",
   "id": "a4c326a7",
   "metadata": {},
   "source": [
    "# lambda Functions"
   ]
  },
  {
   "cell_type": "code",
   "execution_count": null,
   "id": "bedc5b2d",
   "metadata": {},
   "outputs": [],
   "source": [
    "#for normal function we need to use function name \n",
    "#but lamda function has no function name. \n",
    "#lambda finction is an ananymous function: there will be no function name \n",
    "#lambda function syntax will be [lambda arguments : expressions]\n",
    "#both function and lamda function is same  but l.f. has no function name and we need to write the code in a single line which is very difficult.\n",
    "#official documentation : https://docs.python.org/3/reference/expressions.html\n",
    "\n"
   ]
  },
  {
   "cell_type": "code",
   "execution_count": 37,
   "id": "99259aaf",
   "metadata": {},
   "outputs": [
    {
     "data": {
      "text/plain": [
       "200"
      ]
     },
     "execution_count": 37,
     "metadata": {},
     "output_type": "execute_result"
    }
   ],
   "source": [
    "sol= lambda x , y : x*y \n",
    "\n",
    "a=10\n",
    "b=20\n",
    "sol(a,b)"
   ]
  },
  {
   "cell_type": "code",
   "execution_count": 39,
   "id": "2ccd284d",
   "metadata": {},
   "outputs": [
    {
     "data": {
      "text/plain": [
       "0.5"
      ]
     },
     "execution_count": 39,
     "metadata": {},
     "output_type": "execute_result"
    }
   ],
   "source": [
    "sol= lambda x , y : x/y \n",
    "\n",
    "a=10\n",
    "b=20\n",
    "sol(a,b)"
   ]
  },
  {
   "cell_type": "code",
   "execution_count": 57,
   "id": "1f17d6e8",
   "metadata": {},
   "outputs": [
    {
     "data": {
      "text/plain": [
       "125"
      ]
     },
     "execution_count": 57,
     "metadata": {},
     "output_type": "execute_result"
    }
   ],
   "source": [
    "# find the cube of number \n",
    "\n",
    "sol = lambda x : pow (5,3)\n",
    "number=5\n",
    "sol(number)"
   ]
  },
  {
   "cell_type": "code",
   "execution_count": 59,
   "id": "c54c4bfb",
   "metadata": {},
   "outputs": [
    {
     "ename": "SyntaxError",
     "evalue": "Missing parentheses in call to 'print'. Did you mean print(...)? (2123750691.py, line 3)",
     "output_type": "error",
     "traceback": [
      "\u001b[1;36m  Cell \u001b[1;32mIn[59], line 3\u001b[1;36m\u001b[0m\n\u001b[1;33m    sol= lambda x : print x for i in range (x)\u001b[0m\n\u001b[1;37m                    ^\u001b[0m\n\u001b[1;31mSyntaxError\u001b[0m\u001b[1;31m:\u001b[0m Missing parentheses in call to 'print'. Did you mean print(...)?\n"
     ]
    }
   ],
   "source": [
    "# for loop using lambda :\n",
    "\n",
    "sol= lambda x : print x for i in range (x)\n",
    "\n",
    "number=100\n",
    "sol(number)\n"
   ]
  },
  {
   "cell_type": "code",
   "execution_count": null,
   "id": "f9de1bcc",
   "metadata": {},
   "outputs": [],
   "source": [
    "# write 2 table using functions and lambda function :\n",
    "\n",
    "#2*1=2\n",
    "#2*2=4 \n",
    "..\n",
    "...\n",
    "#2*10=20"
   ]
  },
  {
   "cell_type": "code",
   "execution_count": 64,
   "id": "e8e77eed",
   "metadata": {},
   "outputs": [],
   "source": [
    "#functions :\n",
    "\n",
    "def table(number):\n",
    "    for i in range(1,11):\n",
    "        print(number,'*',i,'=',number*i)\n",
    "\n"
   ]
  },
  {
   "cell_type": "code",
   "execution_count": 65,
   "id": "695f041b",
   "metadata": {},
   "outputs": [
    {
     "name": "stdout",
     "output_type": "stream",
     "text": [
      "2 * 1 = 2\n",
      "2 * 2 = 4\n",
      "2 * 3 = 6\n",
      "2 * 4 = 8\n",
      "2 * 5 = 10\n",
      "2 * 6 = 12\n",
      "2 * 7 = 14\n",
      "2 * 8 = 16\n",
      "2 * 9 = 18\n",
      "2 * 10 = 20\n"
     ]
    }
   ],
   "source": [
    "table(number=2)"
   ]
  },
  {
   "cell_type": "code",
   "execution_count": 76,
   "id": "8a64aa85",
   "metadata": {},
   "outputs": [],
   "source": [
    "# same but with lambda function :"
   ]
  },
  {
   "cell_type": "code",
   "execution_count": 75,
   "id": "39ce4baf",
   "metadata": {},
   "outputs": [
    {
     "name": "stdout",
     "output_type": "stream",
     "text": [
      "2 * 1 = 2\n",
      "2 * 2 = 4\n",
      "2 * 3 = 6\n",
      "2 * 4 = 8\n",
      "2 * 5 = 10\n",
      "2 * 6 = 12\n",
      "2 * 7 = 14\n",
      "2 * 8 = 16\n",
      "2 * 9 = 18\n",
      "2 * 10 = 20\n"
     ]
    }
   ],
   "source": [
    "sol = lambda x , y : x*y \n",
    "\n",
    "number = 2 \n",
    "for i in range (1,11):\n",
    "    print(number,\"*\",i,\"=\", sol(number,i))"
   ]
  },
  {
   "cell_type": "code",
   "execution_count": null,
   "id": "48e9024e",
   "metadata": {},
   "outputs": [],
   "source": []
  },
  {
   "cell_type": "code",
   "execution_count": null,
   "id": "dacdb656",
   "metadata": {},
   "outputs": [],
   "source": []
  },
  {
   "cell_type": "code",
   "execution_count": null,
   "id": "33162c05",
   "metadata": {},
   "outputs": [],
   "source": []
  },
  {
   "cell_type": "code",
   "execution_count": null,
   "id": "f38cb4f6",
   "metadata": {},
   "outputs": [],
   "source": []
  },
  {
   "cell_type": "code",
   "execution_count": null,
   "id": "4a9643f0",
   "metadata": {},
   "outputs": [],
   "source": []
  }
 ],
 "metadata": {
  "kernelspec": {
   "display_name": "Python 3 (ipykernel)",
   "language": "python",
   "name": "python3"
  },
  "language_info": {
   "codemirror_mode": {
    "name": "ipython",
    "version": 3
   },
   "file_extension": ".py",
   "mimetype": "text/x-python",
   "name": "python",
   "nbconvert_exporter": "python",
   "pygments_lexer": "ipython3",
   "version": "3.10.9"
  }
 },
 "nbformat": 4,
 "nbformat_minor": 5
}
