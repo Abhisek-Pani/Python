{
 "cells": [
  {
   "cell_type": "markdown",
   "id": "2b6e2f3e",
   "metadata": {},
   "source": [
    "### Data_types"
   ]
  },
  {
   "cell_type": "code",
   "execution_count": 4,
   "id": "c16bce65",
   "metadata": {},
   "outputs": [
    {
     "data": {
      "text/plain": [
       "64"
      ]
     },
     "execution_count": 4,
     "metadata": {},
     "output_type": "execute_result"
    }
   ],
   "source": [
    "a = 30 \n",
    "b = 34\n",
    "a+b"
   ]
  },
  {
   "cell_type": "code",
   "execution_count": 5,
   "id": "d29ef6ef",
   "metadata": {},
   "outputs": [
    {
     "name": "stdout",
     "output_type": "stream",
     "text": [
      "30\n"
     ]
    }
   ],
   "source": [
    "print(a)"
   ]
  },
  {
   "cell_type": "code",
   "execution_count": null,
   "id": "b7d8cbfe",
   "metadata": {},
   "outputs": [],
   "source": [
    "a=50\n"
   ]
  },
  {
   "cell_type": "code",
   "execution_count": 6,
   "id": "cf4c33c2",
   "metadata": {},
   "outputs": [
    {
     "name": "stdout",
     "output_type": "stream",
     "text": [
      "30\n"
     ]
    }
   ],
   "source": [
    "print(a)"
   ]
  },
  {
   "cell_type": "code",
   "execution_count": 7,
   "id": "8e4e0741",
   "metadata": {},
   "outputs": [
    {
     "name": "stdout",
     "output_type": "stream",
     "text": [
      "<class 'int'>\n"
     ]
    }
   ],
   "source": [
    "print(type(a))"
   ]
  },
  {
   "cell_type": "code",
   "execution_count": 8,
   "id": "7e600a4a",
   "metadata": {},
   "outputs": [
    {
     "name": "stdout",
     "output_type": "stream",
     "text": [
      "45.9\n",
      "<class 'int'>\n"
     ]
    }
   ],
   "source": [
    "b=45.90\n",
    "print(b)\n",
    "print(type(a))"
   ]
  },
  {
   "cell_type": "code",
   "execution_count": 15,
   "id": "962bf7aa",
   "metadata": {},
   "outputs": [
    {
     "name": "stdout",
     "output_type": "stream",
     "text": [
      "football\n",
      "<class 'str'>\n"
     ]
    }
   ],
   "source": [
    "c= 'football' \n",
    "print(c)\n",
    "print(type(c))"
   ]
  },
  {
   "cell_type": "markdown",
   "id": "115a131e",
   "metadata": {},
   "source": [
    "# Variable_Rules"
   ]
  },
  {
   "cell_type": "code",
   "execution_count": 17,
   "id": "753b8af3",
   "metadata": {},
   "outputs": [
    {
     "name": "stdout",
     "output_type": "stream",
     "text": [
      "78\n"
     ]
    }
   ],
   "source": [
    "#if you want to start with numbetr then use underscore:\n",
    "_15b=78\n",
    "print(_15b)"
   ]
  },
  {
   "cell_type": "code",
   "execution_count": 25,
   "id": "7bf13d90",
   "metadata": {},
   "outputs": [
    {
     "name": "stdout",
     "output_type": "stream",
     "text": [
      "54\n"
     ]
    }
   ],
   "source": [
    "#no space in variables; if you want then use underscore to connect them\n",
    "Amir_khan_age = 54\n",
    "print(Amir_khan_age)\n",
    "\n"
   ]
  },
  {
   "cell_type": "code",
   "execution_count": null,
   "id": "4ec9abf5",
   "metadata": {},
   "outputs": [],
   "source": [
    "# PYTHON IS A CASE SENSITIVE LANGUAGE \n",
    "#variables are case sensitive\n",
    "\n"
   ]
  },
  {
   "cell_type": "code",
   "execution_count": 29,
   "id": "d002ddb7",
   "metadata": {},
   "outputs": [
    {
     "data": {
      "text/plain": [
       "'!\"#$%&\\'()*+,-./:;<=>?@[\\\\]^_`{|}~'"
      ]
     },
     "execution_count": 29,
     "metadata": {},
     "output_type": "execute_result"
    }
   ],
   "source": [
    "import string\n",
    "string.punctuation"
   ]
  },
  {
   "cell_type": "code",
   "execution_count": null,
   "id": "37a7fbb5",
   "metadata": {},
   "outputs": [],
   "source": [
    "#Dont use this '!\"#$%&\\'()*+,-./:;<=>?@[\\\\]^_`{|} as variables\n"
   ]
  },
  {
   "cell_type": "code",
   "execution_count": 30,
   "id": "44499844",
   "metadata": {},
   "outputs": [
    {
     "name": "stdout",
     "output_type": "stream",
     "text": [
      "152\n"
     ]
    }
   ],
   "source": [
    "Ashutosh_pani_height = 152\n",
    "print(Ashutosh_pani_height)"
   ]
  },
  {
   "cell_type": "markdown",
   "id": "b9cf1dd7",
   "metadata": {},
   "source": [
    "### Deep dive into print condition"
   ]
  },
  {
   "cell_type": "code",
   "execution_count": 32,
   "id": "fd86fc46",
   "metadata": {},
   "outputs": [
    {
     "name": "stdout",
     "output_type": "stream",
     "text": [
      "Abhisek\n"
     ]
    }
   ],
   "source": [
    "print('Abhisek')"
   ]
  },
  {
   "cell_type": "code",
   "execution_count": 33,
   "id": "99c48b58",
   "metadata": {},
   "outputs": [
    {
     "name": "stdout",
     "output_type": "stream",
     "text": [
      " I want to learn python\n"
     ]
    }
   ],
   "source": [
    "# WE CAN '', \"\", \"\"\" \"\"\" in python version 3\n",
    "a= \"\"\" I want to learn python\"\"\"\n",
    "print(a)"
   ]
  },
  {
   "cell_type": "code",
   "execution_count": 43,
   "id": "1daaef36",
   "metadata": {},
   "outputs": [
    {
     "name": "stdout",
     "output_type": "stream",
     "text": [
      "I am learning datanalytics from Coursera in offline mode\n"
     ]
    }
   ],
   "source": [
    "# connect variable with print condition:\n",
    "\n",
    "course='datanalytics'\n",
    "platform='Coursera'\n",
    "access='offline'\n",
    "\n",
    "print('I am learning',course,'from',platform,'in',access,'mode')\n",
    "\n",
    "\n"
   ]
  },
  {
   "cell_type": "markdown",
   "id": "12df209a",
   "metadata": {},
   "source": [
    "### Data type Conversion"
   ]
  },
  {
   "cell_type": "code",
   "execution_count": 59,
   "id": "0286675b",
   "metadata": {},
   "outputs": [
    {
     "name": "stdout",
     "output_type": "stream",
     "text": [
      "Age= 26\n",
      "my age is 26.0\n"
     ]
    }
   ],
   "source": [
    "# we can use + to connect print'' with variables but with variable only in string condition\n",
    "\n",
    "a =26\n",
    "print('Age=',age)\n",
    "type(age)\n",
    "b=float (age)\n",
    "print ('my age is',b)"
   ]
  },
  {
   "cell_type": "code",
   "execution_count": 65,
   "id": "3d79baa3",
   "metadata": {},
   "outputs": [
    {
     "name": "stdout",
     "output_type": "stream",
     "text": [
      "56.8\n",
      "<class 'float'>\n",
      "56\n",
      "<class 'int'>\n"
     ]
    }
   ],
   "source": [
    "a=56.8\n",
    "print(a)\n",
    "print(type(a))\n",
    "b=int(a)\n",
    "print(b)\n",
    "print(type(b))"
   ]
  },
  {
   "cell_type": "markdown",
   "id": "7fbb8065",
   "metadata": {},
   "source": [
    "### int and float to string :"
   ]
  },
  {
   "cell_type": "code",
   "execution_count": 67,
   "id": "40d4ec2b",
   "metadata": {},
   "outputs": [
    {
     "name": "stdout",
     "output_type": "stream",
     "text": [
      "20\n",
      "<class 'str'>\n"
     ]
    }
   ],
   "source": [
    "a= 20\n",
    "b=str(a)\n",
    "print(b)\n",
    "print(type(b))"
   ]
  },
  {
   "cell_type": "markdown",
   "id": "159ea499",
   "metadata": {},
   "source": [
    "# string to int and float"
   ]
  },
  {
   "cell_type": "code",
   "execution_count": 68,
   "id": "537a7bfe",
   "metadata": {},
   "outputs": [
    {
     "name": "stdout",
     "output_type": "stream",
     "text": [
      "<class 'str'>\n",
      "<class 'float'>\n",
      "20.0\n"
     ]
    }
   ],
   "source": [
    "#string to int only when there is only numbers not text\n",
    "a='20'\n",
    "print(type(a))\n",
    "b=float(a)\n",
    "print(type(b))\n",
    "print(b)"
   ]
  },
  {
   "cell_type": "code",
   "execution_count": null,
   "id": "98e98b0f",
   "metadata": {},
   "outputs": [],
   "source": [
    "# + used in conneicting variables"
   ]
  },
  {
   "cell_type": "code",
   "execution_count": 75,
   "id": "a48d519d",
   "metadata": {},
   "outputs": [
    {
     "name": "stdout",
     "output_type": "stream",
     "text": [
      "my height is 156\n"
     ]
    }
   ],
   "source": [
    "height=156\n",
    "print('my height is',str(height))"
   ]
  },
  {
   "cell_type": "code",
   "execution_count": 109,
   "id": "131b0001",
   "metadata": {},
   "outputs": [
    {
     "name": "stdout",
     "output_type": "stream",
     "text": [
      "I spend 50 rs out of my 100.2 rs in panipuri every month.\n",
      "I spend 50 rs out of my 100.2 rs in panipuri every month.\n",
      "I spend 50 rs out of my 100.2 rs in panipuri every month. \n"
     ]
    }
   ],
   "source": [
    "Salary=100.20\n",
    "spend=50\n",
    "food= 'panipuri'\n",
    "\n",
    "#output: I spend 50 rs out of my 100.20 rs in panipuri every month.\n",
    "print('I spend '+str(spend)+' '+'rs'+' '+'out of my'+' '+str(Salary)+' '+'rs'+' '+'in'+' '+ food+' '+'every month.')\n",
    "print('I spend',str(spend),'rs','out of my',str(Salary),'rs','in',food,'every month.')\n",
    "print(f'I spend {spend} rs out of my {Salary} rs in {food} every month. ')\n"
   ]
  },
  {
   "cell_type": "code",
   "execution_count": 104,
   "id": "ed3763f0",
   "metadata": {},
   "outputs": [
    {
     "name": "stdout",
     "output_type": "stream",
     "text": [
      "My score was 50.905600 \n",
      "I spend 20.300000 rs in AI that too for 5 hrs\n"
     ]
    }
   ],
   "source": [
    "# % {not good in real time as it consumes a lot of space}\n",
    "\n",
    "average= 50.9056\n",
    "print('My score was %f ' %(average))\n",
    "\n",
    "spend=20.30\n",
    "course='AI'\n",
    "time=5\n",
    "\n",
    "#output: I spend 20.30 rs in AI that too for 5 hrs\n",
    "print('I spend %f rs in %s that too for %d hrs'%(spend,course,time))"
   ]
  },
  {
   "cell_type": "code",
   "execution_count": 107,
   "id": "4238fdb1",
   "metadata": {},
   "outputs": [
    {
     "name": "stdout",
     "output_type": "stream",
     "text": [
      "My age is 56\n"
     ]
    }
   ],
   "source": [
    "### Important {f''---> formating technique} Most used...\n",
    "age=56\n",
    "\n",
    "print(f'My age is {age}')"
   ]
  },
  {
   "cell_type": "code",
   "execution_count": null,
   "id": "da9aec2b",
   "metadata": {},
   "outputs": [],
   "source": [
    "Salary=100.20\n",
    "spend=50\n",
    "food= 'panipuri'\n",
    "\n",
    "#output: I spend 50 rs out of my 100.20 rs in panipuri every month.\n",
    "print('I spend '+str(spend)+' '+'rs'+' '+'out of my'+' '+str(Salary)+' '+'rs'+' '+'in'+' '+ food+' '+'every month.') #by using +\n",
    "print('I spend',str(spend),'rs','out of my',str(Salary),'rs','in',food,'every month.')                         ## using ,\n",
    "print(f'I spend {spend} rs out of my {Salary} rs in {food} every month. ')                                    ### using f'' ....\n"
   ]
  },
  {
   "cell_type": "markdown",
   "id": "9f59df2d",
   "metadata": {},
   "source": [
    "### OPERATORS"
   ]
  },
  {
   "cell_type": "code",
   "execution_count": 112,
   "id": "e601d14f",
   "metadata": {},
   "outputs": [
    {
     "data": {
      "text/plain": [
       "0"
      ]
     },
     "execution_count": 112,
     "metadata": {},
     "output_type": "execute_result"
    }
   ],
   "source": [
    "10//40  ## // floor division ; removes decimal"
   ]
  },
  {
   "cell_type": "code",
   "execution_count": 113,
   "id": "599731a7",
   "metadata": {},
   "outputs": [
    {
     "data": {
      "text/plain": [
       "1"
      ]
     },
     "execution_count": 113,
     "metadata": {},
     "output_type": "execute_result"
    }
   ],
   "source": [
    "21%5  # % gives reminder as output\n"
   ]
  },
  {
   "cell_type": "code",
   "execution_count": 114,
   "id": "52e794b9",
   "metadata": {},
   "outputs": [
    {
     "data": {
      "text/plain": [
       "10077696"
      ]
     },
     "execution_count": 114,
     "metadata": {},
     "output_type": "execute_result"
    }
   ],
   "source": [
    "pow(6,9)  ## pow refers to power function."
   ]
  },
  {
   "cell_type": "code",
   "execution_count": 115,
   "id": "7e9d5d2e",
   "metadata": {},
   "outputs": [
    {
     "data": {
      "text/plain": [
       "168151.25390625"
      ]
     },
     "execution_count": 115,
     "metadata": {},
     "output_type": "execute_result"
    }
   ],
   "source": [
    "pow(4.5,8)"
   ]
  },
  {
   "cell_type": "code",
   "execution_count": 116,
   "id": "217192d2",
   "metadata": {},
   "outputs": [
    {
     "data": {
      "text/plain": [
       "2"
      ]
     },
     "execution_count": 116,
     "metadata": {},
     "output_type": "execute_result"
    }
   ],
   "source": [
    "pow(2,3,3)"
   ]
  },
  {
   "cell_type": "code",
   "execution_count": 119,
   "id": "089ff981",
   "metadata": {},
   "outputs": [
    {
     "data": {
      "text/plain": [
       "False"
      ]
     },
     "execution_count": 119,
     "metadata": {},
     "output_type": "execute_result"
    }
   ],
   "source": [
    "# == ; will return boolean values\n",
    "\n",
    "8==8\n",
    "79==34"
   ]
  },
  {
   "cell_type": "code",
   "execution_count": 118,
   "id": "3f8cc5b7",
   "metadata": {},
   "outputs": [
    {
     "data": {
      "text/plain": [
       "True"
      ]
     },
     "execution_count": 118,
     "metadata": {},
     "output_type": "execute_result"
    }
   ],
   "source": [
    "30!= 25"
   ]
  },
  {
   "cell_type": "code",
   "execution_count": 120,
   "id": "9b3f3736",
   "metadata": {},
   "outputs": [
    {
     "data": {
      "text/plain": [
       "True"
      ]
     },
     "execution_count": 120,
     "metadata": {},
     "output_type": "execute_result"
    }
   ],
   "source": [
    "10>8"
   ]
  },
  {
   "cell_type": "code",
   "execution_count": 121,
   "id": "5ee59d7c",
   "metadata": {},
   "outputs": [
    {
     "data": {
      "text/plain": [
       "False"
      ]
     },
     "execution_count": 121,
     "metadata": {},
     "output_type": "execute_result"
    }
   ],
   "source": [
    "25>30"
   ]
  },
  {
   "cell_type": "code",
   "execution_count": 122,
   "id": "0f020923",
   "metadata": {},
   "outputs": [
    {
     "data": {
      "text/plain": [
       "True"
      ]
     },
     "execution_count": 122,
     "metadata": {},
     "output_type": "execute_result"
    }
   ],
   "source": [
    "25>=25"
   ]
  },
  {
   "cell_type": "code",
   "execution_count": 123,
   "id": "ff9d38b2",
   "metadata": {},
   "outputs": [
    {
     "data": {
      "text/plain": [
       "True"
      ]
     },
     "execution_count": 123,
     "metadata": {},
     "output_type": "execute_result"
    }
   ],
   "source": [
    "30<=29\n",
    "3<20\n",
    "21>=20"
   ]
  },
  {
   "cell_type": "code",
   "execution_count": null,
   "id": "9a0488a3",
   "metadata": {},
   "outputs": [],
   "source": []
  }
 ],
 "metadata": {
  "kernelspec": {
   "display_name": "Python 3 (ipykernel)",
   "language": "python",
   "name": "python3"
  },
  "language_info": {
   "codemirror_mode": {
    "name": "ipython",
    "version": 3
   },
   "file_extension": ".py",
   "mimetype": "text/x-python",
   "name": "python",
   "nbconvert_exporter": "python",
   "pygments_lexer": "ipython3",
   "version": "3.10.9"
  }
 },
 "nbformat": 4,
 "nbformat_minor": 5
}
